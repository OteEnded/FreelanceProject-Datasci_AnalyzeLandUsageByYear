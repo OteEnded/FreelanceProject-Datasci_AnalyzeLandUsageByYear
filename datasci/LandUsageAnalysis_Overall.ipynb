{
 "cells": [
  {
   "cell_type": "code",
   "execution_count": 1,
   "id": "93514b58",
   "metadata": {},
   "outputs": [],
   "source": [
    "import pandas as pd\n",
    "import numpy as np\n",
    "from matplotlib import pyplot as plt"
   ]
  },
  {
   "cell_type": "code",
   "execution_count": 2,
   "id": "9e19240c",
   "metadata": {},
   "outputs": [],
   "source": [
    "# เปิดไฟล์ csv ที่ผ่านการทำความสะอาดข้อมูลจากไฟล์ก่อนหน้า\n",
    "df_66 = pd.read_csv(\"target/data2566.csv\")\n",
    "df_65 = pd.read_csv(\"target/data2565.csv\")"
   ]
  },
  {
   "cell_type": "markdown",
   "id": "22b822e8",
   "metadata": {},
   "source": [
    "## เปรียบเทียบระหว่างปี 2565 และ 2566"
   ]
  },
  {
   "cell_type": "markdown",
   "id": "f13d5f12",
   "metadata": {},
   "source": [
    "### เตรียมข้อมูลสำหรับเปรียบเทียบระหว่างปี 2565 และ 2566"
   ]
  },
  {
   "cell_type": "code",
   "execution_count": 3,
   "id": "ecf11526",
   "metadata": {},
   "outputs": [],
   "source": [
    "# เลือกเลขที่เอกสารสิทธิ์ที่ในปี 2565 เป็นพื้นที่ว่างเปล่า หรือไม่ทำประโยชน์\n",
    "df_wasteland2565 = df_65[df_65[\"type_of_usage\"] == \"wasteland\"]\n",
    "df_wasteland2565 = df_wasteland2565[['location_id', 'type_of_usage']] \n",
    "df_wasteland2565 = df_wasteland2565.set_index(\"location_id\")"
   ]
  },
  {
   "cell_type": "code",
   "execution_count": 4,
   "id": "240ae053",
   "metadata": {},
   "outputs": [],
   "source": [
    "# เลือกเลขที่เอกสารสิทธิ์ที่ในปี 2566 ทั้งหมดเพื่อดูลักษณะการใช้ประโยชน์\n",
    "type_of_usage2566 = df_66\n",
    "type_of_usage2566 = type_of_usage2566[['location_id', 'type_of_usage']] \n",
    "type_of_usage2566 = type_of_usage2566.set_index(\"location_id\")"
   ]
  },
  {
   "cell_type": "markdown",
   "id": "e444e20a",
   "metadata": {},
   "source": [
    "### เปรียบเทียบในปี 2565 พื้นที่ว่างเปล่า หรือไม่ทำประโยชน์มีความเปลี่ยนแปลงลักษณะการประโยชน์หรือไม่"
   ]
  },
  {
   "cell_type": "code",
   "execution_count": 5,
   "id": "71c5e81c",
   "metadata": {},
   "outputs": [],
   "source": [
    "# นำเลขที่เอกสิทธิ์ในปี 2565 และ 2566 มารวมเข้ากัน\n",
    "merged_df = pd.merge(df_wasteland2565, type_of_usage2566, left_index=True, right_index=True, how='inner')"
   ]
  },
  {
   "cell_type": "markdown",
   "id": "ab1485eb",
   "metadata": {},
   "source": [
    "#### รายงานผล"
   ]
  },
  {
   "cell_type": "markdown",
   "id": "3828b609",
   "metadata": {},
   "source": [
    "พบว่าในปี 2565 มีพื้นที่ว่างเปล่า หรือไม่ทำประโยชน์ 482 พื้นที่ ที่ในปี 2566 ยังคงยื่นเลขที่เอกสารสิทธิ์"
   ]
  },
  {
   "cell_type": "code",
   "execution_count": 6,
   "id": "dc9af78c",
   "metadata": {},
   "outputs": [
    {
     "data": {
      "text/plain": [
       "482"
      ]
     },
     "execution_count": 6,
     "metadata": {},
     "output_type": "execute_result"
    }
   ],
   "source": [
    "len(merged_df)"
   ]
  },
  {
   "cell_type": "markdown",
   "id": "d5832bb7",
   "metadata": {},
   "source": [
    "จากการทดลองด้านล่างจะพบว่าในปีจากพื้นที่ว่างเปล่า หรือไม่ทำประโยชน์ในปี 2565 เพิ่มขึ้นถึง 72 พื้นที่ในปี 2566 คิดเป็น 14.9378 เปอร์เซ็น"
   ]
  },
  {
   "cell_type": "code",
   "execution_count": 7,
   "id": "0afbe777",
   "metadata": {},
   "outputs": [
    {
     "data": {
      "text/html": [
       "<div>\n",
       "<style scoped>\n",
       "    .dataframe tbody tr th:only-of-type {\n",
       "        vertical-align: middle;\n",
       "    }\n",
       "\n",
       "    .dataframe tbody tr th {\n",
       "        vertical-align: top;\n",
       "    }\n",
       "\n",
       "    .dataframe thead th {\n",
       "        text-align: right;\n",
       "    }\n",
       "</style>\n",
       "<table border=\"1\" class=\"dataframe\">\n",
       "  <thead>\n",
       "    <tr style=\"text-align: right;\">\n",
       "      <th></th>\n",
       "      <th>type_of_usage_x</th>\n",
       "      <th>type_of_usage_y</th>\n",
       "    </tr>\n",
       "    <tr>\n",
       "      <th>location_id</th>\n",
       "      <th></th>\n",
       "      <th></th>\n",
       "    </tr>\n",
       "  </thead>\n",
       "  <tbody>\n",
       "    <tr>\n",
       "      <th>01E040</th>\n",
       "      <td>wasteland</td>\n",
       "      <td>agriculture</td>\n",
       "    </tr>\n",
       "    <tr>\n",
       "      <th>02D074</th>\n",
       "      <td>wasteland</td>\n",
       "      <td>agriculture</td>\n",
       "    </tr>\n",
       "    <tr>\n",
       "      <th>02D075</th>\n",
       "      <td>wasteland</td>\n",
       "      <td>agriculture</td>\n",
       "    </tr>\n",
       "    <tr>\n",
       "      <th>02D080</th>\n",
       "      <td>wasteland</td>\n",
       "      <td>agriculture</td>\n",
       "    </tr>\n",
       "    <tr>\n",
       "      <th>02D081</th>\n",
       "      <td>wasteland</td>\n",
       "      <td>agriculture</td>\n",
       "    </tr>\n",
       "    <tr>\n",
       "      <th>...</th>\n",
       "      <td>...</td>\n",
       "      <td>...</td>\n",
       "    </tr>\n",
       "    <tr>\n",
       "      <th>06J035</th>\n",
       "      <td>wasteland</td>\n",
       "      <td>agriculture</td>\n",
       "    </tr>\n",
       "    <tr>\n",
       "      <th>06J045</th>\n",
       "      <td>wasteland</td>\n",
       "      <td>agriculture</td>\n",
       "    </tr>\n",
       "    <tr>\n",
       "      <th>06J071</th>\n",
       "      <td>wasteland</td>\n",
       "      <td>agriculture</td>\n",
       "    </tr>\n",
       "    <tr>\n",
       "      <th>06J091</th>\n",
       "      <td>wasteland</td>\n",
       "      <td>agriculture</td>\n",
       "    </tr>\n",
       "    <tr>\n",
       "      <th>06K005</th>\n",
       "      <td>wasteland</td>\n",
       "      <td>agriculture</td>\n",
       "    </tr>\n",
       "  </tbody>\n",
       "</table>\n",
       "<p>72 rows × 2 columns</p>\n",
       "</div>"
      ],
      "text/plain": [
       "            type_of_usage_x type_of_usage_y\n",
       "location_id                                \n",
       "01E040            wasteland     agriculture\n",
       "02D074            wasteland     agriculture\n",
       "02D075            wasteland     agriculture\n",
       "02D080            wasteland     agriculture\n",
       "02D081            wasteland     agriculture\n",
       "...                     ...             ...\n",
       "06J035            wasteland     agriculture\n",
       "06J045            wasteland     agriculture\n",
       "06J071            wasteland     agriculture\n",
       "06J091            wasteland     agriculture\n",
       "06K005            wasteland     agriculture\n",
       "\n",
       "[72 rows x 2 columns]"
      ]
     },
     "execution_count": 7,
     "metadata": {},
     "output_type": "execute_result"
    }
   ],
   "source": [
    "merged_df[merged_df[\"type_of_usage_y\"] == \"agriculture\"]"
   ]
  },
  {
   "cell_type": "code",
   "execution_count": 8,
   "id": "23fea7ce",
   "metadata": {},
   "outputs": [
    {
     "data": {
      "text/plain": [
       "72"
      ]
     },
     "execution_count": 8,
     "metadata": {},
     "output_type": "execute_result"
    }
   ],
   "source": [
    "# จำนวนพื้นที่ทำเกษตร\n",
    "len(merged_df[merged_df[\"type_of_usage_y\"] == \"agriculture\"])"
   ]
  },
  {
   "cell_type": "code",
   "execution_count": 9,
   "id": "66cc569d",
   "metadata": {},
   "outputs": [
    {
     "data": {
      "text/plain": [
       "14.937759336099585"
      ]
     },
     "execution_count": 9,
     "metadata": {},
     "output_type": "execute_result"
    }
   ],
   "source": [
    "# เปอร์เซ็นความเปลี่ยนแปลง\n",
    "len(merged_df[merged_df[\"type_of_usage_y\"] == \"agriculture\"]) / len(merged_df) * 100"
   ]
  },
  {
   "cell_type": "markdown",
   "id": "7ece58e3",
   "metadata": {},
   "source": [
    "นอกจากนี้จากพื้นที่ว่างเปล่า หรือไม่ทำประโยชน์ในปี 2566 ยังเปลี่ยนแปลงเป็นพื้นที่อยู่อาศัย 20 พื้นที่ คิดเป็น 4.1494 เปอร์เซ็น"
   ]
  },
  {
   "cell_type": "code",
   "execution_count": 10,
   "id": "5d8f20e2",
   "metadata": {},
   "outputs": [
    {
     "data": {
      "text/plain": [
       "20"
      ]
     },
     "execution_count": 10,
     "metadata": {},
     "output_type": "execute_result"
    }
   ],
   "source": [
    "# จำนวนพื้นที่อยู่อาศัย\n",
    "len(merged_df[merged_df[\"type_of_usage_y\"] == \"living\"])  "
   ]
  },
  {
   "cell_type": "code",
   "execution_count": 11,
   "id": "3150a405",
   "metadata": {},
   "outputs": [
    {
     "data": {
      "text/plain": [
       "4.149377593360995"
      ]
     },
     "execution_count": 11,
     "metadata": {},
     "output_type": "execute_result"
    }
   ],
   "source": [
    "# เปอร์เซ็นความเปลี่ยนแปลง\n",
    "len(merged_df[merged_df[\"type_of_usage_y\"] == \"living\"]) / len(merged_df) * 100"
   ]
  },
  {
   "cell_type": "code",
   "execution_count": 12,
   "id": "7df05d71",
   "metadata": {},
   "outputs": [
    {
     "data": {
      "image/png": "[encoded data removed]",
      "text/plain": [
       "<Figure size 640x480 with 1 Axes>"
      ]
     },
     "metadata": {},
     "output_type": "display_data"
    }
   ],
   "source": [
    "from matplotlib import pyplot as plt\n",
    "\n",
    "# สร้างกราฟ\n",
    "data = [ len(merged_df[merged_df[\"type_of_usage_y\"] == \"agriculture\"]),\n",
    "         len(merged_df[merged_df[\"type_of_usage_y\"] == \"living\"]), \n",
    "         len(merged_df[merged_df[\"type_of_usage_y\"] == \"other\"]), \n",
    "         len(merged_df[merged_df[\"type_of_usage_y\"] == \"wasteland\"]), \n",
    "       ]\n",
    "labels = ['agriculture','living','other','still wasteland'] \n",
    "\n",
    "plt.pie(data, labels=labels, autopct='%1.1f%%')\n",
    "plt.show()"
   ]
  },
  {
   "cell_type": "markdown",
   "id": "ab014064",
   "metadata": {},
   "source": [
    "พื้นที่ทำเกษตรเทียบระหว่างปี 2565 กับ 2566"
   ]
  },
  {
   "cell_type": "markdown",
   "id": "d4474689",
   "metadata": {},
   "source": [
    "## เปรียบเทียบระหว่างปี 2564 และ 2565"
   ]
  },
  {
   "cell_type": "markdown",
   "id": "2b63840c",
   "metadata": {},
   "source": [
    "## เปรียบเทียบระหว่างปี 2563 และ 2564"
   ]
  },
  {
   "cell_type": "markdown",
   "id": "50c8212e",
   "metadata": {},
   "source": [
    "## เปรียบเทียบระยะเวลา 4 ปี (2363 - 2566)"
   ]
  }
 ],
 "metadata": {
  "kernelspec": {
   "display_name": "Python 3 (ipykernel)",
   "language": "python",
   "name": "python3"
  },
  "language_info": {
   "codemirror_mode": {
    "name": "ipython",
    "version": 3
   },
   "file_extension": ".py",
   "mimetype": "text/x-python",
   "name": "python",
   "nbconvert_exporter": "python",
   "pygments_lexer": "ipython3",
   "version": "3.9.13"
  }
 },
 "nbformat": 4,
 "nbformat_minor": 5
}
