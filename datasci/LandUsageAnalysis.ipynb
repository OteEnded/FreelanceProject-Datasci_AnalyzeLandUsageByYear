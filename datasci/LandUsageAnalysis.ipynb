{
 "cells": [
  {
   "cell_type": "markdown",
   "id": "9e1e0d55",
   "metadata": {},
   "source": [
    "## เตรียมข้อมูลก่อนนำไปวิเคราะห์"
   ]
  },
  {
   "cell_type": "markdown",
   "id": "676bf9ef",
   "metadata": {},
   "source": [
    "### แบบบัญชีรายการที่ดินและสิ่งปลูกสร้าง ภ.ด.ส. 3 เทศบาลเมืองลำพูน อำเภอ เมืองลำพูน จังหวัด ลำพูน"
   ]
  },
  {
   "cell_type": "markdown",
   "id": "57e3e372",
   "metadata": {},
   "source": [
    "#### ปี 2566"
   ]
  },
  {
   "cell_type": "markdown",
   "id": "83ee84ce",
   "metadata": {},
   "source": [
    "เปิดไฟล์และทำความสะอาดข้อมูล"
   ]
  },
  {
   "cell_type": "code",
   "execution_count": 1,
   "id": "b279daef",
   "metadata": {},
   "outputs": [],
   "source": [
    "import pandas as pd\n",
    "import numpy as np\n",
    "from matplotlib import pyplot as plt"
   ]
  },
  {
   "cell_type": "markdown",
   "id": "27e4671e",
   "metadata": {},
   "source": [
    "เติมค่า null และเปลี่ยนประเภทของข้อมูลให้เป็นตัวเลข"
   ]
  },
  {
   "cell_type": "code",
   "execution_count": 2,
   "id": "0369b974",
   "metadata": {
    "scrolled": true
   },
   "outputs": [],
   "source": [
    "df_66 = pd.read_csv(\"dataset/2566.csv\")\n",
    "df_66 = df_66.replace(',','', regex=True)"
   ]
  },
  {
   "cell_type": "code",
   "execution_count": 3,
   "id": "dc30bc4b",
   "metadata": {},
   "outputs": [],
   "source": [
    "df_66.iloc[:, 8:] = df_66.iloc[:, 8:].fillna(\"0\")\n",
    "df_66 = df_66.fillna(\"-\")\n",
    "df_66.iloc[:, 8:] = df_66.iloc[:, 8:].astype(float)"
   ]
  },
  {
   "cell_type": "markdown",
   "id": "bc9ed99f",
   "metadata": {},
   "source": [
    "จำแนกลักษณะการทำประโยชน์"
   ]
  },
  {
   "cell_type": "code",
   "execution_count": 4,
   "id": "cf59e2c3",
   "metadata": {},
   "outputs": [],
   "source": [
    "# สร้างคอลัมม์ใหม่\n",
    "df_66[\"type_of_usage\"] = pd.Series([float('NaN')] * len(df_66))"
   ]
  },
  {
   "cell_type": "code",
   "execution_count": 5,
   "id": "f5107718",
   "metadata": {},
   "outputs": [
    {
     "data": {
      "text/html": [
       "<div>\n",
       "<style scoped>\n",
       "    .dataframe tbody tr th:only-of-type {\n",
       "        vertical-align: middle;\n",
       "    }\n",
       "\n",
       "    .dataframe tbody tr th {\n",
       "        vertical-align: top;\n",
       "    }\n",
       "\n",
       "    .dataframe thead th {\n",
       "        text-align: right;\n",
       "    }\n",
       "</style>\n",
       "<table border=\"1\" class=\"dataframe\">\n",
       "  <thead>\n",
       "    <tr style=\"text-align: right;\">\n",
       "      <th></th>\n",
       "      <th>type_of_usage</th>\n",
       "    </tr>\n",
       "  </thead>\n",
       "  <tbody>\n",
       "    <tr>\n",
       "      <th>0</th>\n",
       "      <td>living</td>\n",
       "    </tr>\n",
       "    <tr>\n",
       "      <th>1</th>\n",
       "      <td>living</td>\n",
       "    </tr>\n",
       "    <tr>\n",
       "      <th>2</th>\n",
       "      <td>living</td>\n",
       "    </tr>\n",
       "    <tr>\n",
       "      <th>3</th>\n",
       "      <td>living</td>\n",
       "    </tr>\n",
       "    <tr>\n",
       "      <th>4</th>\n",
       "      <td>living</td>\n",
       "    </tr>\n",
       "    <tr>\n",
       "      <th>5</th>\n",
       "      <td>misc</td>\n",
       "    </tr>\n",
       "    <tr>\n",
       "      <th>6</th>\n",
       "      <td>agriculture</td>\n",
       "    </tr>\n",
       "    <tr>\n",
       "      <th>7</th>\n",
       "      <td>wasteland</td>\n",
       "    </tr>\n",
       "    <tr>\n",
       "      <th>8</th>\n",
       "      <td>living</td>\n",
       "    </tr>\n",
       "    <tr>\n",
       "      <th>9</th>\n",
       "      <td>living</td>\n",
       "    </tr>\n",
       "  </tbody>\n",
       "</table>\n",
       "</div>"
      ],
      "text/plain": [
       "  type_of_usage\n",
       "0        living\n",
       "1        living\n",
       "2        living\n",
       "3        living\n",
       "4        living\n",
       "5          misc\n",
       "6   agriculture\n",
       "7     wasteland\n",
       "8        living\n",
       "9        living"
      ]
     },
     "execution_count": 5,
     "metadata": {},
     "output_type": "execute_result"
    }
   ],
   "source": [
    "# จำแนกลักษณ์การทำประโยชน์จากพื้นที่ใช้งาน (usage_agriculture, usage_living, usage_other, usage_none, usage_misc)\n",
    "df_66[df_66[\"usage_agriculture\"] > 0] = df_66[df_66[\"usage_agriculture\"] > 0].fillna(\"agriculture\")\n",
    "df_66[df_66[\"usage_living\"] > 0] = df_66[df_66[\"usage_living\"] > 0].fillna(\"living\")\n",
    "df_66[df_66[\"usage_other\"] > 0] = df_66[df_66[\"usage_other\"] > 0].fillna(\"other\")\n",
    "df_66[df_66[\"usage_none\"] > 0] = df_66[df_66[\"usage_none\"] > 0].fillna(\"wasteland\")\n",
    "df_66[df_66[\"usage_misc\"] > 0] = df_66[df_66[\"usage_misc\"] > 0].fillna(\"misc\")                                                                            \n",
    "\n",
    "# แสดง 10 ข้อมูลแรก\n",
    "df_66[[\"type_of_usage\"]].head(10)"
   ]
  },
  {
   "cell_type": "code",
   "execution_count": null,
   "id": "0832a42e",
   "metadata": {},
   "outputs": [],
   "source": []
  },
  {
   "cell_type": "markdown",
   "id": "5e54bf0f",
   "metadata": {},
   "source": [
    "## วิเคราะห์ข้อมูลและรายงานผล"
   ]
  },
  {
   "cell_type": "markdown",
   "id": "8452b997",
   "metadata": {},
   "source": [
    "จากแบบบัญชีรายการที่ดินและสิ่งปลูกสร้าง ภ.ด.ส.3 เทศบาลเมืองลำพูน อำเภอเมือง จังหวัดลำพูน ในปี 2566 มีที่ดินและสิ่งปลูกสร้างจำนวน 6490 ที่"
   ]
  },
  {
   "cell_type": "code",
   "execution_count": 6,
   "id": "1e6344ac",
   "metadata": {
    "scrolled": true
   },
   "outputs": [
    {
     "data": {
      "text/plain": [
       "6490"
      ]
     },
     "execution_count": 6,
     "metadata": {},
     "output_type": "execute_result"
    }
   ],
   "source": [
    "land = len(df_66)\n",
    "land"
   ]
  },
  {
   "cell_type": "markdown",
   "id": "332c26bd",
   "metadata": {},
   "source": [
    "ที่ดินและสิ่งปลูกสร้างสามารถจำแนกจากลักษณะการทำประโยชน์ 5 รายการ ได้แก่ ประกอบการเกษตร, ใช้เพื่ออยู่อาศัย, อื่น ๆ , ไม่ใช้ประโยชน์ และ ใช้ประโยชน์หลายประเภท"
   ]
  },
  {
   "cell_type": "markdown",
   "id": "2f2b447b",
   "metadata": {},
   "source": [
    "มีพื้นที่ประกอบเกษตรกรรม 569 พื้นที่ คิดเป็น 8.7673 เปอร์เซ็นของพื้นที่ทั้งหมดในอำเภอเมือง จังหวัดลำพูน"
   ]
  },
  {
   "cell_type": "code",
   "execution_count": 7,
   "id": "2a5bfd44",
   "metadata": {},
   "outputs": [
    {
     "data": {
      "text/plain": [
       "8.7673343605547"
      ]
     },
     "execution_count": 7,
     "metadata": {},
     "output_type": "execute_result"
    }
   ],
   "source": [
    "(len(df_66[df_66[\"type_of_usage\"] == \"agriculture\"]) / land) * 100  "
   ]
  },
  {
   "cell_type": "markdown",
   "id": "17ca0842",
   "metadata": {},
   "source": [
    "มีพื้นที่อยู่อาศัย 4072 พื้นที่ คิดเป็น 62.7427 เปอร์เซ็นของพื้นที่ทั้งหมดในอำเภอเมือง จังหวัดลำพูน "
   ]
  },
  {
   "cell_type": "code",
   "execution_count": 8,
   "id": "af90073b",
   "metadata": {
    "scrolled": false
   },
   "outputs": [
    {
     "data": {
      "text/plain": [
       "62.74268104776579"
      ]
     },
     "execution_count": 8,
     "metadata": {},
     "output_type": "execute_result"
    }
   ],
   "source": [
    "len(df_66[df_66[\"type_of_usage\"] == \"living\"]) / land * 100"
   ]
  },
  {
   "cell_type": "markdown",
   "id": "69c0c088",
   "metadata": {},
   "source": [
    "มีพื้นที่อื่น ๆ 574 พื้นที่ คิดเป็น 8.8444 เปอร์เซ็นของพื้นที่ทั้งหมดในอำเภอเมือง จังหวัดลำพูน"
   ]
  },
  {
   "cell_type": "code",
   "execution_count": 9,
   "id": "346076b6",
   "metadata": {},
   "outputs": [
    {
     "data": {
      "text/plain": [
       "8.844375963020031"
      ]
     },
     "execution_count": 9,
     "metadata": {},
     "output_type": "execute_result"
    }
   ],
   "source": [
    "len(df_66[df_66[\"type_of_usage\"] == \"other\"]) / land * 100"
   ]
  },
  {
   "cell_type": "markdown",
   "id": "b0c605d0",
   "metadata": {},
   "source": [
    "มีพื้นที่ว่างเปล่า/ไม่ทำประโยชน์ 658 พื้นที่ คิดเป็น 10.1387 เปอร์เซ็นของพื้นที่ทั้งหมดในอำเภอเมือง จังหวัดลำพูน"
   ]
  },
  {
   "cell_type": "code",
   "execution_count": 10,
   "id": "04e9b050",
   "metadata": {},
   "outputs": [
    {
     "data": {
      "text/plain": [
       "10.138674884437595"
      ]
     },
     "execution_count": 10,
     "metadata": {},
     "output_type": "execute_result"
    }
   ],
   "source": [
    "len(df_66[df_66[\"type_of_usage\"] == \"wasteland\"]) / land * 100"
   ]
  },
  {
   "cell_type": "markdown",
   "id": "15a57629",
   "metadata": {},
   "source": [
    "และมีพื้นที่ใช้ประโยชน์หลายประเภท 588 พื้นที่ คิดเป็น 9.0601 เปอร์เซ็นของพื้นที่ทั้งหมดในอำเภอเมือง จังหวัดลำพูน"
   ]
  },
  {
   "cell_type": "code",
   "execution_count": 11,
   "id": "584c6f1a",
   "metadata": {},
   "outputs": [
    {
     "data": {
      "text/plain": [
       "9.060092449922958"
      ]
     },
     "execution_count": 11,
     "metadata": {},
     "output_type": "execute_result"
    }
   ],
   "source": [
    "len(df_66[df_66[\"type_of_usage\"] == \"misc\"]) / land * 100"
   ]
  },
  {
   "cell_type": "markdown",
   "id": "c4ebf202",
   "metadata": {},
   "source": [
    "จากข้อมูลข้างต้น สามารถนำมาแสดงเป็นแผนภาพได้ดังนี้"
   ]
  },
  {
   "cell_type": "code",
   "execution_count": 12,
   "id": "1d1367f5",
   "metadata": {
    "scrolled": true
   },
   "outputs": [
    {
     "data": {
      "image/png": "[encoded data removed]",
      "text/plain": [
       "<Figure size 640x480 with 1 Axes>"
      ]
     },
     "metadata": {},
     "output_type": "display_data"
    }
   ],
   "source": [
    "from matplotlib import pyplot as plt\n",
    "\n",
    "# Create your pie chart data\n",
    "data = [569, 4072, 574, 658, 588]\n",
    "labels = ['Agriculture','Living','Other','Waste Land','Misc']  # Thai labels\n",
    "\n",
    "# Create the pie chart\n",
    "plt.pie(data, labels=labels, autopct='%1.1f%%')\n",
    "\n",
    "# Set the font for the labels\n",
    "\n",
    "plt.show()"
   ]
  },
  {
   "cell_type": "code",
   "execution_count": 17,
   "id": "1a27bb83",
   "metadata": {},
   "outputs": [],
   "source": [
    "# วิธีเรียกดู\n",
    "# df_66[df_66[\"type_of_usage\"] == \"agriculture\"]\n",
    "df_66.to_csv('data.csv', index=False)"
   ]
  },
  {
   "cell_type": "markdown",
   "id": "77d6a9a9",
   "metadata": {},
   "source": [
    "-----"
   ]
  },
  {
   "cell_type": "code",
   "execution_count": null,
   "id": "9f972513",
   "metadata": {},
   "outputs": [],
   "source": []
  }
 ],
 "metadata": {
  "kernelspec": {
   "display_name": "Python 3 (ipykernel)",
   "language": "python",
   "name": "python3"
  },
  "language_info": {
   "codemirror_mode": {
    "name": "ipython",
    "version": 3
   },
   "file_extension": ".py",
   "mimetype": "text/x-python",
   "name": "python",
   "nbconvert_exporter": "python",
   "pygments_lexer": "ipython3",
   "version": "3.9.13"
  }
 },
 "nbformat": 4,
 "nbformat_minor": 5
}
