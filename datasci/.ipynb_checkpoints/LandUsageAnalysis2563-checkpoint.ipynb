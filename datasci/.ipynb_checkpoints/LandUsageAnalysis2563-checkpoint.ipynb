{
 "cells": [
  {
   "cell_type": "markdown",
   "id": "a479e1cd",
   "metadata": {},
   "source": [
    "## เตรียมข้อมูลก่อนนำไปวิเคราะห์"
   ]
  },
  {
   "cell_type": "markdown",
   "id": "40512466",
   "metadata": {},
   "source": [
    "### แบบบัญชีรายการที่ดิน เทศบาลเมืองลำพูน อำเภอ เมืองลำพูน จังหวัด ลำพูน"
   ]
  },
  {
   "cell_type": "markdown",
   "id": "3135eca3",
   "metadata": {},
   "source": [
    "#### เปิดไฟล์และทำความสะอาดข้อมูล"
   ]
  },
  {
   "cell_type": "code",
   "execution_count": 1,
   "id": "b279daef",
   "metadata": {},
   "outputs": [],
   "source": [
    "import pandas as pd\n",
    "import numpy as np\n",
    "from matplotlib import pyplot as plt"
   ]
  },
  {
   "cell_type": "code",
   "execution_count": 2,
   "id": "0369b974",
   "metadata": {
    "scrolled": true
   },
   "outputs": [],
   "source": [
    "# เปิดไฟล์ csv\n",
    "df_63 = pd.read_csv(\"dataset/2563.csv\")\n",
    "\n",
    "# ลบลูกน้ำออก\n",
    "df_63 = df_63.replace(',','', regex=True)\n",
    "\n",
    "# เติมค่าว่างตั้งแต่หลักที่ 8 ให้เป็น 0\n",
    "df_63.iloc[:, 8:] = df_63.iloc[:, 8:].fillna(\"0\")  \n",
    "\n",
    "# เติมค่าว่างให้เป็น -\n",
    "df_63 = df_63.fillna(\"-\")  \n",
    "\n",
    "# แปลงประเภทของข้อมูลให้เป็นตัวเลข\n",
    "df_63.iloc[:, 8:] = df_63.iloc[:, 8:].astype(float) "
   ]
  },
  {
   "cell_type": "code",
   "execution_count": 3,
   "id": "7948f5ce",
   "metadata": {},
   "outputs": [
    {
     "data": {
      "text/html": [
       "<div>\n",
       "<style scoped>\n",
       "    .dataframe tbody tr th:only-of-type {\n",
       "        vertical-align: middle;\n",
       "    }\n",
       "\n",
       "    .dataframe tbody tr th {\n",
       "        vertical-align: top;\n",
       "    }\n",
       "\n",
       "    .dataframe thead th {\n",
       "        text-align: right;\n",
       "    }\n",
       "</style>\n",
       "<table border=\"1\" class=\"dataframe\">\n",
       "  <thead>\n",
       "    <tr style=\"text-align: right;\">\n",
       "      <th></th>\n",
       "      <th>order</th>\n",
       "      <th>type</th>\n",
       "      <th>document_number</th>\n",
       "      <th>parcel_number</th>\n",
       "      <th>sub_district_no</th>\n",
       "      <th>location_id</th>\n",
       "      <th>rai</th>\n",
       "      <th>ngan</th>\n",
       "      <th>tarang_wa</th>\n",
       "      <th>usage_agriculture</th>\n",
       "      <th>usage_living</th>\n",
       "      <th>usage_other</th>\n",
       "      <th>usage_none</th>\n",
       "      <th>usage_misc</th>\n",
       "    </tr>\n",
       "  </thead>\n",
       "  <tbody>\n",
       "    <tr>\n",
       "      <th>0</th>\n",
       "      <td>1</td>\n",
       "      <td>โฉนด</td>\n",
       "      <td>1526</td>\n",
       "      <td>896.0</td>\n",
       "      <td>1475.0</td>\n",
       "      <td>03A001</td>\n",
       "      <td>0.0</td>\n",
       "      <td>1.0</td>\n",
       "      <td>69.8</td>\n",
       "      <td>0.0</td>\n",
       "      <td>0.0</td>\n",
       "      <td>139.8</td>\n",
       "      <td>0.0</td>\n",
       "      <td>0.0</td>\n",
       "    </tr>\n",
       "    <tr>\n",
       "      <th>1</th>\n",
       "      <td>2</td>\n",
       "      <td>โฉนด</td>\n",
       "      <td>1722</td>\n",
       "      <td>897.0</td>\n",
       "      <td>1476.0</td>\n",
       "      <td>03A002</td>\n",
       "      <td>0.0</td>\n",
       "      <td>0.0</td>\n",
       "      <td>50.0</td>\n",
       "      <td>50.0</td>\n",
       "      <td>0.0</td>\n",
       "      <td>0.0</td>\n",
       "      <td>0.0</td>\n",
       "      <td>0.0</td>\n",
       "    </tr>\n",
       "    <tr>\n",
       "      <th>2</th>\n",
       "      <td>3</td>\n",
       "      <td>โฉนด</td>\n",
       "      <td>1968</td>\n",
       "      <td>898.0</td>\n",
       "      <td>1506.0</td>\n",
       "      <td>03A003</td>\n",
       "      <td>0.0</td>\n",
       "      <td>0.0</td>\n",
       "      <td>53.0</td>\n",
       "      <td>0.0</td>\n",
       "      <td>0.0</td>\n",
       "      <td>53.0</td>\n",
       "      <td>0.0</td>\n",
       "      <td>0.0</td>\n",
       "    </tr>\n",
       "    <tr>\n",
       "      <th>3</th>\n",
       "      <td>4</td>\n",
       "      <td>โฉนด</td>\n",
       "      <td>4043</td>\n",
       "      <td>899.0</td>\n",
       "      <td>2031.0</td>\n",
       "      <td>03A004</td>\n",
       "      <td>0.0</td>\n",
       "      <td>0.0</td>\n",
       "      <td>82.0</td>\n",
       "      <td>0.0</td>\n",
       "      <td>82.0</td>\n",
       "      <td>0.0</td>\n",
       "      <td>0.0</td>\n",
       "      <td>0.0</td>\n",
       "    </tr>\n",
       "    <tr>\n",
       "      <th>4</th>\n",
       "      <td>5</td>\n",
       "      <td>โฉนด</td>\n",
       "      <td>1578</td>\n",
       "      <td>901.0</td>\n",
       "      <td>1477.0</td>\n",
       "      <td>03A005</td>\n",
       "      <td>0.0</td>\n",
       "      <td>0.0</td>\n",
       "      <td>81.8</td>\n",
       "      <td>0.0</td>\n",
       "      <td>81.8</td>\n",
       "      <td>0.0</td>\n",
       "      <td>0.0</td>\n",
       "      <td>0.0</td>\n",
       "    </tr>\n",
       "    <tr>\n",
       "      <th>...</th>\n",
       "      <td>...</td>\n",
       "      <td>...</td>\n",
       "      <td>...</td>\n",
       "      <td>...</td>\n",
       "      <td>...</td>\n",
       "      <td>...</td>\n",
       "      <td>...</td>\n",
       "      <td>...</td>\n",
       "      <td>...</td>\n",
       "      <td>...</td>\n",
       "      <td>...</td>\n",
       "      <td>...</td>\n",
       "      <td>...</td>\n",
       "      <td>...</td>\n",
       "    </tr>\n",
       "    <tr>\n",
       "      <th>731</th>\n",
       "      <td>732</td>\n",
       "      <td>โฉนด</td>\n",
       "      <td>69648</td>\n",
       "      <td>2.0</td>\n",
       "      <td>4337.0</td>\n",
       "      <td>03H093</td>\n",
       "      <td>0.0</td>\n",
       "      <td>1.0</td>\n",
       "      <td>35.3</td>\n",
       "      <td>135.3</td>\n",
       "      <td>0.0</td>\n",
       "      <td>0.0</td>\n",
       "      <td>135.3</td>\n",
       "      <td>0.0</td>\n",
       "    </tr>\n",
       "    <tr>\n",
       "      <th>732</th>\n",
       "      <td>733</td>\n",
       "      <td>โฉนด</td>\n",
       "      <td>30634</td>\n",
       "      <td>2508.0</td>\n",
       "      <td>3560.0</td>\n",
       "      <td>03H094</td>\n",
       "      <td>0.0</td>\n",
       "      <td>3.0</td>\n",
       "      <td>53.9</td>\n",
       "      <td>353.9</td>\n",
       "      <td>0.0</td>\n",
       "      <td>0.0</td>\n",
       "      <td>353.9</td>\n",
       "      <td>0.0</td>\n",
       "    </tr>\n",
       "    <tr>\n",
       "      <th>733</th>\n",
       "      <td>734</td>\n",
       "      <td>โฉนด</td>\n",
       "      <td>30549</td>\n",
       "      <td>2507.0</td>\n",
       "      <td>3559.0</td>\n",
       "      <td>03H095</td>\n",
       "      <td>0.0</td>\n",
       "      <td>1.0</td>\n",
       "      <td>99.2</td>\n",
       "      <td>199.2</td>\n",
       "      <td>0.0</td>\n",
       "      <td>0.0</td>\n",
       "      <td>199.2</td>\n",
       "      <td>0.0</td>\n",
       "    </tr>\n",
       "    <tr>\n",
       "      <th>734</th>\n",
       "      <td>735</td>\n",
       "      <td>โฉนด</td>\n",
       "      <td>29016</td>\n",
       "      <td>2506.0</td>\n",
       "      <td>3561.0</td>\n",
       "      <td>03H096</td>\n",
       "      <td>0.0</td>\n",
       "      <td>2.0</td>\n",
       "      <td>37.4</td>\n",
       "      <td>237.4</td>\n",
       "      <td>0.0</td>\n",
       "      <td>0.0</td>\n",
       "      <td>237.4</td>\n",
       "      <td>0.0</td>\n",
       "    </tr>\n",
       "    <tr>\n",
       "      <th>735</th>\n",
       "      <td>736</td>\n",
       "      <td>โฉนด</td>\n",
       "      <td>69998</td>\n",
       "      <td>2560.0</td>\n",
       "      <td>4106.0</td>\n",
       "      <td>03H097</td>\n",
       "      <td>0.0</td>\n",
       "      <td>1.0</td>\n",
       "      <td>15.4</td>\n",
       "      <td>115.4</td>\n",
       "      <td>0.0</td>\n",
       "      <td>0.0</td>\n",
       "      <td>115.4</td>\n",
       "      <td>0.0</td>\n",
       "    </tr>\n",
       "  </tbody>\n",
       "</table>\n",
       "<p>736 rows × 14 columns</p>\n",
       "</div>"
      ],
      "text/plain": [
       "     order  type document_number parcel_number sub_district_no location_id  \\\n",
       "0        1  โฉนด            1526         896.0          1475.0      03A001   \n",
       "1        2  โฉนด            1722         897.0          1476.0      03A002   \n",
       "2        3  โฉนด            1968         898.0          1506.0      03A003   \n",
       "3        4  โฉนด            4043         899.0          2031.0      03A004   \n",
       "4        5  โฉนด            1578         901.0          1477.0      03A005   \n",
       "..     ...   ...             ...           ...             ...         ...   \n",
       "731    732  โฉนด           69648           2.0          4337.0      03H093   \n",
       "732    733  โฉนด           30634        2508.0          3560.0      03H094   \n",
       "733    734  โฉนด           30549        2507.0          3559.0      03H095   \n",
       "734    735  โฉนด           29016        2506.0          3561.0      03H096   \n",
       "735    736  โฉนด           69998        2560.0          4106.0      03H097   \n",
       "\n",
       "     rai ngan  tarang_wa  usage_agriculture  usage_living  usage_other  \\\n",
       "0    0.0  1.0       69.8                0.0           0.0        139.8   \n",
       "1    0.0  0.0       50.0               50.0           0.0          0.0   \n",
       "2    0.0  0.0       53.0                0.0           0.0         53.0   \n",
       "3    0.0  0.0       82.0                0.0          82.0          0.0   \n",
       "4    0.0  0.0       81.8                0.0          81.8          0.0   \n",
       "..   ...  ...        ...                ...           ...          ...   \n",
       "731  0.0  1.0       35.3              135.3           0.0          0.0   \n",
       "732  0.0  3.0       53.9              353.9           0.0          0.0   \n",
       "733  0.0  1.0       99.2              199.2           0.0          0.0   \n",
       "734  0.0  2.0       37.4              237.4           0.0          0.0   \n",
       "735  0.0  1.0       15.4              115.4           0.0          0.0   \n",
       "\n",
       "     usage_none  usage_misc  \n",
       "0           0.0         0.0  \n",
       "1           0.0         0.0  \n",
       "2           0.0         0.0  \n",
       "3           0.0         0.0  \n",
       "4           0.0         0.0  \n",
       "..          ...         ...  \n",
       "731       135.3         0.0  \n",
       "732       353.9         0.0  \n",
       "733       199.2         0.0  \n",
       "734       237.4         0.0  \n",
       "735       115.4         0.0  \n",
       "\n",
       "[736 rows x 14 columns]"
      ]
     },
     "execution_count": 3,
     "metadata": {},
     "output_type": "execute_result"
    }
   ],
   "source": [
    "# แสดงข้อมูล\n",
    "df_63"
   ]
  },
  {
   "cell_type": "markdown",
   "id": "2edad7da",
   "metadata": {},
   "source": [
    "#### จำแนกลักษณะการทำประโยชน์"
   ]
  },
  {
   "cell_type": "code",
   "execution_count": 4,
   "id": "fd6ea584",
   "metadata": {},
   "outputs": [],
   "source": [
    "# สร้างคอลัมม์ใหม่\n",
    "df_63[\"type_of_usage\"] = pd.Series([float('NaN')] * len(df_63))"
   ]
  },
  {
   "cell_type": "code",
   "execution_count": 5,
   "id": "3c792cab",
   "metadata": {},
   "outputs": [],
   "source": [
    "# จำแนกลักษณ์การทำประโยชน์จากพื้นที่ใช้งาน ('พื้นที่ประกอบเกษตรกรรม', 'พื้นที่อยู่อาศัย', 'พื้นที่อื่น ๆ', 'พื้นที่ว่างเปล่า', 'พื้นที่ใช้ประโยชน์หลายประเภท' และ 'ไม่ทราบลักษณะการใช้')\n",
    "df_63[df_63[\"usage_agriculture\"] > 0] = df_63[df_63[\"usage_agriculture\"] > 0].fillna(\"agriculture\")\n",
    "df_63[df_63[\"usage_living\"] > 0] = df_63[df_63[\"usage_living\"] > 0].fillna(\"living\")\n",
    "df_63[df_63[\"usage_other\"] > 0] = df_63[df_63[\"usage_other\"] > 0].fillna(\"other\")\n",
    "df_63[df_63[\"usage_none\"] > 0] = df_63[df_63[\"usage_none\"] > 0].fillna(\"wasteland\")\n",
    "df_63[df_63[\"usage_misc\"] > 0] = df_63[df_63[\"usage_misc\"] > 0].fillna(\"misc\")        \n",
    "df_63[\"type_of_usage\"] = df_63[\"type_of_usage\"].fillna(\"unknown\")"
   ]
  },
  {
   "cell_type": "code",
   "execution_count": 6,
   "id": "8c96086a",
   "metadata": {},
   "outputs": [
    {
     "data": {
      "text/html": [
       "<div>\n",
       "<style scoped>\n",
       "    .dataframe tbody tr th:only-of-type {\n",
       "        vertical-align: middle;\n",
       "    }\n",
       "\n",
       "    .dataframe tbody tr th {\n",
       "        vertical-align: top;\n",
       "    }\n",
       "\n",
       "    .dataframe thead th {\n",
       "        text-align: right;\n",
       "    }\n",
       "</style>\n",
       "<table border=\"1\" class=\"dataframe\">\n",
       "  <thead>\n",
       "    <tr style=\"text-align: right;\">\n",
       "      <th></th>\n",
       "      <th>location_id</th>\n",
       "      <th>type_of_usage</th>\n",
       "    </tr>\n",
       "  </thead>\n",
       "  <tbody>\n",
       "    <tr>\n",
       "      <th>0</th>\n",
       "      <td>03A001</td>\n",
       "      <td>other</td>\n",
       "    </tr>\n",
       "    <tr>\n",
       "      <th>1</th>\n",
       "      <td>03A002</td>\n",
       "      <td>agriculture</td>\n",
       "    </tr>\n",
       "    <tr>\n",
       "      <th>2</th>\n",
       "      <td>03A003</td>\n",
       "      <td>other</td>\n",
       "    </tr>\n",
       "    <tr>\n",
       "      <th>3</th>\n",
       "      <td>03A004</td>\n",
       "      <td>living</td>\n",
       "    </tr>\n",
       "    <tr>\n",
       "      <th>4</th>\n",
       "      <td>03A005</td>\n",
       "      <td>living</td>\n",
       "    </tr>\n",
       "    <tr>\n",
       "      <th>...</th>\n",
       "      <td>...</td>\n",
       "      <td>...</td>\n",
       "    </tr>\n",
       "    <tr>\n",
       "      <th>731</th>\n",
       "      <td>03H093</td>\n",
       "      <td>agriculture</td>\n",
       "    </tr>\n",
       "    <tr>\n",
       "      <th>732</th>\n",
       "      <td>03H094</td>\n",
       "      <td>agriculture</td>\n",
       "    </tr>\n",
       "    <tr>\n",
       "      <th>733</th>\n",
       "      <td>03H095</td>\n",
       "      <td>agriculture</td>\n",
       "    </tr>\n",
       "    <tr>\n",
       "      <th>734</th>\n",
       "      <td>03H096</td>\n",
       "      <td>agriculture</td>\n",
       "    </tr>\n",
       "    <tr>\n",
       "      <th>735</th>\n",
       "      <td>03H097</td>\n",
       "      <td>agriculture</td>\n",
       "    </tr>\n",
       "  </tbody>\n",
       "</table>\n",
       "<p>736 rows × 2 columns</p>\n",
       "</div>"
      ],
      "text/plain": [
       "    location_id type_of_usage\n",
       "0        03A001         other\n",
       "1        03A002   agriculture\n",
       "2        03A003         other\n",
       "3        03A004        living\n",
       "4        03A005        living\n",
       "..          ...           ...\n",
       "731      03H093   agriculture\n",
       "732      03H094   agriculture\n",
       "733      03H095   agriculture\n",
       "734      03H096   agriculture\n",
       "735      03H097   agriculture\n",
       "\n",
       "[736 rows x 2 columns]"
      ]
     },
     "execution_count": 6,
     "metadata": {},
     "output_type": "execute_result"
    }
   ],
   "source": [
    "# แสดงข้อมูลโดยจำแนกออกมาแค่ เลขที่เอกสารสิทธิ์ และ ลักษณะการใช้ประโยชน์\n",
    "# พื้นที่ประกอบเกษตรกรรม : agriculture, พื้นที่อยู่อาศัย : living, พื้นที่อื่น ๆ : other, \n",
    "# พื้นที่ว่างเปล่า : wasteland, พื้นที่ใช้ประโยชน์หลายประเภท : misc และ ไม่ทราบลักษณะการใช้ : unknown\n",
    "\n",
    "df_63[ ['location_id', 'type_of_usage'] ]"
   ]
  },
  {
   "cell_type": "markdown",
   "id": "b8c77423",
   "metadata": {},
   "source": [
    "## วิเคราะห์ข้อมูลและรายงานผล"
   ]
  },
  {
   "cell_type": "markdown",
   "id": "2a58966f",
   "metadata": {},
   "source": [
    "#### จากแบบบัญชีรายการที่ดิน เทศบาลเมืองลำพูน อำเภอเมือง จังหวัดลำพูน ในปี 2563 มีที่ดิน 736 ที่"
   ]
  },
  {
   "cell_type": "code",
   "execution_count": 7,
   "id": "17771c6e",
   "metadata": {
    "scrolled": true
   },
   "outputs": [
    {
     "data": {
      "text/plain": [
       "736"
      ]
     },
     "execution_count": 7,
     "metadata": {},
     "output_type": "execute_result"
    }
   ],
   "source": [
    "land = len(df_63) \n",
    "land"
   ]
  },
  {
   "cell_type": "markdown",
   "id": "f340e4ee",
   "metadata": {},
   "source": [
    "### ที่ดินสามารถจำแนกจากลักษณะการทำประโยชน์ 6 รายการ ได้แก่ ประกอบการเกษตร, ใช้เพื่ออยู่อาศัย, อื่น ๆ , ไม่ใช้ประโยชน์, ใช้ประโยชน์หลายประเภท และ ไม่ทราบลักษณะการใช้"
   ]
  },
  {
   "cell_type": "markdown",
   "id": "c966fa28",
   "metadata": {},
   "source": [
    "#### มีพื้นที่ประกอบเกษตรกรรม 30 พื้นที่ คิดเป็น 4.0761 เปอร์เซ็นของพื้นที่ทั้งหมดในอำเภอเมือง จังหวัดลำพูน"
   ]
  },
  {
   "cell_type": "code",
   "execution_count": 8,
   "id": "9b48cd36",
   "metadata": {},
   "outputs": [
    {
     "data": {
      "text/plain": [
       "30"
      ]
     },
     "execution_count": 8,
     "metadata": {},
     "output_type": "execute_result"
    }
   ],
   "source": [
    "len(df_63[df_63[\"type_of_usage\"] == \"agriculture\"])"
   ]
  },
  {
   "cell_type": "code",
   "execution_count": 9,
   "id": "73552108",
   "metadata": {},
   "outputs": [
    {
     "data": {
      "text/plain": [
       "4.076086956521739"
      ]
     },
     "execution_count": 9,
     "metadata": {},
     "output_type": "execute_result"
    }
   ],
   "source": [
    "(len(df_63[df_63[\"type_of_usage\"] == \"agriculture\"]) / land) * 100  "
   ]
  },
  {
   "cell_type": "markdown",
   "id": "9db6c2dc",
   "metadata": {},
   "source": [
    "#### มีพื้นที่อยู่อาศัย 269 พื้นที่ คิดเป็น 36.5489 เปอร์เซ็นของพื้นที่ทั้งหมดในอำเภอเมือง จังหวัดลำพูน "
   ]
  },
  {
   "cell_type": "code",
   "execution_count": 10,
   "id": "5a1be44a",
   "metadata": {},
   "outputs": [
    {
     "data": {
      "text/plain": [
       "269"
      ]
     },
     "execution_count": 10,
     "metadata": {},
     "output_type": "execute_result"
    }
   ],
   "source": [
    "len(df_63[df_63[\"type_of_usage\"] == \"living\"]) "
   ]
  },
  {
   "cell_type": "code",
   "execution_count": 11,
   "id": "015d648a",
   "metadata": {
    "scrolled": false
   },
   "outputs": [
    {
     "data": {
      "text/plain": [
       "36.54891304347826"
      ]
     },
     "execution_count": 11,
     "metadata": {},
     "output_type": "execute_result"
    }
   ],
   "source": [
    "len(df_63[df_63[\"type_of_usage\"] == \"living\"]) / land * 100"
   ]
  },
  {
   "cell_type": "markdown",
   "id": "830a351d",
   "metadata": {},
   "source": [
    "#### มีพื้นที่อื่น ๆ 292 พื้นที่ คิดเป็น 39.6739 เปอร์เซ็นของพื้นที่ทั้งหมดในอำเภอเมือง จังหวัดลำพูน"
   ]
  },
  {
   "cell_type": "code",
   "execution_count": 12,
   "id": "946d9056",
   "metadata": {},
   "outputs": [
    {
     "data": {
      "text/plain": [
       "292"
      ]
     },
     "execution_count": 12,
     "metadata": {},
     "output_type": "execute_result"
    }
   ],
   "source": [
    "len(df_63[df_63[\"type_of_usage\"] == \"other\"])"
   ]
  },
  {
   "cell_type": "code",
   "execution_count": 13,
   "id": "2356fcdd",
   "metadata": {},
   "outputs": [
    {
     "data": {
      "text/plain": [
       "39.67391304347826"
      ]
     },
     "execution_count": 13,
     "metadata": {},
     "output_type": "execute_result"
    }
   ],
   "source": [
    "len(df_63[df_63[\"type_of_usage\"] == \"other\"]) / land * 100"
   ]
  },
  {
   "cell_type": "markdown",
   "id": "90e203a4",
   "metadata": {},
   "source": [
    "#### มีพื้นที่ว่างเปล่า/ไม่ทำประโยชน์ 122 พื้นที่ คิดเป็น 16.5760 เปอร์เซ็นของพื้นที่ทั้งหมดในอำเภอเมือง จังหวัดลำพูน"
   ]
  },
  {
   "cell_type": "code",
   "execution_count": 14,
   "id": "cd3bd9a8",
   "metadata": {},
   "outputs": [
    {
     "data": {
      "text/plain": [
       "122"
      ]
     },
     "execution_count": 14,
     "metadata": {},
     "output_type": "execute_result"
    }
   ],
   "source": [
    "len(df_63[df_63[\"type_of_usage\"] == \"wasteland\"])"
   ]
  },
  {
   "cell_type": "code",
   "execution_count": 15,
   "id": "6fca2306",
   "metadata": {},
   "outputs": [
    {
     "data": {
      "text/plain": [
       "16.57608695652174"
      ]
     },
     "execution_count": 15,
     "metadata": {},
     "output_type": "execute_result"
    }
   ],
   "source": [
    "len(df_63[df_63[\"type_of_usage\"] == \"wasteland\"]) / land * 100"
   ]
  },
  {
   "cell_type": "markdown",
   "id": "445e06a2",
   "metadata": {},
   "source": [
    "#### และมีพื้นที่ใช้ประโยชน์หลายประเภท 0 พื้นที่ คิดเป็น 0.0 เปอร์เซ็นของพื้นที่ทั้งหมดในอำเภอเมือง จังหวัดลำพูน"
   ]
  },
  {
   "cell_type": "code",
   "execution_count": 16,
   "id": "78231bbf",
   "metadata": {},
   "outputs": [
    {
     "data": {
      "text/plain": [
       "0"
      ]
     },
     "execution_count": 16,
     "metadata": {},
     "output_type": "execute_result"
    }
   ],
   "source": [
    "len(df_63[df_63[\"type_of_usage\"] == \"misc\"])"
   ]
  },
  {
   "cell_type": "code",
   "execution_count": 17,
   "id": "565ea756",
   "metadata": {
    "scrolled": false
   },
   "outputs": [
    {
     "data": {
      "text/plain": [
       "0.0"
      ]
     },
     "execution_count": 17,
     "metadata": {},
     "output_type": "execute_result"
    }
   ],
   "source": [
    "len(df_63[df_63[\"type_of_usage\"] == \"misc\"]) / land * 100"
   ]
  },
  {
   "cell_type": "markdown",
   "id": "30a87b5c",
   "metadata": {},
   "source": [
    "#### และมีพื้นที่ไม่ทราบลักษณะการใช้ 23 พื้นที่ คิดเป็น 3.125 เปอร์เซ็นของพื้นที่ทั้งหมดในอำเภอเมือง จังหวัดลำพูน"
   ]
  },
  {
   "cell_type": "code",
   "execution_count": 18,
   "id": "24f76194",
   "metadata": {},
   "outputs": [
    {
     "data": {
      "text/plain": [
       "23"
      ]
     },
     "execution_count": 18,
     "metadata": {},
     "output_type": "execute_result"
    }
   ],
   "source": [
    "len(df_63[df_63[\"type_of_usage\"] == \"unknown\"])"
   ]
  },
  {
   "cell_type": "code",
   "execution_count": 19,
   "id": "e10249bd",
   "metadata": {},
   "outputs": [
    {
     "data": {
      "text/plain": [
       "3.125"
      ]
     },
     "execution_count": 19,
     "metadata": {},
     "output_type": "execute_result"
    }
   ],
   "source": [
    "len(df_63[df_63[\"type_of_usage\"] == \"unknown\"]) / land * 100"
   ]
  },
  {
   "cell_type": "markdown",
   "id": "ce3527d5",
   "metadata": {},
   "source": [
    "#### จากข้อมูลข้างต้น สามารถนำมาแสดงเป็นแผนภาพได้ดังนี้"
   ]
  },
  {
   "cell_type": "code",
   "execution_count": 27,
   "id": "756bd0d3",
   "metadata": {
    "scrolled": true
   },
   "outputs": [
    {
     "data": {
      "image/png": "[encoded data removed]",
      "text/plain": [
       "<Figure size 640x480 with 1 Axes>"
      ]
     },
     "metadata": {},
     "output_type": "display_data"
    }
   ],
   "source": [
    "from matplotlib import pyplot as plt\n",
    "from matplotlib.font_manager import FontProperties\n",
    "\n",
    "# plt.rcParams[\"font.family\"] = \"Angsana New\"\n",
    "# plt.rcParams[\"font.serif\"] = \"Angsana New\"\n",
    "\n",
    "# สร้างกราฟ\n",
    "data = [ len(df_63[df_63[\"type_of_usage\"] == \"agriculture\"]),\n",
    "         len(df_63[df_63[\"type_of_usage\"] == \"living\"]), \n",
    "         len(df_63[df_63[\"type_of_usage\"] == \"other\"]), \n",
    "         len(df_63[df_63[\"type_of_usage\"] == \"wasteland\"]), \n",
    "         len(df_63[df_63[\"type_of_usage\"] == \"unknown\"])\n",
    "       ]\n",
    "labels = ['agriculture','living','other','wasteland', 'unknown'] \n",
    "\n",
    "plt.pie(data, labels=labels, autopct='%1.1f%%')\n",
    "plt.show()"
   ]
  },
  {
   "cell_type": "markdown",
   "id": "3029d508",
   "metadata": {},
   "source": [
    "##  ข้อมูลเฉพาะลักษณะการใช้ประโยชน์แบบประกอบเกษตรกรรม"
   ]
  },
  {
   "cell_type": "markdown",
   "id": "1e191367",
   "metadata": {},
   "source": [
    "#### ดูข้อมูลทั้งหมด"
   ]
  },
  {
   "cell_type": "code",
   "execution_count": 21,
   "id": "1181abad",
   "metadata": {
    "scrolled": true
   },
   "outputs": [
    {
     "data": {
      "text/html": [
       "<div>\n",
       "<style scoped>\n",
       "    .dataframe tbody tr th:only-of-type {\n",
       "        vertical-align: middle;\n",
       "    }\n",
       "\n",
       "    .dataframe tbody tr th {\n",
       "        vertical-align: top;\n",
       "    }\n",
       "\n",
       "    .dataframe thead th {\n",
       "        text-align: right;\n",
       "    }\n",
       "</style>\n",
       "<table border=\"1\" class=\"dataframe\">\n",
       "  <thead>\n",
       "    <tr style=\"text-align: right;\">\n",
       "      <th></th>\n",
       "      <th>order</th>\n",
       "      <th>type</th>\n",
       "      <th>document_number</th>\n",
       "      <th>parcel_number</th>\n",
       "      <th>sub_district_no</th>\n",
       "      <th>location_id</th>\n",
       "      <th>rai</th>\n",
       "      <th>ngan</th>\n",
       "      <th>tarang_wa</th>\n",
       "      <th>usage_agriculture</th>\n",
       "      <th>usage_living</th>\n",
       "      <th>usage_other</th>\n",
       "      <th>usage_none</th>\n",
       "      <th>usage_misc</th>\n",
       "      <th>type_of_usage</th>\n",
       "    </tr>\n",
       "  </thead>\n",
       "  <tbody>\n",
       "    <tr>\n",
       "      <th>1</th>\n",
       "      <td>2</td>\n",
       "      <td>โฉนด</td>\n",
       "      <td>1722</td>\n",
       "      <td>897.0</td>\n",
       "      <td>1476.0</td>\n",
       "      <td>03A002</td>\n",
       "      <td>0.0</td>\n",
       "      <td>0.0</td>\n",
       "      <td>50.0</td>\n",
       "      <td>50.0</td>\n",
       "      <td>0.0</td>\n",
       "      <td>0.0</td>\n",
       "      <td>0.0</td>\n",
       "      <td>0.0</td>\n",
       "      <td>agriculture</td>\n",
       "    </tr>\n",
       "    <tr>\n",
       "      <th>110</th>\n",
       "      <td>111</td>\n",
       "      <td>โฉนด</td>\n",
       "      <td>1401</td>\n",
       "      <td>1273.0</td>\n",
       "      <td>1199.0</td>\n",
       "      <td>03D013</td>\n",
       "      <td>0.0</td>\n",
       "      <td>1.0</td>\n",
       "      <td>52.1</td>\n",
       "      <td>152.1</td>\n",
       "      <td>0.0</td>\n",
       "      <td>0.0</td>\n",
       "      <td>0.0</td>\n",
       "      <td>0.0</td>\n",
       "      <td>agriculture</td>\n",
       "    </tr>\n",
       "    <tr>\n",
       "      <th>111</th>\n",
       "      <td>112</td>\n",
       "      <td>โฉนด</td>\n",
       "      <td>27705</td>\n",
       "      <td>1272.0</td>\n",
       "      <td>3504.0</td>\n",
       "      <td>03D013/001</td>\n",
       "      <td>0.0</td>\n",
       "      <td>1.0</td>\n",
       "      <td>61.1</td>\n",
       "      <td>161.1</td>\n",
       "      <td>0.0</td>\n",
       "      <td>0.0</td>\n",
       "      <td>0.0</td>\n",
       "      <td>0.0</td>\n",
       "      <td>agriculture</td>\n",
       "    </tr>\n",
       "    <tr>\n",
       "      <th>115</th>\n",
       "      <td>116</td>\n",
       "      <td>โฉนด</td>\n",
       "      <td>1875</td>\n",
       "      <td>1279.0</td>\n",
       "      <td>1193.0</td>\n",
       "      <td>03D015</td>\n",
       "      <td>0.0</td>\n",
       "      <td>2.0</td>\n",
       "      <td>11.1</td>\n",
       "      <td>211.1</td>\n",
       "      <td>0.0</td>\n",
       "      <td>0.0</td>\n",
       "      <td>0.0</td>\n",
       "      <td>0.0</td>\n",
       "      <td>agriculture</td>\n",
       "    </tr>\n",
       "    <tr>\n",
       "      <th>123</th>\n",
       "      <td>124</td>\n",
       "      <td>โฉนด</td>\n",
       "      <td>66403</td>\n",
       "      <td>176.0</td>\n",
       "      <td>4117.0</td>\n",
       "      <td>03D019/001</td>\n",
       "      <td>0.0</td>\n",
       "      <td>1.0</td>\n",
       "      <td>65.8</td>\n",
       "      <td>165.8</td>\n",
       "      <td>0.0</td>\n",
       "      <td>0.0</td>\n",
       "      <td>0.0</td>\n",
       "      <td>0.0</td>\n",
       "      <td>agriculture</td>\n",
       "    </tr>\n",
       "    <tr>\n",
       "      <th>192</th>\n",
       "      <td>193</td>\n",
       "      <td>โฉนด</td>\n",
       "      <td>782</td>\n",
       "      <td>1333.0</td>\n",
       "      <td>1180.0</td>\n",
       "      <td>03D080</td>\n",
       "      <td>0.0</td>\n",
       "      <td>0.0</td>\n",
       "      <td>72.3</td>\n",
       "      <td>72.3</td>\n",
       "      <td>0.0</td>\n",
       "      <td>0.0</td>\n",
       "      <td>0.0</td>\n",
       "      <td>0.0</td>\n",
       "      <td>agriculture</td>\n",
       "    </tr>\n",
       "    <tr>\n",
       "      <th>313</th>\n",
       "      <td>314</td>\n",
       "      <td>โฉนด</td>\n",
       "      <td>784</td>\n",
       "      <td>1384.0</td>\n",
       "      <td>1138.0</td>\n",
       "      <td>03F004</td>\n",
       "      <td>0.0</td>\n",
       "      <td>1.0</td>\n",
       "      <td>42.3</td>\n",
       "      <td>142.3</td>\n",
       "      <td>0.0</td>\n",
       "      <td>0.0</td>\n",
       "      <td>0.0</td>\n",
       "      <td>0.0</td>\n",
       "      <td>agriculture</td>\n",
       "    </tr>\n",
       "    <tr>\n",
       "      <th>329</th>\n",
       "      <td>330</td>\n",
       "      <td>โฉนด</td>\n",
       "      <td>26504</td>\n",
       "      <td>1392.0</td>\n",
       "      <td>3439.0</td>\n",
       "      <td>03F011/002</td>\n",
       "      <td>0.0</td>\n",
       "      <td>0.0</td>\n",
       "      <td>87.6</td>\n",
       "      <td>87.6</td>\n",
       "      <td>0.0</td>\n",
       "      <td>0.0</td>\n",
       "      <td>0.0</td>\n",
       "      <td>0.0</td>\n",
       "      <td>agriculture</td>\n",
       "    </tr>\n",
       "    <tr>\n",
       "      <th>343</th>\n",
       "      <td>344</td>\n",
       "      <td>โฉนด</td>\n",
       "      <td>28215</td>\n",
       "      <td>1460.0</td>\n",
       "      <td>3548.0</td>\n",
       "      <td>03F017/001</td>\n",
       "      <td>0.0</td>\n",
       "      <td>1.0</td>\n",
       "      <td>22.5</td>\n",
       "      <td>122.5</td>\n",
       "      <td>0.0</td>\n",
       "      <td>0.0</td>\n",
       "      <td>0.0</td>\n",
       "      <td>0.0</td>\n",
       "      <td>agriculture</td>\n",
       "    </tr>\n",
       "    <tr>\n",
       "      <th>383</th>\n",
       "      <td>384</td>\n",
       "      <td>โฉนด</td>\n",
       "      <td>1143</td>\n",
       "      <td>1418.0</td>\n",
       "      <td>1172.0</td>\n",
       "      <td>03F043</td>\n",
       "      <td>0.0</td>\n",
       "      <td>1.0</td>\n",
       "      <td>64.2</td>\n",
       "      <td>164.2</td>\n",
       "      <td>0.0</td>\n",
       "      <td>0.0</td>\n",
       "      <td>0.0</td>\n",
       "      <td>0.0</td>\n",
       "      <td>agriculture</td>\n",
       "    </tr>\n",
       "    <tr>\n",
       "      <th>384</th>\n",
       "      <td>385</td>\n",
       "      <td>โฉนด</td>\n",
       "      <td>2898</td>\n",
       "      <td>1419.0</td>\n",
       "      <td>1960.0</td>\n",
       "      <td>03F043/001</td>\n",
       "      <td>0.0</td>\n",
       "      <td>1.0</td>\n",
       "      <td>68.9</td>\n",
       "      <td>168.9</td>\n",
       "      <td>0.0</td>\n",
       "      <td>0.0</td>\n",
       "      <td>0.0</td>\n",
       "      <td>0.0</td>\n",
       "      <td>agriculture</td>\n",
       "    </tr>\n",
       "    <tr>\n",
       "      <th>404</th>\n",
       "      <td>405</td>\n",
       "      <td>โฉนด</td>\n",
       "      <td>65914</td>\n",
       "      <td>41.0</td>\n",
       "      <td>4140.0</td>\n",
       "      <td>03F054/001</td>\n",
       "      <td>1.0</td>\n",
       "      <td>0.0</td>\n",
       "      <td>0.0</td>\n",
       "      <td>400.0</td>\n",
       "      <td>0.0</td>\n",
       "      <td>0.0</td>\n",
       "      <td>0.0</td>\n",
       "      <td>0.0</td>\n",
       "      <td>agriculture</td>\n",
       "    </tr>\n",
       "    <tr>\n",
       "      <th>405</th>\n",
       "      <td>406</td>\n",
       "      <td>โฉนด</td>\n",
       "      <td>16431</td>\n",
       "      <td>1435.0</td>\n",
       "      <td>2982.0</td>\n",
       "      <td>03F055</td>\n",
       "      <td>0.0</td>\n",
       "      <td>0.0</td>\n",
       "      <td>92.2</td>\n",
       "      <td>92.2</td>\n",
       "      <td>0.0</td>\n",
       "      <td>0.0</td>\n",
       "      <td>0.0</td>\n",
       "      <td>0.0</td>\n",
       "      <td>agriculture</td>\n",
       "    </tr>\n",
       "    <tr>\n",
       "      <th>428</th>\n",
       "      <td>429</td>\n",
       "      <td>โฉนด</td>\n",
       "      <td>1207</td>\n",
       "      <td>1442.0</td>\n",
       "      <td>1592.0</td>\n",
       "      <td>03F072</td>\n",
       "      <td>2.0</td>\n",
       "      <td>1.0</td>\n",
       "      <td>47.2</td>\n",
       "      <td>947.2</td>\n",
       "      <td>0.0</td>\n",
       "      <td>0.0</td>\n",
       "      <td>0.0</td>\n",
       "      <td>0.0</td>\n",
       "      <td>agriculture</td>\n",
       "    </tr>\n",
       "    <tr>\n",
       "      <th>430</th>\n",
       "      <td>431</td>\n",
       "      <td>โฉนด</td>\n",
       "      <td>142631</td>\n",
       "      <td>72.0</td>\n",
       "      <td>6482.0</td>\n",
       "      <td>03F073/001</td>\n",
       "      <td>0.0</td>\n",
       "      <td>1.0</td>\n",
       "      <td>1.0</td>\n",
       "      <td>101.0</td>\n",
       "      <td>0.0</td>\n",
       "      <td>0.0</td>\n",
       "      <td>0.0</td>\n",
       "      <td>0.0</td>\n",
       "      <td>agriculture</td>\n",
       "    </tr>\n",
       "    <tr>\n",
       "      <th>507</th>\n",
       "      <td>508</td>\n",
       "      <td>โฉนด</td>\n",
       "      <td>145154</td>\n",
       "      <td>55.0</td>\n",
       "      <td>6529.0</td>\n",
       "      <td>03G003/002</td>\n",
       "      <td>1.0</td>\n",
       "      <td>2.0</td>\n",
       "      <td>20.1</td>\n",
       "      <td>620.1</td>\n",
       "      <td>0.0</td>\n",
       "      <td>0.0</td>\n",
       "      <td>0.0</td>\n",
       "      <td>0.0</td>\n",
       "      <td>agriculture</td>\n",
       "    </tr>\n",
       "    <tr>\n",
       "      <th>526</th>\n",
       "      <td>527</td>\n",
       "      <td>โฉนด</td>\n",
       "      <td>18834</td>\n",
       "      <td>1439.0</td>\n",
       "      <td>3035.0</td>\n",
       "      <td>03G022</td>\n",
       "      <td>0.0</td>\n",
       "      <td>2.0</td>\n",
       "      <td>0.0</td>\n",
       "      <td>200.0</td>\n",
       "      <td>0.0</td>\n",
       "      <td>0.0</td>\n",
       "      <td>0.0</td>\n",
       "      <td>0.0</td>\n",
       "      <td>agriculture</td>\n",
       "    </tr>\n",
       "    <tr>\n",
       "      <th>656</th>\n",
       "      <td>657</td>\n",
       "      <td>โฉนด</td>\n",
       "      <td>364</td>\n",
       "      <td>2454.0</td>\n",
       "      <td>539.0</td>\n",
       "      <td>03H035</td>\n",
       "      <td>0.0</td>\n",
       "      <td>2.0</td>\n",
       "      <td>80.8</td>\n",
       "      <td>280.8</td>\n",
       "      <td>0.0</td>\n",
       "      <td>0.0</td>\n",
       "      <td>0.0</td>\n",
       "      <td>0.0</td>\n",
       "      <td>agriculture</td>\n",
       "    </tr>\n",
       "    <tr>\n",
       "      <th>690</th>\n",
       "      <td>691</td>\n",
       "      <td>โฉนด</td>\n",
       "      <td>59846</td>\n",
       "      <td>2433.0</td>\n",
       "      <td>4017.0</td>\n",
       "      <td>03H060/001</td>\n",
       "      <td>1.0</td>\n",
       "      <td>3.0</td>\n",
       "      <td>28.4</td>\n",
       "      <td>728.4</td>\n",
       "      <td>0.0</td>\n",
       "      <td>0.0</td>\n",
       "      <td>0.0</td>\n",
       "      <td>0.0</td>\n",
       "      <td>agriculture</td>\n",
       "    </tr>\n",
       "    <tr>\n",
       "      <th>725</th>\n",
       "      <td>726</td>\n",
       "      <td>โฉนด</td>\n",
       "      <td>272</td>\n",
       "      <td>2274.0</td>\n",
       "      <td>405.0</td>\n",
       "      <td>03H091</td>\n",
       "      <td>0.0</td>\n",
       "      <td>0.0</td>\n",
       "      <td>55.3</td>\n",
       "      <td>55.3</td>\n",
       "      <td>0.0</td>\n",
       "      <td>55.3</td>\n",
       "      <td>0.0</td>\n",
       "      <td>0.0</td>\n",
       "      <td>agriculture</td>\n",
       "    </tr>\n",
       "    <tr>\n",
       "      <th>726</th>\n",
       "      <td>727</td>\n",
       "      <td>โฉนด</td>\n",
       "      <td>45830</td>\n",
       "      <td>2273.0</td>\n",
       "      <td>3848.0</td>\n",
       "      <td>03H091/001</td>\n",
       "      <td>0.0</td>\n",
       "      <td>1.0</td>\n",
       "      <td>10.5</td>\n",
       "      <td>110.5</td>\n",
       "      <td>0.0</td>\n",
       "      <td>110.5</td>\n",
       "      <td>0.0</td>\n",
       "      <td>0.0</td>\n",
       "      <td>agriculture</td>\n",
       "    </tr>\n",
       "    <tr>\n",
       "      <th>727</th>\n",
       "      <td>728</td>\n",
       "      <td>โฉนด</td>\n",
       "      <td>45829</td>\n",
       "      <td>2275.0</td>\n",
       "      <td>3847.0</td>\n",
       "      <td>03H091/002</td>\n",
       "      <td>0.0</td>\n",
       "      <td>1.0</td>\n",
       "      <td>10.5</td>\n",
       "      <td>110.5</td>\n",
       "      <td>0.0</td>\n",
       "      <td>110.5</td>\n",
       "      <td>0.0</td>\n",
       "      <td>0.0</td>\n",
       "      <td>agriculture</td>\n",
       "    </tr>\n",
       "    <tr>\n",
       "      <th>728</th>\n",
       "      <td>729</td>\n",
       "      <td>โฉนด</td>\n",
       "      <td>45828</td>\n",
       "      <td>2276.0</td>\n",
       "      <td>3846.0</td>\n",
       "      <td>03H091/003</td>\n",
       "      <td>0.0</td>\n",
       "      <td>1.0</td>\n",
       "      <td>10.5</td>\n",
       "      <td>110.5</td>\n",
       "      <td>110.5</td>\n",
       "      <td>0.0</td>\n",
       "      <td>0.0</td>\n",
       "      <td>0.0</td>\n",
       "      <td>agriculture</td>\n",
       "    </tr>\n",
       "    <tr>\n",
       "      <th>729</th>\n",
       "      <td>730</td>\n",
       "      <td>โฉนด</td>\n",
       "      <td>97547</td>\n",
       "      <td>18.0</td>\n",
       "      <td>4927.0</td>\n",
       "      <td>03H091/004</td>\n",
       "      <td>0.0</td>\n",
       "      <td>0.0</td>\n",
       "      <td>55.3</td>\n",
       "      <td>55.3</td>\n",
       "      <td>0.0</td>\n",
       "      <td>55.3</td>\n",
       "      <td>0.0</td>\n",
       "      <td>0.0</td>\n",
       "      <td>agriculture</td>\n",
       "    </tr>\n",
       "    <tr>\n",
       "      <th>730</th>\n",
       "      <td>731</td>\n",
       "      <td>โฉนด</td>\n",
       "      <td>86501</td>\n",
       "      <td>10.0</td>\n",
       "      <td>4754.0</td>\n",
       "      <td>03H092</td>\n",
       "      <td>0.0</td>\n",
       "      <td>1.0</td>\n",
       "      <td>32.6</td>\n",
       "      <td>132.6</td>\n",
       "      <td>0.0</td>\n",
       "      <td>0.0</td>\n",
       "      <td>132.6</td>\n",
       "      <td>0.0</td>\n",
       "      <td>agriculture</td>\n",
       "    </tr>\n",
       "    <tr>\n",
       "      <th>731</th>\n",
       "      <td>732</td>\n",
       "      <td>โฉนด</td>\n",
       "      <td>69648</td>\n",
       "      <td>2.0</td>\n",
       "      <td>4337.0</td>\n",
       "      <td>03H093</td>\n",
       "      <td>0.0</td>\n",
       "      <td>1.0</td>\n",
       "      <td>35.3</td>\n",
       "      <td>135.3</td>\n",
       "      <td>0.0</td>\n",
       "      <td>0.0</td>\n",
       "      <td>135.3</td>\n",
       "      <td>0.0</td>\n",
       "      <td>agriculture</td>\n",
       "    </tr>\n",
       "    <tr>\n",
       "      <th>732</th>\n",
       "      <td>733</td>\n",
       "      <td>โฉนด</td>\n",
       "      <td>30634</td>\n",
       "      <td>2508.0</td>\n",
       "      <td>3560.0</td>\n",
       "      <td>03H094</td>\n",
       "      <td>0.0</td>\n",
       "      <td>3.0</td>\n",
       "      <td>53.9</td>\n",
       "      <td>353.9</td>\n",
       "      <td>0.0</td>\n",
       "      <td>0.0</td>\n",
       "      <td>353.9</td>\n",
       "      <td>0.0</td>\n",
       "      <td>agriculture</td>\n",
       "    </tr>\n",
       "    <tr>\n",
       "      <th>733</th>\n",
       "      <td>734</td>\n",
       "      <td>โฉนด</td>\n",
       "      <td>30549</td>\n",
       "      <td>2507.0</td>\n",
       "      <td>3559.0</td>\n",
       "      <td>03H095</td>\n",
       "      <td>0.0</td>\n",
       "      <td>1.0</td>\n",
       "      <td>99.2</td>\n",
       "      <td>199.2</td>\n",
       "      <td>0.0</td>\n",
       "      <td>0.0</td>\n",
       "      <td>199.2</td>\n",
       "      <td>0.0</td>\n",
       "      <td>agriculture</td>\n",
       "    </tr>\n",
       "    <tr>\n",
       "      <th>734</th>\n",
       "      <td>735</td>\n",
       "      <td>โฉนด</td>\n",
       "      <td>29016</td>\n",
       "      <td>2506.0</td>\n",
       "      <td>3561.0</td>\n",
       "      <td>03H096</td>\n",
       "      <td>0.0</td>\n",
       "      <td>2.0</td>\n",
       "      <td>37.4</td>\n",
       "      <td>237.4</td>\n",
       "      <td>0.0</td>\n",
       "      <td>0.0</td>\n",
       "      <td>237.4</td>\n",
       "      <td>0.0</td>\n",
       "      <td>agriculture</td>\n",
       "    </tr>\n",
       "    <tr>\n",
       "      <th>735</th>\n",
       "      <td>736</td>\n",
       "      <td>โฉนด</td>\n",
       "      <td>69998</td>\n",
       "      <td>2560.0</td>\n",
       "      <td>4106.0</td>\n",
       "      <td>03H097</td>\n",
       "      <td>0.0</td>\n",
       "      <td>1.0</td>\n",
       "      <td>15.4</td>\n",
       "      <td>115.4</td>\n",
       "      <td>0.0</td>\n",
       "      <td>0.0</td>\n",
       "      <td>115.4</td>\n",
       "      <td>0.0</td>\n",
       "      <td>agriculture</td>\n",
       "    </tr>\n",
       "  </tbody>\n",
       "</table>\n",
       "</div>"
      ],
      "text/plain": [
       "     order  type document_number parcel_number sub_district_no location_id  \\\n",
       "1        2  โฉนด            1722         897.0          1476.0      03A002   \n",
       "110    111  โฉนด            1401        1273.0          1199.0      03D013   \n",
       "111    112  โฉนด           27705        1272.0          3504.0  03D013/001   \n",
       "115    116  โฉนด            1875        1279.0          1193.0      03D015   \n",
       "123    124  โฉนด           66403         176.0          4117.0  03D019/001   \n",
       "192    193  โฉนด             782        1333.0          1180.0      03D080   \n",
       "313    314  โฉนด             784        1384.0          1138.0      03F004   \n",
       "329    330  โฉนด           26504        1392.0          3439.0  03F011/002   \n",
       "343    344  โฉนด           28215        1460.0          3548.0  03F017/001   \n",
       "383    384  โฉนด            1143        1418.0          1172.0      03F043   \n",
       "384    385  โฉนด            2898        1419.0          1960.0  03F043/001   \n",
       "404    405  โฉนด           65914          41.0          4140.0  03F054/001   \n",
       "405    406  โฉนด           16431        1435.0          2982.0      03F055   \n",
       "428    429  โฉนด            1207        1442.0          1592.0      03F072   \n",
       "430    431  โฉนด          142631          72.0          6482.0  03F073/001   \n",
       "507    508  โฉนด          145154          55.0          6529.0  03G003/002   \n",
       "526    527  โฉนด           18834        1439.0          3035.0      03G022   \n",
       "656    657  โฉนด             364        2454.0           539.0      03H035   \n",
       "690    691  โฉนด           59846        2433.0          4017.0  03H060/001   \n",
       "725    726  โฉนด             272        2274.0           405.0      03H091   \n",
       "726    727  โฉนด           45830        2273.0          3848.0  03H091/001   \n",
       "727    728  โฉนด           45829        2275.0          3847.0  03H091/002   \n",
       "728    729  โฉนด           45828        2276.0          3846.0  03H091/003   \n",
       "729    730  โฉนด           97547          18.0          4927.0  03H091/004   \n",
       "730    731  โฉนด           86501          10.0          4754.0      03H092   \n",
       "731    732  โฉนด           69648           2.0          4337.0      03H093   \n",
       "732    733  โฉนด           30634        2508.0          3560.0      03H094   \n",
       "733    734  โฉนด           30549        2507.0          3559.0      03H095   \n",
       "734    735  โฉนด           29016        2506.0          3561.0      03H096   \n",
       "735    736  โฉนด           69998        2560.0          4106.0      03H097   \n",
       "\n",
       "     rai ngan  tarang_wa  usage_agriculture  usage_living  usage_other  \\\n",
       "1    0.0  0.0       50.0               50.0           0.0          0.0   \n",
       "110  0.0  1.0       52.1              152.1           0.0          0.0   \n",
       "111  0.0  1.0       61.1              161.1           0.0          0.0   \n",
       "115  0.0  2.0       11.1              211.1           0.0          0.0   \n",
       "123  0.0  1.0       65.8              165.8           0.0          0.0   \n",
       "192  0.0  0.0       72.3               72.3           0.0          0.0   \n",
       "313  0.0  1.0       42.3              142.3           0.0          0.0   \n",
       "329  0.0  0.0       87.6               87.6           0.0          0.0   \n",
       "343  0.0  1.0       22.5              122.5           0.0          0.0   \n",
       "383  0.0  1.0       64.2              164.2           0.0          0.0   \n",
       "384  0.0  1.0       68.9              168.9           0.0          0.0   \n",
       "404  1.0  0.0        0.0              400.0           0.0          0.0   \n",
       "405  0.0  0.0       92.2               92.2           0.0          0.0   \n",
       "428  2.0  1.0       47.2              947.2           0.0          0.0   \n",
       "430  0.0  1.0        1.0              101.0           0.0          0.0   \n",
       "507  1.0  2.0       20.1              620.1           0.0          0.0   \n",
       "526  0.0  2.0        0.0              200.0           0.0          0.0   \n",
       "656  0.0  2.0       80.8              280.8           0.0          0.0   \n",
       "690  1.0  3.0       28.4              728.4           0.0          0.0   \n",
       "725  0.0  0.0       55.3               55.3           0.0         55.3   \n",
       "726  0.0  1.0       10.5              110.5           0.0        110.5   \n",
       "727  0.0  1.0       10.5              110.5           0.0        110.5   \n",
       "728  0.0  1.0       10.5              110.5         110.5          0.0   \n",
       "729  0.0  0.0       55.3               55.3           0.0         55.3   \n",
       "730  0.0  1.0       32.6              132.6           0.0          0.0   \n",
       "731  0.0  1.0       35.3              135.3           0.0          0.0   \n",
       "732  0.0  3.0       53.9              353.9           0.0          0.0   \n",
       "733  0.0  1.0       99.2              199.2           0.0          0.0   \n",
       "734  0.0  2.0       37.4              237.4           0.0          0.0   \n",
       "735  0.0  1.0       15.4              115.4           0.0          0.0   \n",
       "\n",
       "     usage_none  usage_misc type_of_usage  \n",
       "1           0.0         0.0   agriculture  \n",
       "110         0.0         0.0   agriculture  \n",
       "111         0.0         0.0   agriculture  \n",
       "115         0.0         0.0   agriculture  \n",
       "123         0.0         0.0   agriculture  \n",
       "192         0.0         0.0   agriculture  \n",
       "313         0.0         0.0   agriculture  \n",
       "329         0.0         0.0   agriculture  \n",
       "343         0.0         0.0   agriculture  \n",
       "383         0.0         0.0   agriculture  \n",
       "384         0.0         0.0   agriculture  \n",
       "404         0.0         0.0   agriculture  \n",
       "405         0.0         0.0   agriculture  \n",
       "428         0.0         0.0   agriculture  \n",
       "430         0.0         0.0   agriculture  \n",
       "507         0.0         0.0   agriculture  \n",
       "526         0.0         0.0   agriculture  \n",
       "656         0.0         0.0   agriculture  \n",
       "690         0.0         0.0   agriculture  \n",
       "725         0.0         0.0   agriculture  \n",
       "726         0.0         0.0   agriculture  \n",
       "727         0.0         0.0   agriculture  \n",
       "728         0.0         0.0   agriculture  \n",
       "729         0.0         0.0   agriculture  \n",
       "730       132.6         0.0   agriculture  \n",
       "731       135.3         0.0   agriculture  \n",
       "732       353.9         0.0   agriculture  \n",
       "733       199.2         0.0   agriculture  \n",
       "734       237.4         0.0   agriculture  \n",
       "735       115.4         0.0   agriculture  "
      ]
     },
     "execution_count": 21,
     "metadata": {},
     "output_type": "execute_result"
    }
   ],
   "source": [
    "df_63[\"type\"] = df_63[\"type\"].replace(\"-\", \"ไม่ระบุ\")\n",
    "agricultrue_land = df_63[df_63[\"type_of_usage\"] == \"agriculture\"]\n",
    "agricultrue_land"
   ]
  },
  {
   "cell_type": "markdown",
   "id": "fcde592a",
   "metadata": {},
   "source": [
    "#### จำนวนที่ดินที่ประกอบเกษตรกรรม"
   ]
  },
  {
   "cell_type": "code",
   "execution_count": 28,
   "id": "4caa22b9",
   "metadata": {},
   "outputs": [
    {
     "data": {
      "text/plain": [
       "30"
      ]
     },
     "execution_count": 28,
     "metadata": {},
     "output_type": "execute_result"
    }
   ],
   "source": [
    "len(agricultrue_land) # 30 ที่"
   ]
  },
  {
   "cell_type": "markdown",
   "id": "c29a2011",
   "metadata": {},
   "source": [
    "#### ดูข้อมูลทั้งหมดจำแนกแยกด้วยประเภท"
   ]
  },
  {
   "cell_type": "code",
   "execution_count": 29,
   "id": "8210eaf0",
   "metadata": {},
   "outputs": [
    {
     "data": {
      "text/plain": [
       "type\n",
       "โฉนด    30\n",
       "dtype: int64"
      ]
     },
     "execution_count": 29,
     "metadata": {},
     "output_type": "execute_result"
    }
   ],
   "source": [
    "agricultrue_land.groupby('type').size()\n",
    "\n",
    "# โฉนด 30 ที่"
   ]
  },
  {
   "cell_type": "markdown",
   "id": "b6674951",
   "metadata": {},
   "source": [
    "#### สามารถดาวน์โหลดไฟล์ csv (เฉพาะพื้นที่เกษตรกรรม) โดยการนำ '#' ออกและกดรันโปรแกรม"
   ]
  },
  {
   "cell_type": "code",
   "execution_count": 24,
   "id": "c081ff0a",
   "metadata": {},
   "outputs": [],
   "source": [
    "# df_63[df_63[\"type_of_usage\"] == \"agriculture\"].to_csv('target/data_agri_2563.csv', index=False)"
   ]
  },
  {
   "cell_type": "markdown",
   "id": "ae51c63c",
   "metadata": {},
   "source": [
    "#### สามารถดาวน์โหลดไฟล์ csv โดยการนำ '#' ออกและกดรันโปรแกรม"
   ]
  },
  {
   "cell_type": "code",
   "execution_count": 25,
   "id": "fd5f5daa",
   "metadata": {},
   "outputs": [],
   "source": [
    "# df_63.to_csv('target/data2563.csv', index=False)"
   ]
  },
  {
   "cell_type": "markdown",
   "id": "c4a7d8bb",
   "metadata": {},
   "source": [
    "#### สามารถดาวน์โหลดไฟล์ excel โดยการนำ '#' ออกและกดรันโปรแกรม"
   ]
  },
  {
   "cell_type": "code",
   "execution_count": 26,
   "id": "a92c36b1",
   "metadata": {},
   "outputs": [],
   "source": [
    "# df_63[df_63[\"type_of_usage\"] == \"agriculture\"].to_excel('target/data_agri_2563.xslx', index=False)"
   ]
  }
 ],
 "metadata": {
  "kernelspec": {
   "display_name": "Python 3 (ipykernel)",
   "language": "python",
   "name": "python3"
  },
  "language_info": {
   "codemirror_mode": {
    "name": "ipython",
    "version": 3
   },
   "file_extension": ".py",
   "mimetype": "text/x-python",
   "name": "python",
   "nbconvert_exporter": "python",
   "pygments_lexer": "ipython3",
   "version": "3.9.13"
  }
 },
 "nbformat": 4,
 "nbformat_minor": 5
}
