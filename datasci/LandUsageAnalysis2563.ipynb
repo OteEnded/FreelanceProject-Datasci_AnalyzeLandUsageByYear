{
 "cells": [
  {
   "cell_type": "markdown",
   "id": "a479e1cd",
   "metadata": {},
   "source": [
    "## เตรียมข้อมูลก่อนนำไปวิเคราะห์"
   ]
  },
  {
   "cell_type": "markdown",
   "id": "40512466",
   "metadata": {},
   "source": [
    "### แบบบัญชีรายการที่ดิน เทศบาลเมืองลำพูน อำเภอ เมืองลำพูน จังหวัด ลำพูน"
   ]
  },
  {
   "cell_type": "markdown",
   "id": "3135eca3",
   "metadata": {},
   "source": [
    "#### เปิดไฟล์และทำความสะอาดข้อมูล"
   ]
  },
  {
   "cell_type": "code",
   "execution_count": 128,
   "id": "b279daef",
   "metadata": {},
   "outputs": [],
   "source": [
    "import pandas as pd\n",
    "import numpy as np\n",
    "from matplotlib import pyplot as plt"
   ]
  },
  {
   "cell_type": "code",
   "execution_count": 129,
   "id": "0369b974",
   "metadata": {
    "scrolled": true
   },
   "outputs": [
    {
     "name": "stderr",
     "output_type": "stream",
     "text": [
      "C:\\Users\\NotOte\\AppData\\Local\\Temp\\ipykernel_22356\\1831956958.py:8: FutureWarning: Setting an item of incompatible dtype is deprecated and will raise in a future error of pandas. Value '0       38.7\n",
      "1       75.5\n",
      "2       75.5\n",
      "3       75.5\n",
      "4       20.7\n",
      "        ... \n",
      "6267    35.5\n",
      "6268    48.0\n",
      "6269     0.0\n",
      "6270    81.4\n",
      "6271    70.4\n",
      "Name: tarang_wa, Length: 6272, dtype: object' has dtype incompatible with float64, please explicitly cast to a compatible dtype first.\n",
      "  df_63.iloc[:, 8:] = df_63.iloc[:, 8:].fillna(\"0\")\n",
      "C:\\Users\\NotOte\\AppData\\Local\\Temp\\ipykernel_22356\\1831956958.py:8: FutureWarning: Setting an item of incompatible dtype is deprecated and will raise in a future error of pandas. Value '0       438.7\n",
      "1           0\n",
      "2           0\n",
      "3           0\n",
      "4           0\n",
      "        ...  \n",
      "6267        0\n",
      "6268        0\n",
      "6269        0\n",
      "6270        0\n",
      "6271        0\n",
      "Name: usage_agriculture, Length: 6272, dtype: object' has dtype incompatible with float64, please explicitly cast to a compatible dtype first.\n",
      "  df_63.iloc[:, 8:] = df_63.iloc[:, 8:].fillna(\"0\")\n",
      "C:\\Users\\NotOte\\AppData\\Local\\Temp\\ipykernel_22356\\1831956958.py:8: FutureWarning: Setting an item of incompatible dtype is deprecated and will raise in a future error of pandas. Value '0       438.7\n",
      "1        75.5\n",
      "2        75.5\n",
      "3        75.5\n",
      "4           0\n",
      "        ...  \n",
      "6267        0\n",
      "6268        0\n",
      "6269    200.0\n",
      "6270        0\n",
      "6271        0\n",
      "Name: usage_living, Length: 6272, dtype: object' has dtype incompatible with float64, please explicitly cast to a compatible dtype first.\n",
      "  df_63.iloc[:, 8:] = df_63.iloc[:, 8:].fillna(\"0\")\n",
      "C:\\Users\\NotOte\\AppData\\Local\\Temp\\ipykernel_22356\\1831956958.py:8: FutureWarning: Setting an item of incompatible dtype is deprecated and will raise in a future error of pandas. Value '0           0\n",
      "1           0\n",
      "2           0\n",
      "3           0\n",
      "4       120.7\n",
      "        ...  \n",
      "6267    335.5\n",
      "6268    348.0\n",
      "6269        0\n",
      "6270        0\n",
      "6271        0\n",
      "Name: usage_other, Length: 6272, dtype: object' has dtype incompatible with float64, please explicitly cast to a compatible dtype first.\n",
      "  df_63.iloc[:, 8:] = df_63.iloc[:, 8:].fillna(\"0\")\n",
      "C:\\Users\\NotOte\\AppData\\Local\\Temp\\ipykernel_22356\\1831956958.py:8: FutureWarning: Setting an item of incompatible dtype is deprecated and will raise in a future error of pandas. Value '0           0\n",
      "1           0\n",
      "2           0\n",
      "3           0\n",
      "4           0\n",
      "        ...  \n",
      "6267        0\n",
      "6268        0\n",
      "6269        0\n",
      "6270    381.4\n",
      "6271    570.4\n",
      "Name: usage_none, Length: 6272, dtype: object' has dtype incompatible with float64, please explicitly cast to a compatible dtype first.\n",
      "  df_63.iloc[:, 8:] = df_63.iloc[:, 8:].fillna(\"0\")\n",
      "C:\\Users\\NotOte\\AppData\\Local\\Temp\\ipykernel_22356\\1831956958.py:8: FutureWarning: Setting an item of incompatible dtype is deprecated and will raise in a future error of pandas. Value '0       0\n",
      "1       0\n",
      "2       0\n",
      "3       0\n",
      "4       0\n",
      "       ..\n",
      "6267    0\n",
      "6268    0\n",
      "6269    0\n",
      "6270    0\n",
      "6271    0\n",
      "Name: usage_misc, Length: 6272, dtype: object' has dtype incompatible with float64, please explicitly cast to a compatible dtype first.\n",
      "  df_63.iloc[:, 8:] = df_63.iloc[:, 8:].fillna(\"0\")\n"
     ]
    }
   ],
   "source": [
    "# เปิดไฟล์ csv\n",
    "df_63 = pd.read_csv(\"dataset/2563.csv\")\n",
    "\n",
    "# ลบลูกน้ำออก\n",
    "df_63 = df_63.replace(',','', regex=True)\n",
    "\n",
    "# เติมค่าว่างตั้งแต่หลักที่ 8 ให้เป็น 0\n",
    "df_63.iloc[:, 8:] = df_63.iloc[:, 8:].fillna(\"0\")  \n",
    "\n",
    "# เติมค่าว่างให้เป็น -\n",
    "df_63 = df_63.fillna(\"-\")  \n",
    "\n",
    "# แปลงประเภทของข้อมูลให้เป็นตัวเลข\n",
    "df_63.iloc[:, 8:] = df_63.iloc[:, 8:].astype(float) "
   ]
  },
  {
   "cell_type": "code",
   "execution_count": 130,
   "id": "7948f5ce",
   "metadata": {},
   "outputs": [
    {
     "data": {
      "text/html": [
       "<div>\n",
       "<style scoped>\n",
       "    .dataframe tbody tr th:only-of-type {\n",
       "        vertical-align: middle;\n",
       "    }\n",
       "\n",
       "    .dataframe tbody tr th {\n",
       "        vertical-align: top;\n",
       "    }\n",
       "\n",
       "    .dataframe thead th {\n",
       "        text-align: right;\n",
       "    }\n",
       "</style>\n",
       "<table border=\"1\" class=\"dataframe\">\n",
       "  <thead>\n",
       "    <tr style=\"text-align: right;\">\n",
       "      <th></th>\n",
       "      <th>order</th>\n",
       "      <th>type</th>\n",
       "      <th>document_number</th>\n",
       "      <th>parcel_number</th>\n",
       "      <th>sub_district_no</th>\n",
       "      <th>location_id</th>\n",
       "      <th>rai</th>\n",
       "      <th>ngan</th>\n",
       "      <th>tarang_wa</th>\n",
       "      <th>usage_agriculture</th>\n",
       "      <th>usage_living</th>\n",
       "      <th>usage_other</th>\n",
       "      <th>usage_none</th>\n",
       "      <th>usage_misc</th>\n",
       "    </tr>\n",
       "  </thead>\n",
       "  <tbody>\n",
       "    <tr>\n",
       "      <th>0</th>\n",
       "      <td>1</td>\n",
       "      <td>โฉนด</td>\n",
       "      <td>1181</td>\n",
       "      <td>1384</td>\n",
       "      <td>1441.0</td>\n",
       "      <td>01A002</td>\n",
       "      <td>1.0</td>\n",
       "      <td>0.0</td>\n",
       "      <td>38.7</td>\n",
       "      <td>438.7</td>\n",
       "      <td>438.7</td>\n",
       "      <td>0.0</td>\n",
       "      <td>0.0</td>\n",
       "      <td>0.0</td>\n",
       "    </tr>\n",
       "    <tr>\n",
       "      <th>1</th>\n",
       "      <td>2</td>\n",
       "      <td>โฉนด</td>\n",
       "      <td>1755</td>\n",
       "      <td>1386</td>\n",
       "      <td>1439.0</td>\n",
       "      <td>01A003</td>\n",
       "      <td>0.0</td>\n",
       "      <td>0.0</td>\n",
       "      <td>75.5</td>\n",
       "      <td>0.0</td>\n",
       "      <td>75.5</td>\n",
       "      <td>0.0</td>\n",
       "      <td>0.0</td>\n",
       "      <td>0.0</td>\n",
       "    </tr>\n",
       "    <tr>\n",
       "      <th>2</th>\n",
       "      <td>3</td>\n",
       "      <td>โฉนด</td>\n",
       "      <td>85625</td>\n",
       "      <td>37</td>\n",
       "      <td>4752.0</td>\n",
       "      <td>01A003/001</td>\n",
       "      <td>0.0</td>\n",
       "      <td>0.0</td>\n",
       "      <td>75.5</td>\n",
       "      <td>0.0</td>\n",
       "      <td>75.5</td>\n",
       "      <td>0.0</td>\n",
       "      <td>0.0</td>\n",
       "      <td>0.0</td>\n",
       "    </tr>\n",
       "    <tr>\n",
       "      <th>3</th>\n",
       "      <td>4</td>\n",
       "      <td>โฉนด</td>\n",
       "      <td>85626</td>\n",
       "      <td>38</td>\n",
       "      <td>4753.0</td>\n",
       "      <td>01A003/002</td>\n",
       "      <td>0.0</td>\n",
       "      <td>0.0</td>\n",
       "      <td>75.5</td>\n",
       "      <td>0.0</td>\n",
       "      <td>75.5</td>\n",
       "      <td>0.0</td>\n",
       "      <td>0.0</td>\n",
       "      <td>0.0</td>\n",
       "    </tr>\n",
       "    <tr>\n",
       "      <th>4</th>\n",
       "      <td>5</td>\n",
       "      <td>โฉนด</td>\n",
       "      <td>1402</td>\n",
       "      <td>1385</td>\n",
       "      <td>1440.0</td>\n",
       "      <td>01A004</td>\n",
       "      <td>0.0</td>\n",
       "      <td>1.0</td>\n",
       "      <td>20.7</td>\n",
       "      <td>0.0</td>\n",
       "      <td>0.0</td>\n",
       "      <td>120.7</td>\n",
       "      <td>0.0</td>\n",
       "      <td>0.0</td>\n",
       "    </tr>\n",
       "    <tr>\n",
       "      <th>...</th>\n",
       "      <td>...</td>\n",
       "      <td>...</td>\n",
       "      <td>...</td>\n",
       "      <td>...</td>\n",
       "      <td>...</td>\n",
       "      <td>...</td>\n",
       "      <td>...</td>\n",
       "      <td>...</td>\n",
       "      <td>...</td>\n",
       "      <td>...</td>\n",
       "      <td>...</td>\n",
       "      <td>...</td>\n",
       "      <td>...</td>\n",
       "      <td>...</td>\n",
       "    </tr>\n",
       "    <tr>\n",
       "      <th>6267</th>\n",
       "      <td>6268</td>\n",
       "      <td>โฉนด</td>\n",
       "      <td>29141</td>\n",
       "      <td>2286</td>\n",
       "      <td>3562.0</td>\n",
       "      <td>06L022</td>\n",
       "      <td>0.0</td>\n",
       "      <td>3.0</td>\n",
       "      <td>35.5</td>\n",
       "      <td>0.0</td>\n",
       "      <td>0.0</td>\n",
       "      <td>335.5</td>\n",
       "      <td>0.0</td>\n",
       "      <td>0.0</td>\n",
       "    </tr>\n",
       "    <tr>\n",
       "      <th>6268</th>\n",
       "      <td>6269</td>\n",
       "      <td>โฉนด</td>\n",
       "      <td>29140</td>\n",
       "      <td>2478</td>\n",
       "      <td>3563.0</td>\n",
       "      <td>06L023</td>\n",
       "      <td>0.0</td>\n",
       "      <td>3.0</td>\n",
       "      <td>48.0</td>\n",
       "      <td>0.0</td>\n",
       "      <td>0.0</td>\n",
       "      <td>348.0</td>\n",
       "      <td>0.0</td>\n",
       "      <td>0.0</td>\n",
       "    </tr>\n",
       "    <tr>\n",
       "      <th>6269</th>\n",
       "      <td>6270</td>\n",
       "      <td>โฉนด</td>\n",
       "      <td>98537</td>\n",
       "      <td>219</td>\n",
       "      <td>4945.0</td>\n",
       "      <td>06L023/001</td>\n",
       "      <td>0.0</td>\n",
       "      <td>2.0</td>\n",
       "      <td>0.0</td>\n",
       "      <td>0.0</td>\n",
       "      <td>200.0</td>\n",
       "      <td>0.0</td>\n",
       "      <td>0.0</td>\n",
       "      <td>0.0</td>\n",
       "    </tr>\n",
       "    <tr>\n",
       "      <th>6270</th>\n",
       "      <td>6271</td>\n",
       "      <td>โฉนด</td>\n",
       "      <td>29139</td>\n",
       "      <td>2476</td>\n",
       "      <td>3574.0</td>\n",
       "      <td>06L024</td>\n",
       "      <td>0.0</td>\n",
       "      <td>3.0</td>\n",
       "      <td>81.4</td>\n",
       "      <td>0.0</td>\n",
       "      <td>0.0</td>\n",
       "      <td>0.0</td>\n",
       "      <td>381.4</td>\n",
       "      <td>0.0</td>\n",
       "    </tr>\n",
       "    <tr>\n",
       "      <th>6271</th>\n",
       "      <td>6272</td>\n",
       "      <td>โฉนด</td>\n",
       "      <td>29142</td>\n",
       "      <td>2477</td>\n",
       "      <td>3575.0</td>\n",
       "      <td>06L025</td>\n",
       "      <td>1.0</td>\n",
       "      <td>1.0</td>\n",
       "      <td>70.4</td>\n",
       "      <td>0.0</td>\n",
       "      <td>0.0</td>\n",
       "      <td>0.0</td>\n",
       "      <td>570.4</td>\n",
       "      <td>0.0</td>\n",
       "    </tr>\n",
       "  </tbody>\n",
       "</table>\n",
       "<p>6272 rows × 14 columns</p>\n",
       "</div>"
      ],
      "text/plain": [
       "      order  type  document_number  parcel_number sub_district_no location_id  \\\n",
       "0         1  โฉนด             1181           1384          1441.0      01A002   \n",
       "1         2  โฉนด             1755           1386          1439.0      01A003   \n",
       "2         3  โฉนด            85625             37          4752.0  01A003/001   \n",
       "3         4  โฉนด            85626             38          4753.0  01A003/002   \n",
       "4         5  โฉนด             1402           1385          1440.0      01A004   \n",
       "...     ...   ...              ...            ...             ...         ...   \n",
       "6267   6268  โฉนด            29141           2286          3562.0      06L022   \n",
       "6268   6269  โฉนด            29140           2478          3563.0      06L023   \n",
       "6269   6270  โฉนด            98537            219          4945.0  06L023/001   \n",
       "6270   6271  โฉนด            29139           2476          3574.0      06L024   \n",
       "6271   6272  โฉนด            29142           2477          3575.0      06L025   \n",
       "\n",
       "      rai ngan tarang_wa usage_agriculture usage_living usage_other  \\\n",
       "0     1.0  0.0      38.7             438.7        438.7         0.0   \n",
       "1     0.0  0.0      75.5               0.0         75.5         0.0   \n",
       "2     0.0  0.0      75.5               0.0         75.5         0.0   \n",
       "3     0.0  0.0      75.5               0.0         75.5         0.0   \n",
       "4     0.0  1.0      20.7               0.0          0.0       120.7   \n",
       "...   ...  ...       ...               ...          ...         ...   \n",
       "6267  0.0  3.0      35.5               0.0          0.0       335.5   \n",
       "6268  0.0  3.0      48.0               0.0          0.0       348.0   \n",
       "6269  0.0  2.0       0.0               0.0        200.0         0.0   \n",
       "6270  0.0  3.0      81.4               0.0          0.0         0.0   \n",
       "6271  1.0  1.0      70.4               0.0          0.0         0.0   \n",
       "\n",
       "     usage_none usage_misc  \n",
       "0           0.0        0.0  \n",
       "1           0.0        0.0  \n",
       "2           0.0        0.0  \n",
       "3           0.0        0.0  \n",
       "4           0.0        0.0  \n",
       "...         ...        ...  \n",
       "6267        0.0        0.0  \n",
       "6268        0.0        0.0  \n",
       "6269        0.0        0.0  \n",
       "6270      381.4        0.0  \n",
       "6271      570.4        0.0  \n",
       "\n",
       "[6272 rows x 14 columns]"
      ]
     },
     "execution_count": 130,
     "metadata": {},
     "output_type": "execute_result"
    }
   ],
   "source": [
    "# แสดงข้อมูล\n",
    "df_63"
   ]
  },
  {
   "cell_type": "markdown",
   "id": "2edad7da",
   "metadata": {},
   "source": [
    "#### จำแนกลักษณะการทำประโยชน์"
   ]
  },
  {
   "cell_type": "code",
   "execution_count": 131,
   "id": "fd6ea584",
   "metadata": {},
   "outputs": [],
   "source": [
    "# สร้างคอลัมม์ใหม่\n",
    "df_63[\"type_of_usage\"] = pd.Series([float('NaN')] * len(df_63))"
   ]
  },
  {
   "cell_type": "code",
   "execution_count": 132,
   "id": "3c792cab",
   "metadata": {},
   "outputs": [
    {
     "name": "stderr",
     "output_type": "stream",
     "text": [
      "C:\\Users\\NotOte\\AppData\\Local\\Temp\\ipykernel_22356\\3692351213.py:2: FutureWarning: Downcasting object dtype arrays on .fillna, .ffill, .bfill is deprecated and will change in a future version. Call result.infer_objects(copy=False) instead. To opt-in to the future behavior, set `pd.set_option('future.no_silent_downcasting', True)`\n",
      "  df_63[df_63[\"usage_agriculture\"] > 0] = df_63[df_63[\"usage_agriculture\"] > 0].fillna(\"agriculture\")\n",
      "C:\\Users\\NotOte\\AppData\\Local\\Temp\\ipykernel_22356\\3692351213.py:2: FutureWarning: Setting an item of incompatible dtype is deprecated and will raise an error in a future version of pandas. Value '['agriculture' 'agriculture' 'agriculture' 'agriculture' 'agriculture'\n",
      " 'agriculture' 'agriculture' 'agriculture' 'agriculture' 'agriculture'\n",
      " 'agriculture' 'agriculture' 'agriculture' 'agriculture' 'agriculture'\n",
      " 'agriculture' 'agriculture' 'agriculture' 'agriculture' 'agriculture'\n",
      " 'agriculture' 'agriculture' 'agriculture' 'agriculture' 'agriculture'\n",
      " 'agriculture' 'agriculture' 'agriculture' 'agriculture' 'agriculture'\n",
      " 'agriculture' 'agriculture' 'agriculture' 'agriculture' 'agriculture'\n",
      " 'agriculture' 'agriculture' 'agriculture' 'agriculture' 'agriculture'\n",
      " 'agriculture' 'agriculture' 'agriculture' 'agriculture' 'agriculture'\n",
      " 'agriculture' 'agriculture' 'agriculture' 'agriculture' 'agriculture'\n",
      " 'agriculture' 'agriculture' 'agriculture' 'agriculture' 'agriculture'\n",
      " 'agriculture' 'agriculture' 'agriculture' 'agriculture' 'agriculture'\n",
      " 'agriculture' 'agriculture' 'agriculture' 'agriculture' 'agriculture'\n",
      " 'agriculture' 'agriculture' 'agriculture' 'agriculture' 'agriculture'\n",
      " 'agriculture' 'agriculture' 'agriculture' 'agriculture' 'agriculture'\n",
      " 'agriculture' 'agriculture' 'agriculture' 'agriculture' 'agriculture'\n",
      " 'agriculture' 'agriculture' 'agriculture' 'agriculture' 'agriculture'\n",
      " 'agriculture' 'agriculture' 'agriculture' 'agriculture' 'agriculture'\n",
      " 'agriculture' 'agriculture' 'agriculture' 'agriculture' 'agriculture'\n",
      " 'agriculture' 'agriculture' 'agriculture' 'agriculture' 'agriculture'\n",
      " 'agriculture' 'agriculture' 'agriculture' 'agriculture' 'agriculture'\n",
      " 'agriculture' 'agriculture' 'agriculture' 'agriculture' 'agriculture'\n",
      " 'agriculture' 'agriculture' 'agriculture' 'agriculture' 'agriculture'\n",
      " 'agriculture' 'agriculture' 'agriculture' 'agriculture' 'agriculture'\n",
      " 'agriculture' 'agriculture' 'agriculture' 'agriculture' 'agriculture'\n",
      " 'agriculture' 'agriculture' 'agriculture' 'agriculture' 'agriculture'\n",
      " 'agriculture' 'agriculture' 'agriculture' 'agriculture' 'agriculture'\n",
      " 'agriculture' 'agriculture' 'agriculture' 'agriculture' 'agriculture'\n",
      " 'agriculture' 'agriculture' 'agriculture' 'agriculture' 'agriculture'\n",
      " 'agriculture' 'agriculture' 'agriculture' 'agriculture' 'agriculture'\n",
      " 'agriculture' 'agriculture' 'agriculture' 'agriculture' 'agriculture'\n",
      " 'agriculture' 'agriculture' 'agriculture' 'agriculture' 'agriculture'\n",
      " 'agriculture' 'agriculture' 'agriculture' 'agriculture' 'agriculture'\n",
      " 'agriculture' 'agriculture' 'agriculture' 'agriculture' 'agriculture'\n",
      " 'agriculture' 'agriculture' 'agriculture' 'agriculture' 'agriculture'\n",
      " 'agriculture' 'agriculture' 'agriculture' 'agriculture' 'agriculture'\n",
      " 'agriculture' 'agriculture' 'agriculture' 'agriculture' 'agriculture'\n",
      " 'agriculture' 'agriculture' 'agriculture' 'agriculture' 'agriculture']' has dtype incompatible with float64, please explicitly cast to a compatible dtype first.\n",
      "  df_63[df_63[\"usage_agriculture\"] > 0] = df_63[df_63[\"usage_agriculture\"] > 0].fillna(\"agriculture\")\n",
      "C:\\Users\\NotOte\\AppData\\Local\\Temp\\ipykernel_22356\\3692351213.py:3: FutureWarning: Downcasting object dtype arrays on .fillna, .ffill, .bfill is deprecated and will change in a future version. Call result.infer_objects(copy=False) instead. To opt-in to the future behavior, set `pd.set_option('future.no_silent_downcasting', True)`\n",
      "  df_63[df_63[\"usage_living\"] > 0] = df_63[df_63[\"usage_living\"] > 0].fillna(\"living\")\n",
      "C:\\Users\\NotOte\\AppData\\Local\\Temp\\ipykernel_22356\\3692351213.py:4: FutureWarning: Downcasting object dtype arrays on .fillna, .ffill, .bfill is deprecated and will change in a future version. Call result.infer_objects(copy=False) instead. To opt-in to the future behavior, set `pd.set_option('future.no_silent_downcasting', True)`\n",
      "  df_63[df_63[\"usage_other\"] > 0] = df_63[df_63[\"usage_other\"] > 0].fillna(\"other\")\n",
      "C:\\Users\\NotOte\\AppData\\Local\\Temp\\ipykernel_22356\\3692351213.py:5: FutureWarning: Downcasting object dtype arrays on .fillna, .ffill, .bfill is deprecated and will change in a future version. Call result.infer_objects(copy=False) instead. To opt-in to the future behavior, set `pd.set_option('future.no_silent_downcasting', True)`\n",
      "  df_63[df_63[\"usage_none\"] > 0] = df_63[df_63[\"usage_none\"] > 0].fillna(\"wasteland\")\n"
     ]
    }
   ],
   "source": [
    "# จำแนกลักษณ์การทำประโยชน์จากพื้นที่ใช้งาน ('พื้นที่ประกอบเกษตรกรรม', 'พื้นที่อยู่อาศัย', 'พื้นที่อื่น ๆ', 'พื้นที่ว่างเปล่า', 'พื้นที่ใช้ประโยชน์หลายประเภท' และ 'ไม่ทราบลักษณะการใช้')\n",
    "df_63[df_63[\"usage_agriculture\"] > 0] = df_63[df_63[\"usage_agriculture\"] > 0].fillna(\"agriculture\")\n",
    "df_63[df_63[\"usage_living\"] > 0] = df_63[df_63[\"usage_living\"] > 0].fillna(\"living\")\n",
    "df_63[df_63[\"usage_other\"] > 0] = df_63[df_63[\"usage_other\"] > 0].fillna(\"other\")\n",
    "df_63[df_63[\"usage_none\"] > 0] = df_63[df_63[\"usage_none\"] > 0].fillna(\"wasteland\")\n",
    "df_63[df_63[\"usage_misc\"] > 0] = df_63[df_63[\"usage_misc\"] > 0].fillna(\"misc\")        \n",
    "df_63[\"type_of_usage\"] = df_63[\"type_of_usage\"].fillna(\"unknown\")"
   ]
  },
  {
   "cell_type": "code",
   "execution_count": 133,
   "id": "8c96086a",
   "metadata": {},
   "outputs": [
    {
     "data": {
      "text/html": [
       "<div>\n",
       "<style scoped>\n",
       "    .dataframe tbody tr th:only-of-type {\n",
       "        vertical-align: middle;\n",
       "    }\n",
       "\n",
       "    .dataframe tbody tr th {\n",
       "        vertical-align: top;\n",
       "    }\n",
       "\n",
       "    .dataframe thead th {\n",
       "        text-align: right;\n",
       "    }\n",
       "</style>\n",
       "<table border=\"1\" class=\"dataframe\">\n",
       "  <thead>\n",
       "    <tr style=\"text-align: right;\">\n",
       "      <th></th>\n",
       "      <th>location_id</th>\n",
       "      <th>type_of_usage</th>\n",
       "    </tr>\n",
       "  </thead>\n",
       "  <tbody>\n",
       "    <tr>\n",
       "      <th>0</th>\n",
       "      <td>01A002</td>\n",
       "      <td>agriculture</td>\n",
       "    </tr>\n",
       "    <tr>\n",
       "      <th>1</th>\n",
       "      <td>01A003</td>\n",
       "      <td>living</td>\n",
       "    </tr>\n",
       "    <tr>\n",
       "      <th>2</th>\n",
       "      <td>01A003/001</td>\n",
       "      <td>living</td>\n",
       "    </tr>\n",
       "    <tr>\n",
       "      <th>3</th>\n",
       "      <td>01A003/002</td>\n",
       "      <td>living</td>\n",
       "    </tr>\n",
       "    <tr>\n",
       "      <th>4</th>\n",
       "      <td>01A004</td>\n",
       "      <td>other</td>\n",
       "    </tr>\n",
       "    <tr>\n",
       "      <th>...</th>\n",
       "      <td>...</td>\n",
       "      <td>...</td>\n",
       "    </tr>\n",
       "    <tr>\n",
       "      <th>6267</th>\n",
       "      <td>06L022</td>\n",
       "      <td>other</td>\n",
       "    </tr>\n",
       "    <tr>\n",
       "      <th>6268</th>\n",
       "      <td>06L023</td>\n",
       "      <td>other</td>\n",
       "    </tr>\n",
       "    <tr>\n",
       "      <th>6269</th>\n",
       "      <td>06L023/001</td>\n",
       "      <td>living</td>\n",
       "    </tr>\n",
       "    <tr>\n",
       "      <th>6270</th>\n",
       "      <td>06L024</td>\n",
       "      <td>wasteland</td>\n",
       "    </tr>\n",
       "    <tr>\n",
       "      <th>6271</th>\n",
       "      <td>06L025</td>\n",
       "      <td>wasteland</td>\n",
       "    </tr>\n",
       "  </tbody>\n",
       "</table>\n",
       "<p>6272 rows × 2 columns</p>\n",
       "</div>"
      ],
      "text/plain": [
       "     location_id type_of_usage\n",
       "0         01A002   agriculture\n",
       "1         01A003        living\n",
       "2     01A003/001        living\n",
       "3     01A003/002        living\n",
       "4         01A004         other\n",
       "...          ...           ...\n",
       "6267      06L022         other\n",
       "6268      06L023         other\n",
       "6269  06L023/001        living\n",
       "6270      06L024     wasteland\n",
       "6271      06L025     wasteland\n",
       "\n",
       "[6272 rows x 2 columns]"
      ]
     },
     "execution_count": 133,
     "metadata": {},
     "output_type": "execute_result"
    }
   ],
   "source": [
    "# แสดงข้อมูลโดยจำแนกออกมาแค่ รหัสแปลงที่ดิน และ ลักษณะการใช้ประโยชน์\n",
    "# พื้นที่ประกอบเกษตรกรรม : agriculture, พื้นที่อยู่อาศัย : living, พื้นที่อื่น ๆ : other, \n",
    "# พื้นที่ว่างเปล่า : wasteland, พื้นที่ใช้ประโยชน์หลายประเภท : misc และ ไม่ทราบลักษณะการใช้ : unknown\n",
    "\n",
    "df_63[ ['location_id', 'type_of_usage'] ]"
   ]
  },
  {
   "cell_type": "markdown",
   "id": "b8c77423",
   "metadata": {},
   "source": [
    "## วิเคราะห์ข้อมูลและรายงานผล"
   ]
  },
  {
   "cell_type": "markdown",
   "id": "2a58966f",
   "metadata": {},
   "source": [
    "#### จากแบบบัญชีรายการที่ดิน เทศบาลเมืองลำพูน อำเภอเมือง จังหวัดลำพูน ในปี 2563 มีที่ดิน 736 ที่"
   ]
  },
  {
   "cell_type": "code",
   "execution_count": 134,
   "id": "17771c6e",
   "metadata": {
    "scrolled": true
   },
   "outputs": [
    {
     "data": {
      "text/plain": [
       "6272"
      ]
     },
     "execution_count": 134,
     "metadata": {},
     "output_type": "execute_result"
    }
   ],
   "source": [
    "land = len(df_63) \n",
    "land"
   ]
  },
  {
   "cell_type": "markdown",
   "id": "f340e4ee",
   "metadata": {},
   "source": [
    "### ที่ดินสามารถจำแนกจากลักษณะการทำประโยชน์ 6 รายการ ได้แก่ ประกอบการเกษตร, ใช้เพื่ออยู่อาศัย, อื่น ๆ , ไม่ใช้ประโยชน์, ใช้ประโยชน์หลายประเภท และ ไม่ทราบลักษณะการใช้"
   ]
  },
  {
   "cell_type": "markdown",
   "id": "c966fa28",
   "metadata": {},
   "source": [
    "#### มีพื้นที่ประกอบเกษตรกรรม 30 พื้นที่ คิดเป็น 4.0761 เปอร์เซ็นของพื้นที่ทั้งหมดในอำเภอเมือง จังหวัดลำพูน"
   ]
  },
  {
   "cell_type": "code",
   "execution_count": 135,
   "id": "9b48cd36",
   "metadata": {},
   "outputs": [
    {
     "data": {
      "text/plain": [
       "190"
      ]
     },
     "execution_count": 135,
     "metadata": {},
     "output_type": "execute_result"
    }
   ],
   "source": [
    "len(df_63[df_63[\"type_of_usage\"] == \"agriculture\"])"
   ]
  },
  {
   "cell_type": "code",
   "execution_count": 136,
   "id": "73552108",
   "metadata": {},
   "outputs": [
    {
     "data": {
      "text/plain": [
       "3.0293367346938775"
      ]
     },
     "execution_count": 136,
     "metadata": {},
     "output_type": "execute_result"
    }
   ],
   "source": [
    "(len(df_63[df_63[\"type_of_usage\"] == \"agriculture\"]) / land) * 100  "
   ]
  },
  {
   "cell_type": "markdown",
   "id": "9db6c2dc",
   "metadata": {},
   "source": [
    "#### มีพื้นที่อยู่อาศัย 269 พื้นที่ คิดเป็น 36.5489 เปอร์เซ็นของพื้นที่ทั้งหมดในอำเภอเมือง จังหวัดลำพูน "
   ]
  },
  {
   "cell_type": "code",
   "execution_count": 137,
   "id": "5a1be44a",
   "metadata": {},
   "outputs": [
    {
     "data": {
      "text/plain": [
       "1694"
      ]
     },
     "execution_count": 137,
     "metadata": {},
     "output_type": "execute_result"
    }
   ],
   "source": [
    "len(df_63[df_63[\"type_of_usage\"] == \"living\"]) "
   ]
  },
  {
   "cell_type": "code",
   "execution_count": 138,
   "id": "015d648a",
   "metadata": {
    "scrolled": false
   },
   "outputs": [
    {
     "data": {
      "text/plain": [
       "27.00892857142857"
      ]
     },
     "execution_count": 138,
     "metadata": {},
     "output_type": "execute_result"
    }
   ],
   "source": [
    "len(df_63[df_63[\"type_of_usage\"] == \"living\"]) / land * 100"
   ]
  },
  {
   "cell_type": "markdown",
   "id": "830a351d",
   "metadata": {},
   "source": [
    "#### มีพื้นที่อื่น ๆ 292 พื้นที่ คิดเป็น 39.6739 เปอร์เซ็นของพื้นที่ทั้งหมดในอำเภอเมือง จังหวัดลำพูน"
   ]
  },
  {
   "cell_type": "code",
   "execution_count": 139,
   "id": "946d9056",
   "metadata": {},
   "outputs": [
    {
     "data": {
      "text/plain": [
       "3463"
      ]
     },
     "execution_count": 139,
     "metadata": {},
     "output_type": "execute_result"
    }
   ],
   "source": [
    "len(df_63[df_63[\"type_of_usage\"] == \"other\"])"
   ]
  },
  {
   "cell_type": "code",
   "execution_count": 140,
   "id": "2356fcdd",
   "metadata": {},
   "outputs": [
    {
     "data": {
      "text/plain": [
       "55.213647959183675"
      ]
     },
     "execution_count": 140,
     "metadata": {},
     "output_type": "execute_result"
    }
   ],
   "source": [
    "len(df_63[df_63[\"type_of_usage\"] == \"other\"]) / land * 100"
   ]
  },
  {
   "cell_type": "markdown",
   "id": "90e203a4",
   "metadata": {},
   "source": [
    "#### มีพื้นที่ว่างเปล่า/ไม่ทำประโยชน์ 122 พื้นที่ คิดเป็น 16.5760 เปอร์เซ็นของพื้นที่ทั้งหมดในอำเภอเมือง จังหวัดลำพูน"
   ]
  },
  {
   "cell_type": "code",
   "execution_count": 141,
   "id": "cd3bd9a8",
   "metadata": {},
   "outputs": [
    {
     "data": {
      "text/plain": [
       "806"
      ]
     },
     "execution_count": 141,
     "metadata": {},
     "output_type": "execute_result"
    }
   ],
   "source": [
    "len(df_63[df_63[\"type_of_usage\"] == \"wasteland\"])"
   ]
  },
  {
   "cell_type": "code",
   "execution_count": 142,
   "id": "6fca2306",
   "metadata": {},
   "outputs": [
    {
     "data": {
      "text/plain": [
       "12.85076530612245"
      ]
     },
     "execution_count": 142,
     "metadata": {},
     "output_type": "execute_result"
    }
   ],
   "source": [
    "len(df_63[df_63[\"type_of_usage\"] == \"wasteland\"]) / land * 100"
   ]
  },
  {
   "cell_type": "markdown",
   "id": "445e06a2",
   "metadata": {},
   "source": [
    "#### และมีพื้นที่ใช้ประโยชน์หลายประเภท 0 พื้นที่ คิดเป็น 0.0 เปอร์เซ็นของพื้นที่ทั้งหมดในอำเภอเมือง จังหวัดลำพูน"
   ]
  },
  {
   "cell_type": "code",
   "execution_count": 143,
   "id": "78231bbf",
   "metadata": {},
   "outputs": [
    {
     "data": {
      "text/plain": [
       "0"
      ]
     },
     "execution_count": 143,
     "metadata": {},
     "output_type": "execute_result"
    }
   ],
   "source": [
    "len(df_63[df_63[\"type_of_usage\"] == \"misc\"])"
   ]
  },
  {
   "cell_type": "code",
   "execution_count": 144,
   "id": "565ea756",
   "metadata": {
    "scrolled": false
   },
   "outputs": [
    {
     "data": {
      "text/plain": [
       "0.0"
      ]
     },
     "execution_count": 144,
     "metadata": {},
     "output_type": "execute_result"
    }
   ],
   "source": [
    "len(df_63[df_63[\"type_of_usage\"] == \"misc\"]) / land * 100"
   ]
  },
  {
   "cell_type": "markdown",
   "id": "30a87b5c",
   "metadata": {},
   "source": [
    "#### และมีพื้นที่ไม่ทราบลักษณะการใช้ 23 พื้นที่ คิดเป็น 3.125 เปอร์เซ็นของพื้นที่ทั้งหมดในอำเภอเมือง จังหวัดลำพูน"
   ]
  },
  {
   "cell_type": "code",
   "execution_count": 145,
   "id": "24f76194",
   "metadata": {},
   "outputs": [
    {
     "data": {
      "text/plain": [
       "119"
      ]
     },
     "execution_count": 145,
     "metadata": {},
     "output_type": "execute_result"
    }
   ],
   "source": [
    "len(df_63[df_63[\"type_of_usage\"] == \"unknown\"])"
   ]
  },
  {
   "cell_type": "code",
   "execution_count": 146,
   "id": "e10249bd",
   "metadata": {},
   "outputs": [
    {
     "data": {
      "text/plain": [
       "1.8973214285714284"
      ]
     },
     "execution_count": 146,
     "metadata": {},
     "output_type": "execute_result"
    }
   ],
   "source": [
    "len(df_63[df_63[\"type_of_usage\"] == \"unknown\"]) / land * 100"
   ]
  },
  {
   "cell_type": "markdown",
   "id": "ce3527d5",
   "metadata": {},
   "source": [
    "#### จากข้อมูลข้างต้น สามารถนำมาแสดงเป็นแผนภาพได้ดังนี้"
   ]
  },
  {
   "cell_type": "code",
   "execution_count": 147,
   "id": "756bd0d3",
   "metadata": {
    "scrolled": true
   },
   "outputs": [
    {
     "data": {
      "image/png": "[encoded data removed]",
      "text/plain": [
       "<Figure size 640x480 with 1 Axes>"
      ]
     },
     "metadata": {},
     "output_type": "display_data"
    }
   ],
   "source": [
    "from matplotlib import pyplot as plt\n",
    "from matplotlib.font_manager import FontProperties\n",
    "\n",
    "plt.rcParams[\"font.family\"] = \"Cordia New\"\n",
    "plt.rcParams[\"font.serif\"] = \"Cordia New\"\n",
    "\n",
    "# สร้างกราฟ\n",
    "data = [ len(df_63[df_63[\"type_of_usage\"] == \"agriculture\"]),\n",
    "         len(df_63[df_63[\"type_of_usage\"] == \"living\"]), \n",
    "         len(df_63[df_63[\"type_of_usage\"] == \"other\"]), \n",
    "         len(df_63[df_63[\"type_of_usage\"] == \"wasteland\"]),\n",
    "         len(df_63[df_63[\"type_of_usage\"] == \"unknown\"])\n",
    "       ]\n",
    "labels = ['ประกอบเกษตรกรรม','อยู่อาศัย ','อื่น ๆ','ว่างเปล่า/ไม่ทำประโยชน์', 'ไม่ทราบลักษณะการใช้'] \n",
    "\n",
    "plt.pie(data, labels=labels, autopct='%1.1f%%')\n",
    "plt.show()"
   ]
  },
  {
   "cell_type": "markdown",
   "id": "3029d508",
   "metadata": {},
   "source": [
    "##  ข้อมูลเฉพาะลักษณะการใช้ประโยชน์แบบประกอบเกษตรกรรม"
   ]
  },
  {
   "cell_type": "markdown",
   "id": "1e191367",
   "metadata": {},
   "source": [
    "#### ดูข้อมูลทั้งหมด"
   ]
  },
  {
   "cell_type": "code",
   "execution_count": 148,
   "id": "1181abad",
   "metadata": {
    "scrolled": true
   },
   "outputs": [
    {
     "data": {
      "text/html": [
       "<div>\n",
       "<style scoped>\n",
       "    .dataframe tbody tr th:only-of-type {\n",
       "        vertical-align: middle;\n",
       "    }\n",
       "\n",
       "    .dataframe tbody tr th {\n",
       "        vertical-align: top;\n",
       "    }\n",
       "\n",
       "    .dataframe thead th {\n",
       "        text-align: right;\n",
       "    }\n",
       "</style>\n",
       "<table border=\"1\" class=\"dataframe\">\n",
       "  <thead>\n",
       "    <tr style=\"text-align: right;\">\n",
       "      <th></th>\n",
       "      <th>order</th>\n",
       "      <th>type</th>\n",
       "      <th>document_number</th>\n",
       "      <th>parcel_number</th>\n",
       "      <th>sub_district_no</th>\n",
       "      <th>location_id</th>\n",
       "      <th>rai</th>\n",
       "      <th>ngan</th>\n",
       "      <th>tarang_wa</th>\n",
       "      <th>usage_agriculture</th>\n",
       "      <th>usage_living</th>\n",
       "      <th>usage_other</th>\n",
       "      <th>usage_none</th>\n",
       "      <th>usage_misc</th>\n",
       "      <th>type_of_usage</th>\n",
       "    </tr>\n",
       "  </thead>\n",
       "  <tbody>\n",
       "    <tr>\n",
       "      <th>0</th>\n",
       "      <td>1</td>\n",
       "      <td>โฉนด</td>\n",
       "      <td>1181</td>\n",
       "      <td>1384</td>\n",
       "      <td>1441.0</td>\n",
       "      <td>01A002</td>\n",
       "      <td>1.0</td>\n",
       "      <td>0.0</td>\n",
       "      <td>38.7</td>\n",
       "      <td>438.7</td>\n",
       "      <td>438.7</td>\n",
       "      <td>0.0</td>\n",
       "      <td>0.0</td>\n",
       "      <td>0.0</td>\n",
       "      <td>agriculture</td>\n",
       "    </tr>\n",
       "    <tr>\n",
       "      <th>5</th>\n",
       "      <td>6</td>\n",
       "      <td>โฉนด</td>\n",
       "      <td>1758</td>\n",
       "      <td>1389</td>\n",
       "      <td>1438.0</td>\n",
       "      <td>01A005</td>\n",
       "      <td>2.0</td>\n",
       "      <td>1.0</td>\n",
       "      <td>8.7</td>\n",
       "      <td>908.7</td>\n",
       "      <td>0.0</td>\n",
       "      <td>0.0</td>\n",
       "      <td>0.0</td>\n",
       "      <td>0.0</td>\n",
       "      <td>agriculture</td>\n",
       "    </tr>\n",
       "    <tr>\n",
       "      <th>39</th>\n",
       "      <td>40</td>\n",
       "      <td>โฉนด</td>\n",
       "      <td>70207</td>\n",
       "      <td>1</td>\n",
       "      <td>4360.0</td>\n",
       "      <td>01A026/001</td>\n",
       "      <td>0.0</td>\n",
       "      <td>0.0</td>\n",
       "      <td>33.3</td>\n",
       "      <td>33.3</td>\n",
       "      <td>0.0</td>\n",
       "      <td>0.0</td>\n",
       "      <td>0.0</td>\n",
       "      <td>0.0</td>\n",
       "      <td>agriculture</td>\n",
       "    </tr>\n",
       "    <tr>\n",
       "      <th>67</th>\n",
       "      <td>68</td>\n",
       "      <td>โฉนด</td>\n",
       "      <td>72196</td>\n",
       "      <td>1411</td>\n",
       "      <td>-</td>\n",
       "      <td>01A044/002</td>\n",
       "      <td>0.0</td>\n",
       "      <td>0.0</td>\n",
       "      <td>84.1</td>\n",
       "      <td>84.1</td>\n",
       "      <td>0.0</td>\n",
       "      <td>0.0</td>\n",
       "      <td>0.0</td>\n",
       "      <td>0.0</td>\n",
       "      <td>agriculture</td>\n",
       "    </tr>\n",
       "    <tr>\n",
       "      <th>123</th>\n",
       "      <td>124</td>\n",
       "      <td>โฉนด</td>\n",
       "      <td>2823</td>\n",
       "      <td>289</td>\n",
       "      <td>1884.0</td>\n",
       "      <td>01B039</td>\n",
       "      <td>0.0</td>\n",
       "      <td>1.0</td>\n",
       "      <td>33.0</td>\n",
       "      <td>133.0</td>\n",
       "      <td>0.0</td>\n",
       "      <td>0.0</td>\n",
       "      <td>0.0</td>\n",
       "      <td>0.0</td>\n",
       "      <td>agriculture</td>\n",
       "    </tr>\n",
       "    <tr>\n",
       "      <th>...</th>\n",
       "      <td>...</td>\n",
       "      <td>...</td>\n",
       "      <td>...</td>\n",
       "      <td>...</td>\n",
       "      <td>...</td>\n",
       "      <td>...</td>\n",
       "      <td>...</td>\n",
       "      <td>...</td>\n",
       "      <td>...</td>\n",
       "      <td>...</td>\n",
       "      <td>...</td>\n",
       "      <td>...</td>\n",
       "      <td>...</td>\n",
       "      <td>...</td>\n",
       "      <td>...</td>\n",
       "    </tr>\n",
       "    <tr>\n",
       "      <th>6165</th>\n",
       "      <td>6166</td>\n",
       "      <td>โฉนด</td>\n",
       "      <td>130392</td>\n",
       "      <td>2762</td>\n",
       "      <td>5490.0</td>\n",
       "      <td>06K001/014</td>\n",
       "      <td>0.0</td>\n",
       "      <td>1.0</td>\n",
       "      <td>43.5</td>\n",
       "      <td>143.5</td>\n",
       "      <td>0.0</td>\n",
       "      <td>0.0</td>\n",
       "      <td>0.0</td>\n",
       "      <td>0.0</td>\n",
       "      <td>agriculture</td>\n",
       "    </tr>\n",
       "    <tr>\n",
       "      <th>6203</th>\n",
       "      <td>6204</td>\n",
       "      <td>โฉนด</td>\n",
       "      <td>134218</td>\n",
       "      <td>2117</td>\n",
       "      <td>5969.0</td>\n",
       "      <td>06K011/001</td>\n",
       "      <td>0.0</td>\n",
       "      <td>0.0</td>\n",
       "      <td>81.0</td>\n",
       "      <td>81.0</td>\n",
       "      <td>0.0</td>\n",
       "      <td>0.0</td>\n",
       "      <td>0.0</td>\n",
       "      <td>0.0</td>\n",
       "      <td>agriculture</td>\n",
       "    </tr>\n",
       "    <tr>\n",
       "      <th>6229</th>\n",
       "      <td>6230</td>\n",
       "      <td>โฉนด</td>\n",
       "      <td>24540</td>\n",
       "      <td>2281</td>\n",
       "      <td>3282.0</td>\n",
       "      <td>06K017</td>\n",
       "      <td>0.0</td>\n",
       "      <td>1.0</td>\n",
       "      <td>96.5</td>\n",
       "      <td>196.5</td>\n",
       "      <td>0.0</td>\n",
       "      <td>0.0</td>\n",
       "      <td>0.0</td>\n",
       "      <td>0.0</td>\n",
       "      <td>agriculture</td>\n",
       "    </tr>\n",
       "    <tr>\n",
       "      <th>6230</th>\n",
       "      <td>6231</td>\n",
       "      <td>โฉนด</td>\n",
       "      <td>24539</td>\n",
       "      <td>2280</td>\n",
       "      <td>3281.0</td>\n",
       "      <td>06K018</td>\n",
       "      <td>0.0</td>\n",
       "      <td>3.0</td>\n",
       "      <td>93.1</td>\n",
       "      <td>393.1</td>\n",
       "      <td>0.0</td>\n",
       "      <td>0.0</td>\n",
       "      <td>0.0</td>\n",
       "      <td>0.0</td>\n",
       "      <td>agriculture</td>\n",
       "    </tr>\n",
       "    <tr>\n",
       "      <th>6264</th>\n",
       "      <td>6265</td>\n",
       "      <td>โฉนด</td>\n",
       "      <td>29084</td>\n",
       "      <td>2287</td>\n",
       "      <td>3564.0</td>\n",
       "      <td>06L020</td>\n",
       "      <td>1.0</td>\n",
       "      <td>0.0</td>\n",
       "      <td>36.1</td>\n",
       "      <td>436.1</td>\n",
       "      <td>0.0</td>\n",
       "      <td>0.0</td>\n",
       "      <td>0.0</td>\n",
       "      <td>0.0</td>\n",
       "      <td>agriculture</td>\n",
       "    </tr>\n",
       "  </tbody>\n",
       "</table>\n",
       "<p>190 rows × 15 columns</p>\n",
       "</div>"
      ],
      "text/plain": [
       "      order  type  document_number  parcel_number sub_district_no location_id  \\\n",
       "0         1  โฉนด             1181           1384          1441.0      01A002   \n",
       "5         6  โฉนด             1758           1389          1438.0      01A005   \n",
       "39       40  โฉนด            70207              1          4360.0  01A026/001   \n",
       "67       68  โฉนด            72196           1411               -  01A044/002   \n",
       "123     124  โฉนด             2823            289          1884.0      01B039   \n",
       "...     ...   ...              ...            ...             ...         ...   \n",
       "6165   6166  โฉนด           130392           2762          5490.0  06K001/014   \n",
       "6203   6204  โฉนด           134218           2117          5969.0  06K011/001   \n",
       "6229   6230  โฉนด            24540           2281          3282.0      06K017   \n",
       "6230   6231  โฉนด            24539           2280          3281.0      06K018   \n",
       "6264   6265  โฉนด            29084           2287          3564.0      06L020   \n",
       "\n",
       "      rai ngan tarang_wa usage_agriculture usage_living usage_other  \\\n",
       "0     1.0  0.0      38.7             438.7        438.7         0.0   \n",
       "5     2.0  1.0       8.7             908.7          0.0         0.0   \n",
       "39    0.0  0.0      33.3              33.3          0.0         0.0   \n",
       "67    0.0  0.0      84.1              84.1          0.0         0.0   \n",
       "123   0.0  1.0      33.0             133.0          0.0         0.0   \n",
       "...   ...  ...       ...               ...          ...         ...   \n",
       "6165  0.0  1.0      43.5             143.5          0.0         0.0   \n",
       "6203  0.0  0.0      81.0              81.0          0.0         0.0   \n",
       "6229  0.0  1.0      96.5             196.5          0.0         0.0   \n",
       "6230  0.0  3.0      93.1             393.1          0.0         0.0   \n",
       "6264  1.0  0.0      36.1             436.1          0.0         0.0   \n",
       "\n",
       "     usage_none usage_misc type_of_usage  \n",
       "0           0.0        0.0   agriculture  \n",
       "5           0.0        0.0   agriculture  \n",
       "39          0.0        0.0   agriculture  \n",
       "67          0.0        0.0   agriculture  \n",
       "123         0.0        0.0   agriculture  \n",
       "...         ...        ...           ...  \n",
       "6165        0.0        0.0   agriculture  \n",
       "6203        0.0        0.0   agriculture  \n",
       "6229        0.0        0.0   agriculture  \n",
       "6230        0.0        0.0   agriculture  \n",
       "6264        0.0        0.0   agriculture  \n",
       "\n",
       "[190 rows x 15 columns]"
      ]
     },
     "execution_count": 148,
     "metadata": {},
     "output_type": "execute_result"
    }
   ],
   "source": [
    "df_63[\"type\"] = df_63[\"type\"].replace(\"-\", \"ไม่ระบุ\")\n",
    "agricultrue_land = df_63[df_63[\"type_of_usage\"] == \"agriculture\"]\n",
    "agricultrue_land"
   ]
  },
  {
   "cell_type": "markdown",
   "id": "fcde592a",
   "metadata": {},
   "source": [
    "#### จำนวนที่ดินที่ประกอบเกษตรกรรม"
   ]
  },
  {
   "cell_type": "code",
   "execution_count": 149,
   "id": "4caa22b9",
   "metadata": {},
   "outputs": [
    {
     "data": {
      "text/plain": [
       "190"
      ]
     },
     "execution_count": 149,
     "metadata": {},
     "output_type": "execute_result"
    }
   ],
   "source": [
    "len(agricultrue_land) # 30 ที่"
   ]
  },
  {
   "cell_type": "markdown",
   "id": "c29a2011",
   "metadata": {},
   "source": [
    "#### ดูข้อมูลทั้งหมดจำแนกแยกด้วยประเภท"
   ]
  },
  {
   "cell_type": "code",
   "execution_count": 150,
   "id": "b15d8404",
   "metadata": {},
   "outputs": [
    {
     "data": {
      "text/plain": [
       "type\n",
       "1862          1\n",
       "น.ส.3         1\n",
       "นสล           2\n",
       "โฉนด       6263\n",
       "ไม่ระบุ       5\n",
       "dtype: int64"
      ]
     },
     "execution_count": 150,
     "metadata": {},
     "output_type": "execute_result"
    }
   ],
   "source": [
    "df_63.groupby('type').size()"
   ]
  },
  {
   "cell_type": "code",
   "execution_count": 151,
   "id": "8210eaf0",
   "metadata": {},
   "outputs": [
    {
     "data": {
      "text/plain": [
       "type\n",
       "โฉนด    190\n",
       "dtype: int64"
      ]
     },
     "execution_count": 151,
     "metadata": {},
     "output_type": "execute_result"
    }
   ],
   "source": [
    "agricultrue_land.groupby('type').size()\n",
    "\n",
    "# โฉนด 30 ที่"
   ]
  },
  {
   "cell_type": "markdown",
   "id": "ae51c63c",
   "metadata": {},
   "source": [
    "#### สามารถดาวน์โหลดไฟล์ csv โดยการนำ '#' ออกและกดรันโปรแกรม"
   ]
  },
  {
   "cell_type": "code",
   "execution_count": 152,
   "id": "fd5f5daa",
   "metadata": {},
   "outputs": [],
   "source": [
    "# df_63.to_csv('target/data2563.csv', index=False)"
   ]
  },
  {
   "cell_type": "code",
   "execution_count": 153,
   "id": "dc9ab84d",
   "metadata": {},
   "outputs": [],
   "source": [
    "df_63.iloc[:, 8:] = df_63.iloc[:, 8:].replace(0,'-')\n",
    "df_63.iloc[:, -1] = df_63.iloc[:, -1].replace(\"agriculture\", \"ประกอบเกษตรกรรม\")\n",
    "df_63.iloc[:, -1] = df_63.iloc[:, -1].replace(\"living\", \"อยู่อาศัย\")\n",
    "df_63.iloc[:, -1] = df_63.iloc[:, -1].replace(\"other\", \"อื่น ๆ\")\n",
    "df_63.iloc[:, -1] = df_63.iloc[:, -1].replace(\"wasteland\", \"ว่างเปล่า/ไม่ทำประโยชน์\")\n",
    "df_63.iloc[:, -1] = df_63.iloc[:, -1].replace(\"misc\", \"ใช้ประโยชน์หลากหลาย\")\n",
    "df_63.iloc[:, -1] = df_63.iloc[:, -1].replace(\"unknown\", \"ไม่ทราบลักษณะการใช้ \")"
   ]
  },
  {
   "cell_type": "code",
   "execution_count": 154,
   "id": "3c2f2bb5",
   "metadata": {},
   "outputs": [],
   "source": [
    "df_63 = df_63.rename(columns={\n",
    "                    \"order\": \"ที่\", \n",
    "                    \"type\": \"ประเภทที่ดิน\", \n",
    "                    \"document_number\": \"เลขที่เอกสารสิทธิ์\",\n",
    "                    \"parcel_number\": \"เลขที่ดิน\",\n",
    "                    \"sub_district_no\" : \"หน้าสำรวจ\",\n",
    "                    \"location_id\" : \"รหัสแปลงที่ดิน\",\n",
    "                    \"rai\" : \"ไร่\",\n",
    "                    \"ngan\" : \"งาน\",\n",
    "                    \"tarang_wa\" : \"ตร.ว.\",\n",
    "                    \"usage_agriculture\" : \"ประกอบเกษตรกรรม (ตร.ว.)\",\n",
    "                    \"usage_living\" : \"อยู่อาศัย (ตร.ว.)\",\n",
    "                    \"usage_other\" : \"อื่น ๆ (ตร.ว.)\",\n",
    "                    \"usage_none\" : \"ว่างเปล่า/ไม่ทำประโยชน์ (ตร.ว.)\",\n",
    "                    \"usage_misc\" : \"ใช้ประโยชน์หลากหลาย (ตร.ว.)\",\n",
    "                    \"type_of_usage\" : \"ลักษณะการทำประโยชน์\"\n",
    "                    }, errors=\"raise\")"
   ]
  },
  {
   "cell_type": "markdown",
   "id": "b6674951",
   "metadata": {},
   "source": [
    "#### สามารถดาวน์โหลดไฟล์ csv (เฉพาะพื้นที่เกษตรกรรม) โดยการนำ '#' ออกและกดรันโปรแกรม"
   ]
  },
  {
   "cell_type": "code",
   "execution_count": 155,
   "id": "c081ff0a",
   "metadata": {},
   "outputs": [],
   "source": [
    "df_63[df_63[\"ลักษณะการทำประโยชน์\"] == \"ประกอบเกษตรกรรม\"].to_csv('../result/พื้นที่ประกอบเกษตรกรรม/2563/พื้นที่ประกอบเกษตรกรรม2563.csv', index=False)"
   ]
  },
  {
   "cell_type": "markdown",
   "id": "c4a7d8bb",
   "metadata": {},
   "source": [
    "#### สามารถดาวน์โหลดไฟล์ excel (เฉพาะพื้นที่เกษตรกรรม) โดยการนำ '#' ออกและกดรันโปรแกรม"
   ]
  },
  {
   "cell_type": "code",
   "execution_count": 156,
   "id": "a92c36b1",
   "metadata": {},
   "outputs": [],
   "source": [
    "df_63[df_63[\"ลักษณะการทำประโยชน์\"] == \"ประกอบเกษตรกรรม\"].to_excel('../result/พื้นที่ประกอบเกษตรกรรม/2563/พื้นที่ประกอบเกษตรกรรม2563.xlsx', index=False)"
   ]
  },
  {
   "cell_type": "markdown",
   "id": "777ab6dc",
   "metadata": {},
   "source": [
    "#### สามารถดาวน์โหลดไฟล์ csv (เฉพาะพื้นที่รกร้าง) โดยการนำ '#' ออกและกดรันโปรแกรม"
   ]
  },
  {
   "cell_type": "code",
   "execution_count": 157,
   "id": "e08d1937",
   "metadata": {},
   "outputs": [],
   "source": [
    "df_63[df_63[\"ลักษณะการทำประโยชน์\"] == \"ว่างเปล่า/ไม่ทำประโยชน์\"].to_csv('../result/พื้นที่รกร้าง/2563/พื้นที่รกร้าง2563.csv', index=False)"
   ]
  },
  {
   "cell_type": "markdown",
   "id": "688379bd",
   "metadata": {},
   "source": [
    "#### สามารถดาวน์โหลดไฟล์ excel (เฉพาะพื้นที่รกร้าง) โดยการนำ '#' ออกและกดรันโปรแกรม"
   ]
  },
  {
   "cell_type": "code",
   "execution_count": 158,
   "id": "30866101",
   "metadata": {},
   "outputs": [],
   "source": [
    "df_63[df_63[\"ลักษณะการทำประโยชน์\"] == \"ว่างเปล่า/ไม่ทำประโยชน์\"].to_excel('../result/พื้นที่รกร้าง/2563/พื้นที่รกร้าง2563.xlsx', index=False)"
   ]
  },
  {
   "cell_type": "markdown",
   "id": "9e8e7146",
   "metadata": {},
   "source": [
    "------"
   ]
  },
  {
   "cell_type": "code",
   "execution_count": 159,
   "id": "3f54ee38",
   "metadata": {},
   "outputs": [
    {
     "data": {
      "image/png": "[encoded data removed]",
      "text/plain": [
       "<Figure size 640x480 with 1 Axes>"
      ]
     },
     "metadata": {},
     "output_type": "display_data"
    }
   ],
   "source": [
    "value_counts = df_63[\"ลักษณะการทำประโยชน์\"].value_counts() \n",
    "value_counts.plot(kind=\"bar\")\n",
    "plt.title(\"การใช้ที่ดิน 2563\")\n",
    "plt.xlabel(\"ลักษณะการทำประโยชน์\")\n",
    "plt.ylabel(\"จำนวนที่ดิน\")\n",
    "plt.show()"
   ]
  }
 ],
 "metadata": {
  "kernelspec": {
   "display_name": "Python 3 (ipykernel)",
   "language": "python",
   "name": "python3"
  },
  "language_info": {
   "codemirror_mode": {
    "name": "ipython",
    "version": 3
   },
   "file_extension": ".py",
   "mimetype": "text/x-python",
   "name": "python",
   "nbconvert_exporter": "python",
   "pygments_lexer": "ipython3",
   "version": "3.9.5"
  }
 },
 "nbformat": 4,
 "nbformat_minor": 5
}
