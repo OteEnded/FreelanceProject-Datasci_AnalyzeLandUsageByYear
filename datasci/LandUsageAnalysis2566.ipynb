{
 "cells": [
  {
   "cell_type": "markdown",
   "id": "a479e1cd",
   "metadata": {},
   "source": [
    "## เตรียมข้อมูลก่อนนำไปวิเคราะห์"
   ]
  },
  {
   "cell_type": "markdown",
   "id": "40512466",
   "metadata": {},
   "source": [
    "### แบบบัญชีรายการที่ดิน เทศบาลเมืองลำพูน อำเภอ เมืองลำพูน จังหวัด ลำพูน"
   ]
  },
  {
   "cell_type": "markdown",
   "id": "3135eca3",
   "metadata": {},
   "source": [
    "#### เปิดไฟล์และทำความสะอาดข้อมูล"
   ]
  },
  {
   "cell_type": "code",
   "execution_count": 1,
   "id": "b279daef",
   "metadata": {},
   "outputs": [
    {
     "name": "stderr",
     "output_type": "stream",
     "text": [
      "C:\\Users\\NotOte\\AppData\\Local\\Temp\\ipykernel_25296\\3213813731.py:1: DeprecationWarning: \n",
      "Pyarrow will become a required dependency of pandas in the next major release of pandas (pandas 3.0),\n",
      "(to allow more performant data types, such as the Arrow string type, and better interoperability with other libraries)\n",
      "but was not found to be installed on your system.\n",
      "If this would cause problems for you,\n",
      "please provide us feedback at https://github.com/pandas-dev/pandas/issues/54466\n",
      "        \n",
      "  import pandas as pd\n"
     ]
    }
   ],
   "source": [
    "import pandas as pd\n",
    "import numpy as np\n",
    "from matplotlib import pyplot as plt"
   ]
  },
  {
   "cell_type": "code",
   "execution_count": 2,
   "id": "0369b974",
   "metadata": {
    "scrolled": true
   },
   "outputs": [
    {
     "name": "stderr",
     "output_type": "stream",
     "text": [
      "C:\\Users\\NotOte\\AppData\\Local\\Temp\\ipykernel_25296\\3820829784.py:8: FutureWarning: Setting an item of incompatible dtype is deprecated and will raise in a future error of pandas. Value '0       22.7\n",
      "1       38.7\n",
      "2       75.5\n",
      "3       75.5\n",
      "4       75.5\n",
      "        ... \n",
      "6485    77.8\n",
      "6486    48.0\n",
      "6487     0.0\n",
      "6488    81.4\n",
      "6489    70.4\n",
      "Name: tarang_wa, Length: 6490, dtype: object' has dtype incompatible with float64, please explicitly cast to a compatible dtype first.\n",
      "  df_66.iloc[:, 8:] = df_66.iloc[:, 8:].fillna(\"0\")\n",
      "C:\\Users\\NotOte\\AppData\\Local\\Temp\\ipykernel_25296\\3820829784.py:8: FutureWarning: Setting an item of incompatible dtype is deprecated and will raise in a future error of pandas. Value '0       1.0\n",
      "1         0\n",
      "2         0\n",
      "3         0\n",
      "4         0\n",
      "       ... \n",
      "6485      0\n",
      "6486      0\n",
      "6487      0\n",
      "6488      0\n",
      "6489      0\n",
      "Name: usage_misc, Length: 6490, dtype: object' has dtype incompatible with float64, please explicitly cast to a compatible dtype first.\n",
      "  df_66.iloc[:, 8:] = df_66.iloc[:, 8:].fillna(\"0\")\n"
     ]
    }
   ],
   "source": [
    "# เปิดไฟล์ csv\n",
    "df_66 = pd.read_csv(\"dataset/2566.csv\")\n",
    "\n",
    "# ลบลูกน้ำออก\n",
    "df_66 = df_66.replace(',','', regex=True)\n",
    "\n",
    "# เติมค่าว่างตั้งแต่หลักที่ 8 ให้เป็น 0\n",
    "df_66.iloc[:, 8:] = df_66.iloc[:, 8:].fillna(\"0\")  \n",
    "\n",
    "# เติมค่าว่างให้เป็น -\n",
    "df_66 = df_66.fillna(\"-\")  \n",
    "\n",
    "# แปลงประเภทของข้อมูลให้เป็นตัวเลข\n",
    "df_66.iloc[:, 8:] = df_66.iloc[:, 8:].astype(float) "
   ]
  },
  {
   "cell_type": "code",
   "execution_count": 3,
   "id": "7948f5ce",
   "metadata": {},
   "outputs": [
    {
     "data": {
      "text/html": [
       "<div>\n",
       "<style scoped>\n",
       "    .dataframe tbody tr th:only-of-type {\n",
       "        vertical-align: middle;\n",
       "    }\n",
       "\n",
       "    .dataframe tbody tr th {\n",
       "        vertical-align: top;\n",
       "    }\n",
       "\n",
       "    .dataframe thead th {\n",
       "        text-align: right;\n",
       "    }\n",
       "</style>\n",
       "<table border=\"1\" class=\"dataframe\">\n",
       "  <thead>\n",
       "    <tr style=\"text-align: right;\">\n",
       "      <th></th>\n",
       "      <th>order</th>\n",
       "      <th>type</th>\n",
       "      <th>document_number</th>\n",
       "      <th>parcel_number</th>\n",
       "      <th>sub_district_no</th>\n",
       "      <th>location_id</th>\n",
       "      <th>rai</th>\n",
       "      <th>ngan</th>\n",
       "      <th>tarang_wa</th>\n",
       "      <th>usage_agriculture</th>\n",
       "      <th>usage_living</th>\n",
       "      <th>usage_other</th>\n",
       "      <th>usage_none</th>\n",
       "      <th>usage_misc</th>\n",
       "    </tr>\n",
       "  </thead>\n",
       "  <tbody>\n",
       "    <tr>\n",
       "      <th>0</th>\n",
       "      <td>1</td>\n",
       "      <td>โฉนด</td>\n",
       "      <td>1457</td>\n",
       "      <td>1309</td>\n",
       "      <td>1442.0</td>\n",
       "      <td>01A001</td>\n",
       "      <td>2.0</td>\n",
       "      <td>3.0</td>\n",
       "      <td>22.7</td>\n",
       "      <td>0.0</td>\n",
       "      <td>1122.7</td>\n",
       "      <td>0.0</td>\n",
       "      <td>0.0</td>\n",
       "      <td>1.0</td>\n",
       "    </tr>\n",
       "    <tr>\n",
       "      <th>1</th>\n",
       "      <td>2</td>\n",
       "      <td>โฉนด</td>\n",
       "      <td>1181</td>\n",
       "      <td>1384</td>\n",
       "      <td>1441.0</td>\n",
       "      <td>01A002</td>\n",
       "      <td>1.0</td>\n",
       "      <td>0.0</td>\n",
       "      <td>38.7</td>\n",
       "      <td>0.0</td>\n",
       "      <td>438.7</td>\n",
       "      <td>0.0</td>\n",
       "      <td>0.0</td>\n",
       "      <td>0.0</td>\n",
       "    </tr>\n",
       "    <tr>\n",
       "      <th>2</th>\n",
       "      <td>3</td>\n",
       "      <td>โฉนด</td>\n",
       "      <td>1755</td>\n",
       "      <td>1386</td>\n",
       "      <td>1439.0</td>\n",
       "      <td>01A003</td>\n",
       "      <td>0.0</td>\n",
       "      <td>0.0</td>\n",
       "      <td>75.5</td>\n",
       "      <td>0.0</td>\n",
       "      <td>75.5</td>\n",
       "      <td>0.0</td>\n",
       "      <td>0.0</td>\n",
       "      <td>0.0</td>\n",
       "    </tr>\n",
       "    <tr>\n",
       "      <th>3</th>\n",
       "      <td>4</td>\n",
       "      <td>โฉนด</td>\n",
       "      <td>85625</td>\n",
       "      <td>37</td>\n",
       "      <td>4752.0</td>\n",
       "      <td>01A003/001</td>\n",
       "      <td>0.0</td>\n",
       "      <td>0.0</td>\n",
       "      <td>75.5</td>\n",
       "      <td>0.0</td>\n",
       "      <td>75.5</td>\n",
       "      <td>0.0</td>\n",
       "      <td>0.0</td>\n",
       "      <td>0.0</td>\n",
       "    </tr>\n",
       "    <tr>\n",
       "      <th>4</th>\n",
       "      <td>5</td>\n",
       "      <td>โฉนด</td>\n",
       "      <td>85626</td>\n",
       "      <td>38</td>\n",
       "      <td>4753.0</td>\n",
       "      <td>01A003/002</td>\n",
       "      <td>0.0</td>\n",
       "      <td>0.0</td>\n",
       "      <td>75.5</td>\n",
       "      <td>0.0</td>\n",
       "      <td>75.5</td>\n",
       "      <td>0.0</td>\n",
       "      <td>0.0</td>\n",
       "      <td>0.0</td>\n",
       "    </tr>\n",
       "    <tr>\n",
       "      <th>...</th>\n",
       "      <td>...</td>\n",
       "      <td>...</td>\n",
       "      <td>...</td>\n",
       "      <td>...</td>\n",
       "      <td>...</td>\n",
       "      <td>...</td>\n",
       "      <td>...</td>\n",
       "      <td>...</td>\n",
       "      <td>...</td>\n",
       "      <td>...</td>\n",
       "      <td>...</td>\n",
       "      <td>...</td>\n",
       "      <td>...</td>\n",
       "      <td>...</td>\n",
       "    </tr>\n",
       "    <tr>\n",
       "      <th>6485</th>\n",
       "      <td>6592</td>\n",
       "      <td>โฉนด</td>\n",
       "      <td>29141</td>\n",
       "      <td>2286</td>\n",
       "      <td>3562.0</td>\n",
       "      <td>06L022</td>\n",
       "      <td>0.0</td>\n",
       "      <td>3.0</td>\n",
       "      <td>77.8</td>\n",
       "      <td>0.0</td>\n",
       "      <td>377.8</td>\n",
       "      <td>0.0</td>\n",
       "      <td>0.0</td>\n",
       "      <td>0.0</td>\n",
       "    </tr>\n",
       "    <tr>\n",
       "      <th>6486</th>\n",
       "      <td>6593</td>\n",
       "      <td>โฉนด</td>\n",
       "      <td>29140</td>\n",
       "      <td>2478</td>\n",
       "      <td>3563.0</td>\n",
       "      <td>06L023</td>\n",
       "      <td>0.0</td>\n",
       "      <td>3.0</td>\n",
       "      <td>48.0</td>\n",
       "      <td>0.0</td>\n",
       "      <td>348.0</td>\n",
       "      <td>0.0</td>\n",
       "      <td>0.0</td>\n",
       "      <td>0.0</td>\n",
       "    </tr>\n",
       "    <tr>\n",
       "      <th>6487</th>\n",
       "      <td>6594</td>\n",
       "      <td>โฉนด</td>\n",
       "      <td>98537</td>\n",
       "      <td>219</td>\n",
       "      <td>4945.0</td>\n",
       "      <td>06L023/001</td>\n",
       "      <td>0.0</td>\n",
       "      <td>2.0</td>\n",
       "      <td>0.0</td>\n",
       "      <td>0.0</td>\n",
       "      <td>180.0</td>\n",
       "      <td>20.0</td>\n",
       "      <td>0.0</td>\n",
       "      <td>0.0</td>\n",
       "    </tr>\n",
       "    <tr>\n",
       "      <th>6488</th>\n",
       "      <td>6595</td>\n",
       "      <td>โฉนด</td>\n",
       "      <td>29139</td>\n",
       "      <td>2476</td>\n",
       "      <td>3574.0</td>\n",
       "      <td>06L024</td>\n",
       "      <td>0.0</td>\n",
       "      <td>3.0</td>\n",
       "      <td>81.4</td>\n",
       "      <td>0.0</td>\n",
       "      <td>0.0</td>\n",
       "      <td>0.0</td>\n",
       "      <td>381.4</td>\n",
       "      <td>0.0</td>\n",
       "    </tr>\n",
       "    <tr>\n",
       "      <th>6489</th>\n",
       "      <td>6596</td>\n",
       "      <td>โฉนด</td>\n",
       "      <td>29142</td>\n",
       "      <td>2477</td>\n",
       "      <td>3575.0</td>\n",
       "      <td>06L025</td>\n",
       "      <td>1.0</td>\n",
       "      <td>1.0</td>\n",
       "      <td>70.4</td>\n",
       "      <td>0.0</td>\n",
       "      <td>0.0</td>\n",
       "      <td>0.0</td>\n",
       "      <td>570.4</td>\n",
       "      <td>0.0</td>\n",
       "    </tr>\n",
       "  </tbody>\n",
       "</table>\n",
       "<p>6490 rows × 14 columns</p>\n",
       "</div>"
      ],
      "text/plain": [
       "      order  type document_number parcel_number sub_district_no location_id  \\\n",
       "0         1  โฉนด            1457          1309          1442.0      01A001   \n",
       "1         2  โฉนด            1181          1384          1441.0      01A002   \n",
       "2         3  โฉนด            1755          1386          1439.0      01A003   \n",
       "3         4  โฉนด           85625            37          4752.0  01A003/001   \n",
       "4         5  โฉนด           85626            38          4753.0  01A003/002   \n",
       "...     ...   ...             ...           ...             ...         ...   \n",
       "6485   6592  โฉนด           29141          2286          3562.0      06L022   \n",
       "6486   6593  โฉนด           29140          2478          3563.0      06L023   \n",
       "6487   6594  โฉนด           98537           219          4945.0  06L023/001   \n",
       "6488   6595  โฉนด           29139          2476          3574.0      06L024   \n",
       "6489   6596  โฉนด           29142          2477          3575.0      06L025   \n",
       "\n",
       "      rai ngan tarang_wa usage_agriculture usage_living usage_other  \\\n",
       "0     2.0  3.0      22.7               0.0       1122.7         0.0   \n",
       "1     1.0  0.0      38.7               0.0        438.7         0.0   \n",
       "2     0.0  0.0      75.5               0.0         75.5         0.0   \n",
       "3     0.0  0.0      75.5               0.0         75.5         0.0   \n",
       "4     0.0  0.0      75.5               0.0         75.5         0.0   \n",
       "...   ...  ...       ...               ...          ...         ...   \n",
       "6485  0.0  3.0      77.8               0.0        377.8         0.0   \n",
       "6486  0.0  3.0      48.0               0.0        348.0         0.0   \n",
       "6487  0.0  2.0       0.0               0.0        180.0        20.0   \n",
       "6488  0.0  3.0      81.4               0.0          0.0         0.0   \n",
       "6489  1.0  1.0      70.4               0.0          0.0         0.0   \n",
       "\n",
       "     usage_none usage_misc  \n",
       "0           0.0        1.0  \n",
       "1           0.0        0.0  \n",
       "2           0.0        0.0  \n",
       "3           0.0        0.0  \n",
       "4           0.0        0.0  \n",
       "...         ...        ...  \n",
       "6485        0.0        0.0  \n",
       "6486        0.0        0.0  \n",
       "6487        0.0        0.0  \n",
       "6488      381.4        0.0  \n",
       "6489      570.4        0.0  \n",
       "\n",
       "[6490 rows x 14 columns]"
      ]
     },
     "execution_count": 3,
     "metadata": {},
     "output_type": "execute_result"
    }
   ],
   "source": [
    "# แสดงข้อมูล\n",
    "df_66"
   ]
  },
  {
   "cell_type": "markdown",
   "id": "2edad7da",
   "metadata": {},
   "source": [
    "#### จำแนกลักษณะการทำประโยชน์"
   ]
  },
  {
   "cell_type": "code",
   "execution_count": 4,
   "id": "fd6ea584",
   "metadata": {},
   "outputs": [],
   "source": [
    "# สร้างคอลัมม์ใหม่\n",
    "df_66[\"type_of_usage\"] = pd.Series([float('NaN')] * len(df_66))"
   ]
  },
  {
   "cell_type": "code",
   "execution_count": 5,
   "id": "3c792cab",
   "metadata": {},
   "outputs": [
    {
     "name": "stderr",
     "output_type": "stream",
     "text": [
      "C:\\Users\\NotOte\\AppData\\Local\\Temp\\ipykernel_25296\\1828668955.py:2: FutureWarning: Downcasting object dtype arrays on .fillna, .ffill, .bfill is deprecated and will change in a future version. Call result.infer_objects(copy=False) instead. To opt-in to the future behavior, set `pd.set_option('future.no_silent_downcasting', True)`\n",
      "  df_66[df_66[\"usage_agriculture\"] > 0] = df_66[df_66[\"usage_agriculture\"] > 0].fillna(\"agriculture\")\n",
      "C:\\Users\\NotOte\\AppData\\Local\\Temp\\ipykernel_25296\\1828668955.py:2: FutureWarning: Setting an item of incompatible dtype is deprecated and will raise an error in a future version of pandas. Value '['agriculture' 'agriculture' 'agriculture' 'agriculture' 'agriculture'\n",
      " 'agriculture' 'agriculture' 'agriculture' 'agriculture' 'agriculture'\n",
      " 'agriculture' 'agriculture' 'agriculture' 'agriculture' 'agriculture'\n",
      " 'agriculture' 'agriculture' 'agriculture' 'agriculture' 'agriculture'\n",
      " 'agriculture' 'agriculture' 'agriculture' 'agriculture' 'agriculture'\n",
      " 'agriculture' 'agriculture' 'agriculture' 'agriculture' 'agriculture'\n",
      " 'agriculture' 'agriculture' 'agriculture' 'agriculture' 'agriculture'\n",
      " 'agriculture' 'agriculture' 'agriculture' 'agriculture' 'agriculture'\n",
      " 'agriculture' 'agriculture' 'agriculture' 'agriculture' 'agriculture'\n",
      " 'agriculture' 'agriculture' 'agriculture' 'agriculture' 'agriculture'\n",
      " 'agriculture' 'agriculture' 'agriculture' 'agriculture' 'agriculture'\n",
      " 'agriculture' 'agriculture' 'agriculture' 'agriculture' 'agriculture'\n",
      " 'agriculture' 'agriculture' 'agriculture' 'agriculture' 'agriculture'\n",
      " 'agriculture' 'agriculture' 'agriculture' 'agriculture' 'agriculture'\n",
      " 'agriculture' 'agriculture' 'agriculture' 'agriculture' 'agriculture'\n",
      " 'agriculture' 'agriculture' 'agriculture' 'agriculture' 'agriculture'\n",
      " 'agriculture' 'agriculture' 'agriculture' 'agriculture' 'agriculture'\n",
      " 'agriculture' 'agriculture' 'agriculture' 'agriculture' 'agriculture'\n",
      " 'agriculture' 'agriculture' 'agriculture' 'agriculture' 'agriculture'\n",
      " 'agriculture' 'agriculture' 'agriculture' 'agriculture' 'agriculture'\n",
      " 'agriculture' 'agriculture' 'agriculture' 'agriculture' 'agriculture'\n",
      " 'agriculture' 'agriculture' 'agriculture' 'agriculture' 'agriculture'\n",
      " 'agriculture' 'agriculture' 'agriculture' 'agriculture' 'agriculture'\n",
      " 'agriculture' 'agriculture' 'agriculture' 'agriculture' 'agriculture'\n",
      " 'agriculture' 'agriculture' 'agriculture' 'agriculture' 'agriculture'\n",
      " 'agriculture' 'agriculture' 'agriculture' 'agriculture' 'agriculture'\n",
      " 'agriculture' 'agriculture' 'agriculture' 'agriculture' 'agriculture'\n",
      " 'agriculture' 'agriculture' 'agriculture' 'agriculture' 'agriculture'\n",
      " 'agriculture' 'agriculture' 'agriculture' 'agriculture' 'agriculture'\n",
      " 'agriculture' 'agriculture' 'agriculture' 'agriculture' 'agriculture'\n",
      " 'agriculture' 'agriculture' 'agriculture' 'agriculture' 'agriculture'\n",
      " 'agriculture' 'agriculture' 'agriculture' 'agriculture' 'agriculture'\n",
      " 'agriculture' 'agriculture' 'agriculture' 'agriculture' 'agriculture'\n",
      " 'agriculture' 'agriculture' 'agriculture' 'agriculture' 'agriculture'\n",
      " 'agriculture' 'agriculture' 'agriculture' 'agriculture' 'agriculture'\n",
      " 'agriculture' 'agriculture' 'agriculture' 'agriculture' 'agriculture'\n",
      " 'agriculture' 'agriculture' 'agriculture' 'agriculture' 'agriculture'\n",
      " 'agriculture' 'agriculture' 'agriculture' 'agriculture' 'agriculture'\n",
      " 'agriculture' 'agriculture' 'agriculture' 'agriculture' 'agriculture'\n",
      " 'agriculture' 'agriculture' 'agriculture' 'agriculture' 'agriculture'\n",
      " 'agriculture' 'agriculture' 'agriculture' 'agriculture' 'agriculture'\n",
      " 'agriculture' 'agriculture' 'agriculture' 'agriculture' 'agriculture'\n",
      " 'agriculture' 'agriculture' 'agriculture' 'agriculture' 'agriculture'\n",
      " 'agriculture' 'agriculture' 'agriculture' 'agriculture' 'agriculture'\n",
      " 'agriculture' 'agriculture' 'agriculture' 'agriculture' 'agriculture'\n",
      " 'agriculture' 'agriculture' 'agriculture' 'agriculture' 'agriculture'\n",
      " 'agriculture' 'agriculture' 'agriculture' 'agriculture' 'agriculture'\n",
      " 'agriculture' 'agriculture' 'agriculture' 'agriculture' 'agriculture'\n",
      " 'agriculture' 'agriculture' 'agriculture' 'agriculture' 'agriculture'\n",
      " 'agriculture' 'agriculture' 'agriculture' 'agriculture' 'agriculture'\n",
      " 'agriculture' 'agriculture' 'agriculture' 'agriculture' 'agriculture'\n",
      " 'agriculture' 'agriculture' 'agriculture' 'agriculture' 'agriculture'\n",
      " 'agriculture' 'agriculture' 'agriculture' 'agriculture' 'agriculture'\n",
      " 'agriculture' 'agriculture' 'agriculture' 'agriculture' 'agriculture'\n",
      " 'agriculture' 'agriculture' 'agriculture' 'agriculture' 'agriculture'\n",
      " 'agriculture' 'agriculture' 'agriculture' 'agriculture' 'agriculture'\n",
      " 'agriculture' 'agriculture' 'agriculture' 'agriculture' 'agriculture'\n",
      " 'agriculture' 'agriculture' 'agriculture' 'agriculture' 'agriculture'\n",
      " 'agriculture' 'agriculture' 'agriculture' 'agriculture' 'agriculture'\n",
      " 'agriculture' 'agriculture' 'agriculture' 'agriculture' 'agriculture'\n",
      " 'agriculture' 'agriculture' 'agriculture' 'agriculture' 'agriculture'\n",
      " 'agriculture' 'agriculture' 'agriculture' 'agriculture' 'agriculture'\n",
      " 'agriculture' 'agriculture' 'agriculture' 'agriculture' 'agriculture'\n",
      " 'agriculture' 'agriculture' 'agriculture' 'agriculture' 'agriculture'\n",
      " 'agriculture' 'agriculture' 'agriculture' 'agriculture' 'agriculture'\n",
      " 'agriculture' 'agriculture' 'agriculture' 'agriculture' 'agriculture'\n",
      " 'agriculture' 'agriculture' 'agriculture' 'agriculture' 'agriculture'\n",
      " 'agriculture' 'agriculture' 'agriculture' 'agriculture' 'agriculture'\n",
      " 'agriculture' 'agriculture' 'agriculture' 'agriculture' 'agriculture'\n",
      " 'agriculture' 'agriculture' 'agriculture' 'agriculture' 'agriculture'\n",
      " 'agriculture' 'agriculture' 'agriculture' 'agriculture' 'agriculture'\n",
      " 'agriculture' 'agriculture' 'agriculture' 'agriculture' 'agriculture'\n",
      " 'agriculture' 'agriculture' 'agriculture' 'agriculture' 'agriculture'\n",
      " 'agriculture' 'agriculture' 'agriculture' 'agriculture' 'agriculture'\n",
      " 'agriculture' 'agriculture' 'agriculture' 'agriculture' 'agriculture'\n",
      " 'agriculture' 'agriculture' 'agriculture' 'agriculture' 'agriculture'\n",
      " 'agriculture' 'agriculture' 'agriculture' 'agriculture' 'agriculture'\n",
      " 'agriculture' 'agriculture' 'agriculture' 'agriculture' 'agriculture'\n",
      " 'agriculture' 'agriculture' 'agriculture' 'agriculture' 'agriculture'\n",
      " 'agriculture' 'agriculture' 'agriculture' 'agriculture' 'agriculture'\n",
      " 'agriculture' 'agriculture' 'agriculture' 'agriculture' 'agriculture'\n",
      " 'agriculture' 'agriculture' 'agriculture' 'agriculture' 'agriculture'\n",
      " 'agriculture' 'agriculture' 'agriculture' 'agriculture' 'agriculture'\n",
      " 'agriculture' 'agriculture' 'agriculture' 'agriculture' 'agriculture'\n",
      " 'agriculture' 'agriculture' 'agriculture' 'agriculture' 'agriculture'\n",
      " 'agriculture' 'agriculture' 'agriculture' 'agriculture' 'agriculture'\n",
      " 'agriculture' 'agriculture' 'agriculture' 'agriculture' 'agriculture'\n",
      " 'agriculture' 'agriculture' 'agriculture' 'agriculture' 'agriculture'\n",
      " 'agriculture' 'agriculture' 'agriculture' 'agriculture' 'agriculture'\n",
      " 'agriculture' 'agriculture' 'agriculture' 'agriculture' 'agriculture'\n",
      " 'agriculture' 'agriculture' 'agriculture' 'agriculture' 'agriculture'\n",
      " 'agriculture' 'agriculture' 'agriculture' 'agriculture' 'agriculture'\n",
      " 'agriculture' 'agriculture' 'agriculture' 'agriculture' 'agriculture'\n",
      " 'agriculture' 'agriculture' 'agriculture' 'agriculture' 'agriculture'\n",
      " 'agriculture' 'agriculture' 'agriculture' 'agriculture' 'agriculture'\n",
      " 'agriculture' 'agriculture' 'agriculture' 'agriculture' 'agriculture'\n",
      " 'agriculture' 'agriculture' 'agriculture' 'agriculture' 'agriculture'\n",
      " 'agriculture' 'agriculture' 'agriculture' 'agriculture' 'agriculture'\n",
      " 'agriculture' 'agriculture' 'agriculture' 'agriculture' 'agriculture'\n",
      " 'agriculture' 'agriculture' 'agriculture' 'agriculture' 'agriculture'\n",
      " 'agriculture' 'agriculture' 'agriculture' 'agriculture' 'agriculture'\n",
      " 'agriculture' 'agriculture' 'agriculture' 'agriculture' 'agriculture'\n",
      " 'agriculture' 'agriculture' 'agriculture' 'agriculture' 'agriculture'\n",
      " 'agriculture' 'agriculture' 'agriculture' 'agriculture' 'agriculture'\n",
      " 'agriculture' 'agriculture' 'agriculture' 'agriculture' 'agriculture'\n",
      " 'agriculture' 'agriculture' 'agriculture' 'agriculture' 'agriculture'\n",
      " 'agriculture' 'agriculture' 'agriculture' 'agriculture' 'agriculture'\n",
      " 'agriculture' 'agriculture' 'agriculture' 'agriculture' 'agriculture'\n",
      " 'agriculture' 'agriculture' 'agriculture' 'agriculture' 'agriculture'\n",
      " 'agriculture' 'agriculture' 'agriculture' 'agriculture' 'agriculture'\n",
      " 'agriculture' 'agriculture' 'agriculture' 'agriculture' 'agriculture'\n",
      " 'agriculture' 'agriculture' 'agriculture' 'agriculture' 'agriculture'\n",
      " 'agriculture' 'agriculture' 'agriculture' 'agriculture' 'agriculture'\n",
      " 'agriculture' 'agriculture' 'agriculture' 'agriculture']' has dtype incompatible with float64, please explicitly cast to a compatible dtype first.\n",
      "  df_66[df_66[\"usage_agriculture\"] > 0] = df_66[df_66[\"usage_agriculture\"] > 0].fillna(\"agriculture\")\n",
      "C:\\Users\\NotOte\\AppData\\Local\\Temp\\ipykernel_25296\\1828668955.py:3: FutureWarning: Downcasting object dtype arrays on .fillna, .ffill, .bfill is deprecated and will change in a future version. Call result.infer_objects(copy=False) instead. To opt-in to the future behavior, set `pd.set_option('future.no_silent_downcasting', True)`\n",
      "  df_66[df_66[\"usage_living\"] > 0] = df_66[df_66[\"usage_living\"] > 0].fillna(\"living\")\n",
      "C:\\Users\\NotOte\\AppData\\Local\\Temp\\ipykernel_25296\\1828668955.py:4: FutureWarning: Downcasting object dtype arrays on .fillna, .ffill, .bfill is deprecated and will change in a future version. Call result.infer_objects(copy=False) instead. To opt-in to the future behavior, set `pd.set_option('future.no_silent_downcasting', True)`\n",
      "  df_66[df_66[\"usage_other\"] > 0] = df_66[df_66[\"usage_other\"] > 0].fillna(\"other\")\n",
      "C:\\Users\\NotOte\\AppData\\Local\\Temp\\ipykernel_25296\\1828668955.py:5: FutureWarning: Downcasting object dtype arrays on .fillna, .ffill, .bfill is deprecated and will change in a future version. Call result.infer_objects(copy=False) instead. To opt-in to the future behavior, set `pd.set_option('future.no_silent_downcasting', True)`\n",
      "  df_66[df_66[\"usage_none\"] > 0] = df_66[df_66[\"usage_none\"] > 0].fillna(\"wasteland\")\n",
      "C:\\Users\\NotOte\\AppData\\Local\\Temp\\ipykernel_25296\\1828668955.py:6: FutureWarning: Downcasting object dtype arrays on .fillna, .ffill, .bfill is deprecated and will change in a future version. Call result.infer_objects(copy=False) instead. To opt-in to the future behavior, set `pd.set_option('future.no_silent_downcasting', True)`\n",
      "  df_66[df_66[\"usage_misc\"] > 0] = df_66[df_66[\"usage_misc\"] > 0].fillna(\"misc\")\n"
     ]
    }
   ],
   "source": [
    "# จำแนกลักษณ์การทำประโยชน์จากพื้นที่ใช้งาน ('พื้นที่ประกอบเกษตรกรรม', 'พื้นที่อยู่อาศัย', 'พื้นที่อื่น ๆ', 'พื้นที่ว่างเปล่า', 'พื้นที่ใช้ประโยชน์หลายประเภท' และ 'ไม่ทราบลักษณะการใช้')\n",
    "df_66[df_66[\"usage_agriculture\"] > 0] = df_66[df_66[\"usage_agriculture\"] > 0].fillna(\"agriculture\")\n",
    "df_66[df_66[\"usage_living\"] > 0] = df_66[df_66[\"usage_living\"] > 0].fillna(\"living\")\n",
    "df_66[df_66[\"usage_other\"] > 0] = df_66[df_66[\"usage_other\"] > 0].fillna(\"other\")\n",
    "df_66[df_66[\"usage_none\"] > 0] = df_66[df_66[\"usage_none\"] > 0].fillna(\"wasteland\")\n",
    "df_66[df_66[\"usage_misc\"] > 0] = df_66[df_66[\"usage_misc\"] > 0].fillna(\"misc\")        \n",
    "df_66[\"type_of_usage\"] = df_66[\"type_of_usage\"].fillna(\"unknown\")"
   ]
  },
  {
   "cell_type": "code",
   "execution_count": 6,
   "id": "8c96086a",
   "metadata": {},
   "outputs": [
    {
     "data": {
      "text/html": [
       "<div>\n",
       "<style scoped>\n",
       "    .dataframe tbody tr th:only-of-type {\n",
       "        vertical-align: middle;\n",
       "    }\n",
       "\n",
       "    .dataframe tbody tr th {\n",
       "        vertical-align: top;\n",
       "    }\n",
       "\n",
       "    .dataframe thead th {\n",
       "        text-align: right;\n",
       "    }\n",
       "</style>\n",
       "<table border=\"1\" class=\"dataframe\">\n",
       "  <thead>\n",
       "    <tr style=\"text-align: right;\">\n",
       "      <th></th>\n",
       "      <th>location_id</th>\n",
       "      <th>type_of_usage</th>\n",
       "    </tr>\n",
       "  </thead>\n",
       "  <tbody>\n",
       "    <tr>\n",
       "      <th>0</th>\n",
       "      <td>01A001</td>\n",
       "      <td>living</td>\n",
       "    </tr>\n",
       "    <tr>\n",
       "      <th>1</th>\n",
       "      <td>01A002</td>\n",
       "      <td>living</td>\n",
       "    </tr>\n",
       "    <tr>\n",
       "      <th>2</th>\n",
       "      <td>01A003</td>\n",
       "      <td>living</td>\n",
       "    </tr>\n",
       "    <tr>\n",
       "      <th>3</th>\n",
       "      <td>01A003/001</td>\n",
       "      <td>living</td>\n",
       "    </tr>\n",
       "    <tr>\n",
       "      <th>4</th>\n",
       "      <td>01A003/002</td>\n",
       "      <td>living</td>\n",
       "    </tr>\n",
       "    <tr>\n",
       "      <th>...</th>\n",
       "      <td>...</td>\n",
       "      <td>...</td>\n",
       "    </tr>\n",
       "    <tr>\n",
       "      <th>6485</th>\n",
       "      <td>06L022</td>\n",
       "      <td>living</td>\n",
       "    </tr>\n",
       "    <tr>\n",
       "      <th>6486</th>\n",
       "      <td>06L023</td>\n",
       "      <td>living</td>\n",
       "    </tr>\n",
       "    <tr>\n",
       "      <th>6487</th>\n",
       "      <td>06L023/001</td>\n",
       "      <td>living</td>\n",
       "    </tr>\n",
       "    <tr>\n",
       "      <th>6488</th>\n",
       "      <td>06L024</td>\n",
       "      <td>wasteland</td>\n",
       "    </tr>\n",
       "    <tr>\n",
       "      <th>6489</th>\n",
       "      <td>06L025</td>\n",
       "      <td>wasteland</td>\n",
       "    </tr>\n",
       "  </tbody>\n",
       "</table>\n",
       "<p>6490 rows × 2 columns</p>\n",
       "</div>"
      ],
      "text/plain": [
       "     location_id type_of_usage\n",
       "0         01A001        living\n",
       "1         01A002        living\n",
       "2         01A003        living\n",
       "3     01A003/001        living\n",
       "4     01A003/002        living\n",
       "...          ...           ...\n",
       "6485      06L022        living\n",
       "6486      06L023        living\n",
       "6487  06L023/001        living\n",
       "6488      06L024     wasteland\n",
       "6489      06L025     wasteland\n",
       "\n",
       "[6490 rows x 2 columns]"
      ]
     },
     "execution_count": 6,
     "metadata": {},
     "output_type": "execute_result"
    }
   ],
   "source": [
    "# แสดงข้อมูลโดยจำแนกออกมาแค่ รหัสแปลงที่ดิน และ ลักษณะการใช้ประโยชน์\n",
    "# พื้นที่ประกอบเกษตรกรรม : agriculture, พื้นที่อยู่อาศัย : living, พื้นที่อื่น ๆ : other, \n",
    "# พื้นที่ว่างเปล่า : wasteland, พื้นที่ใช้ประโยชน์หลายประเภท : misc และ ไม่ทราบลักษณะการใช้ : unknown\n",
    "\n",
    "df_66[ ['location_id', 'type_of_usage'] ]"
   ]
  },
  {
   "cell_type": "markdown",
   "id": "b8c77423",
   "metadata": {},
   "source": [
    "## วิเคราะห์ข้อมูลและรายงานผล"
   ]
  },
  {
   "cell_type": "markdown",
   "id": "2a58966f",
   "metadata": {},
   "source": [
    "#### จากแบบบัญชีรายการที่ดิน เทศบาลเมืองลำพูน อำเภอเมือง จังหวัดลำพูน ในปี 2566 มีที่ดิน 6490 ที่"
   ]
  },
  {
   "cell_type": "code",
   "execution_count": 7,
   "id": "17771c6e",
   "metadata": {
    "scrolled": true
   },
   "outputs": [
    {
     "data": {
      "text/plain": [
       "6490"
      ]
     },
     "execution_count": 7,
     "metadata": {},
     "output_type": "execute_result"
    }
   ],
   "source": [
    "land = len(df_66) \n",
    "land"
   ]
  },
  {
   "cell_type": "markdown",
   "id": "f340e4ee",
   "metadata": {},
   "source": [
    "### ที่ดินสามารถจำแนกจากลักษณะการทำประโยชน์ 6 รายการ ได้แก่ ประกอบการเกษตร, ใช้เพื่ออยู่อาศัย, อื่น ๆ , ไม่ใช้ประโยชน์, ใช้ประโยชน์หลายประเภท และ ไม่ทราบลักษณะการใช้"
   ]
  },
  {
   "cell_type": "markdown",
   "id": "c966fa28",
   "metadata": {},
   "source": [
    "#### มีพื้นที่ประกอบเกษตรกรรม 569 พื้นที่ คิดเป็น 8.7673 เปอร์เซ็นของพื้นที่ทั้งหมดในอำเภอเมือง จังหวัดลำพูน"
   ]
  },
  {
   "cell_type": "code",
   "execution_count": 8,
   "id": "73552108",
   "metadata": {},
   "outputs": [
    {
     "data": {
      "text/plain": [
       "8.7673343605547"
      ]
     },
     "execution_count": 8,
     "metadata": {},
     "output_type": "execute_result"
    }
   ],
   "source": [
    "(len(df_66[df_66[\"type_of_usage\"] == \"agriculture\"]) / land) * 100  "
   ]
  },
  {
   "cell_type": "markdown",
   "id": "9db6c2dc",
   "metadata": {},
   "source": [
    "#### มีพื้นที่อยู่อาศัย 4072 พื้นที่ คิดเป็น 62.7427 เปอร์เซ็นของพื้นที่ทั้งหมดในอำเภอเมือง จังหวัดลำพูน "
   ]
  },
  {
   "cell_type": "code",
   "execution_count": 9,
   "id": "015d648a",
   "metadata": {
    "scrolled": false
   },
   "outputs": [
    {
     "data": {
      "text/plain": [
       "62.74268104776579"
      ]
     },
     "execution_count": 9,
     "metadata": {},
     "output_type": "execute_result"
    }
   ],
   "source": [
    "len(df_66[df_66[\"type_of_usage\"] == \"living\"]) / land * 100"
   ]
  },
  {
   "cell_type": "markdown",
   "id": "830a351d",
   "metadata": {},
   "source": [
    "#### มีพื้นที่อื่น ๆ 574 พื้นที่ คิดเป็น 8.8444 เปอร์เซ็นของพื้นที่ทั้งหมดในอำเภอเมือง จังหวัดลำพูน"
   ]
  },
  {
   "cell_type": "code",
   "execution_count": 10,
   "id": "2356fcdd",
   "metadata": {},
   "outputs": [
    {
     "data": {
      "text/plain": [
       "8.844375963020031"
      ]
     },
     "execution_count": 10,
     "metadata": {},
     "output_type": "execute_result"
    }
   ],
   "source": [
    "len(df_66[df_66[\"type_of_usage\"] == \"other\"]) / land * 100"
   ]
  },
  {
   "cell_type": "markdown",
   "id": "90e203a4",
   "metadata": {},
   "source": [
    "#### มีพื้นที่ว่างเปล่า/ไม่ทำประโยชน์ 658 พื้นที่ คิดเป็น 10.1387 เปอร์เซ็นของพื้นที่ทั้งหมดในอำเภอเมือง จังหวัดลำพูน"
   ]
  },
  {
   "cell_type": "code",
   "execution_count": 11,
   "id": "6fca2306",
   "metadata": {
    "scrolled": true
   },
   "outputs": [
    {
     "data": {
      "text/plain": [
       "10.138674884437595"
      ]
     },
     "execution_count": 11,
     "metadata": {},
     "output_type": "execute_result"
    }
   ],
   "source": [
    "len(df_66[df_66[\"type_of_usage\"] == \"wasteland\"]) / land * 100"
   ]
  },
  {
   "cell_type": "markdown",
   "id": "445e06a2",
   "metadata": {},
   "source": [
    "#### และมีพื้นที่ใช้ประโยชน์หลายประเภท 588 พื้นที่ คิดเป็น 9.0601 เปอร์เซ็นของพื้นที่ทั้งหมดในอำเภอเมือง จังหวัดลำพูน"
   ]
  },
  {
   "cell_type": "code",
   "execution_count": 12,
   "id": "565ea756",
   "metadata": {
    "scrolled": false
   },
   "outputs": [
    {
     "data": {
      "text/plain": [
       "9.060092449922958"
      ]
     },
     "execution_count": 12,
     "metadata": {},
     "output_type": "execute_result"
    }
   ],
   "source": [
    "len(df_66[df_66[\"type_of_usage\"] == \"misc\"]) / land * 100"
   ]
  },
  {
   "cell_type": "markdown",
   "id": "30a87b5c",
   "metadata": {},
   "source": [
    "#### และมีพื้นที่ไม่ทราบลักษณะการใช้ 29 พื้นที่ คิดเป็น 0.4468 เปอร์เซ็นของพื้นที่ทั้งหมดในอำเภอเมือง จังหวัดลำพูน"
   ]
  },
  {
   "cell_type": "code",
   "execution_count": 13,
   "id": "e10249bd",
   "metadata": {},
   "outputs": [
    {
     "data": {
      "text/plain": [
       "0.44684129429892144"
      ]
     },
     "execution_count": 13,
     "metadata": {},
     "output_type": "execute_result"
    }
   ],
   "source": [
    "len(df_66[df_66[\"type_of_usage\"] == \"unknown\"]) / land * 100"
   ]
  },
  {
   "cell_type": "markdown",
   "id": "ce3527d5",
   "metadata": {},
   "source": [
    "#### จากข้อมูลข้างต้น สามารถนำมาแสดงเป็นแผนภาพได้ดังนี้"
   ]
  },
  {
   "cell_type": "code",
   "execution_count": 14,
   "id": "756bd0d3",
   "metadata": {
    "scrolled": false
   },
   "outputs": [
    {
     "data": {
      "image/png": "[encoded data removed]",
      "text/plain": [
       "<Figure size 640x480 with 1 Axes>"
      ]
     },
     "metadata": {},
     "output_type": "display_data"
    }
   ],
   "source": [
    "from matplotlib import pyplot as plt\n",
    "from matplotlib.font_manager import FontProperties\n",
    "\n",
    "plt.rcParams[\"font.family\"] = \"Cordia New\"\n",
    "plt.rcParams[\"font.serif\"] = \"Cordia New\"\n",
    "\n",
    "# สร้างกราฟ\n",
    "data = [ len(df_66[df_66[\"type_of_usage\"] == \"agriculture\"]),\n",
    "         len(df_66[df_66[\"type_of_usage\"] == \"living\"]), \n",
    "         len(df_66[df_66[\"type_of_usage\"] == \"other\"]), \n",
    "         len(df_66[df_66[\"type_of_usage\"] == \"wasteland\"]), \n",
    "         len(df_66[df_66[\"type_of_usage\"] == \"misc\"]),\n",
    "         len(df_66[df_66[\"type_of_usage\"] == \"unknown\"])\n",
    "       ]\n",
    "\n",
    "labels = ['ประกอบเกษตรกรรม','อยู่อาศัย ','อื่น ๆ','ว่างเปล่า/ไม่ทำประโยชน์','ใช้ประโยชน์หลากหลาย', 'ไม่ทราบลักษณะการใช้'] \n",
    "\n",
    "plt.pie(data, labels=labels, autopct='%1.1f%%')\n",
    "plt.show()"
   ]
  },
  {
   "cell_type": "code",
   "execution_count": 15,
   "id": "a06fb08a",
   "metadata": {
    "scrolled": true
   },
   "outputs": [
    {
     "data": {
      "image/png": "[encoded data removed]",
      "text/plain": [
       "<Figure size 640x480 with 1 Axes>"
      ]
     },
     "metadata": {},
     "output_type": "display_data"
    }
   ],
   "source": [
    "value_counts = df_66[\"type_of_usage\"].value_counts()\n",
    "value_counts.plot(kind=\"bar\")\n",
    "plt.title(\"จำนวนลักษณะการใช้ประโยชน์ปี 2566\")\n",
    "plt.xlabel(\"ลักษณะการใช้ประโยชน์\")\n",
    "plt.ylabel(\"จำนวนที่ดิน\")\n",
    "plt.show()"
   ]
  },
  {
   "cell_type": "markdown",
   "id": "3029d508",
   "metadata": {},
   "source": [
    "##  ข้อมูลเฉพาะลักษณะการใช้ประโยชน์แบบประกอบเกษตรกรรม"
   ]
  },
  {
   "cell_type": "markdown",
   "id": "1e191367",
   "metadata": {},
   "source": [
    "#### ดูข้อมูลทั้งหมด"
   ]
  },
  {
   "cell_type": "code",
   "execution_count": 16,
   "id": "1181abad",
   "metadata": {
    "scrolled": true
   },
   "outputs": [
    {
     "data": {
      "text/html": [
       "<div>\n",
       "<style scoped>\n",
       "    .dataframe tbody tr th:only-of-type {\n",
       "        vertical-align: middle;\n",
       "    }\n",
       "\n",
       "    .dataframe tbody tr th {\n",
       "        vertical-align: top;\n",
       "    }\n",
       "\n",
       "    .dataframe thead th {\n",
       "        text-align: right;\n",
       "    }\n",
       "</style>\n",
       "<table border=\"1\" class=\"dataframe\">\n",
       "  <thead>\n",
       "    <tr style=\"text-align: right;\">\n",
       "      <th></th>\n",
       "      <th>order</th>\n",
       "      <th>type</th>\n",
       "      <th>document_number</th>\n",
       "      <th>parcel_number</th>\n",
       "      <th>sub_district_no</th>\n",
       "      <th>location_id</th>\n",
       "      <th>rai</th>\n",
       "      <th>ngan</th>\n",
       "      <th>tarang_wa</th>\n",
       "      <th>usage_agriculture</th>\n",
       "      <th>usage_living</th>\n",
       "      <th>usage_other</th>\n",
       "      <th>usage_none</th>\n",
       "      <th>usage_misc</th>\n",
       "      <th>type_of_usage</th>\n",
       "    </tr>\n",
       "  </thead>\n",
       "  <tbody>\n",
       "    <tr>\n",
       "      <th>6</th>\n",
       "      <td>7</td>\n",
       "      <td>โฉนด</td>\n",
       "      <td>1758</td>\n",
       "      <td>1389</td>\n",
       "      <td>1438.0</td>\n",
       "      <td>01A005</td>\n",
       "      <td>2.0</td>\n",
       "      <td>1.0</td>\n",
       "      <td>8.7</td>\n",
       "      <td>908.7</td>\n",
       "      <td>0.0</td>\n",
       "      <td>0.0</td>\n",
       "      <td>0.0</td>\n",
       "      <td>0.0</td>\n",
       "      <td>agriculture</td>\n",
       "    </tr>\n",
       "    <tr>\n",
       "      <th>44</th>\n",
       "      <td>45</td>\n",
       "      <td>โฉนด</td>\n",
       "      <td>146920</td>\n",
       "      <td>1777</td>\n",
       "      <td>6581.0</td>\n",
       "      <td>01A027/001</td>\n",
       "      <td>0.0</td>\n",
       "      <td>0.0</td>\n",
       "      <td>35.9</td>\n",
       "      <td>35.9</td>\n",
       "      <td>0.0</td>\n",
       "      <td>0.0</td>\n",
       "      <td>0.0</td>\n",
       "      <td>0.0</td>\n",
       "      <td>agriculture</td>\n",
       "    </tr>\n",
       "    <tr>\n",
       "      <th>71</th>\n",
       "      <td>73</td>\n",
       "      <td>โฉนด</td>\n",
       "      <td>72196</td>\n",
       "      <td>13</td>\n",
       "      <td>4403.0</td>\n",
       "      <td>01A044/002</td>\n",
       "      <td>0.0</td>\n",
       "      <td>0.0</td>\n",
       "      <td>84.1</td>\n",
       "      <td>84.1</td>\n",
       "      <td>0.0</td>\n",
       "      <td>0.0</td>\n",
       "      <td>0.0</td>\n",
       "      <td>0.0</td>\n",
       "      <td>agriculture</td>\n",
       "    </tr>\n",
       "    <tr>\n",
       "      <th>96</th>\n",
       "      <td>98</td>\n",
       "      <td>โฉนด</td>\n",
       "      <td>112915</td>\n",
       "      <td>26</td>\n",
       "      <td>5057.0</td>\n",
       "      <td>01B010/002</td>\n",
       "      <td>0.0</td>\n",
       "      <td>0.0</td>\n",
       "      <td>6.1</td>\n",
       "      <td>6.1</td>\n",
       "      <td>0.0</td>\n",
       "      <td>0.0</td>\n",
       "      <td>0.0</td>\n",
       "      <td>0.0</td>\n",
       "      <td>agriculture</td>\n",
       "    </tr>\n",
       "    <tr>\n",
       "      <th>121</th>\n",
       "      <td>123</td>\n",
       "      <td>โฉนด</td>\n",
       "      <td>2313</td>\n",
       "      <td>292</td>\n",
       "      <td>1397.0</td>\n",
       "      <td>01B033</td>\n",
       "      <td>0.0</td>\n",
       "      <td>0.0</td>\n",
       "      <td>67.1</td>\n",
       "      <td>67.1</td>\n",
       "      <td>0.0</td>\n",
       "      <td>0.0</td>\n",
       "      <td>0.0</td>\n",
       "      <td>0.0</td>\n",
       "      <td>agriculture</td>\n",
       "    </tr>\n",
       "    <tr>\n",
       "      <th>...</th>\n",
       "      <td>...</td>\n",
       "      <td>...</td>\n",
       "      <td>...</td>\n",
       "      <td>...</td>\n",
       "      <td>...</td>\n",
       "      <td>...</td>\n",
       "      <td>...</td>\n",
       "      <td>...</td>\n",
       "      <td>...</td>\n",
       "      <td>...</td>\n",
       "      <td>...</td>\n",
       "      <td>...</td>\n",
       "      <td>...</td>\n",
       "      <td>...</td>\n",
       "      <td>...</td>\n",
       "    </tr>\n",
       "    <tr>\n",
       "      <th>6465</th>\n",
       "      <td>6572</td>\n",
       "      <td>โฉนด</td>\n",
       "      <td>27110</td>\n",
       "      <td>112</td>\n",
       "      <td>727.0</td>\n",
       "      <td>06K076</td>\n",
       "      <td>0.0</td>\n",
       "      <td>1.0</td>\n",
       "      <td>0.7</td>\n",
       "      <td>100.7</td>\n",
       "      <td>0.0</td>\n",
       "      <td>0.0</td>\n",
       "      <td>0.0</td>\n",
       "      <td>0.0</td>\n",
       "      <td>agriculture</td>\n",
       "    </tr>\n",
       "    <tr>\n",
       "      <th>6466</th>\n",
       "      <td>6573</td>\n",
       "      <td>โฉนด</td>\n",
       "      <td>27599</td>\n",
       "      <td>113</td>\n",
       "      <td>791.0</td>\n",
       "      <td>06K077</td>\n",
       "      <td>0.0</td>\n",
       "      <td>0.0</td>\n",
       "      <td>50.4</td>\n",
       "      <td>50.4</td>\n",
       "      <td>0.0</td>\n",
       "      <td>0.0</td>\n",
       "      <td>0.0</td>\n",
       "      <td>0.0</td>\n",
       "      <td>agriculture</td>\n",
       "    </tr>\n",
       "    <tr>\n",
       "      <th>6467</th>\n",
       "      <td>6574</td>\n",
       "      <td>โฉนด</td>\n",
       "      <td>27109</td>\n",
       "      <td>114</td>\n",
       "      <td>726.0</td>\n",
       "      <td>06K078</td>\n",
       "      <td>0.0</td>\n",
       "      <td>0.0</td>\n",
       "      <td>50.3</td>\n",
       "      <td>50.3</td>\n",
       "      <td>0.0</td>\n",
       "      <td>0.0</td>\n",
       "      <td>0.0</td>\n",
       "      <td>0.0</td>\n",
       "      <td>agriculture</td>\n",
       "    </tr>\n",
       "    <tr>\n",
       "      <th>6474</th>\n",
       "      <td>6581</td>\n",
       "      <td>โฉนด</td>\n",
       "      <td>121202</td>\n",
       "      <td>352</td>\n",
       "      <td>8415.0</td>\n",
       "      <td>06K085</td>\n",
       "      <td>0.0</td>\n",
       "      <td>0.0</td>\n",
       "      <td>65.8</td>\n",
       "      <td>65.8</td>\n",
       "      <td>0.0</td>\n",
       "      <td>0.0</td>\n",
       "      <td>0.0</td>\n",
       "      <td>0.0</td>\n",
       "      <td>agriculture</td>\n",
       "    </tr>\n",
       "    <tr>\n",
       "      <th>6477</th>\n",
       "      <td>6584</td>\n",
       "      <td>โฉนด</td>\n",
       "      <td>-</td>\n",
       "      <td>-</td>\n",
       "      <td>-</td>\n",
       "      <td>06L016</td>\n",
       "      <td>8.0</td>\n",
       "      <td>1.0</td>\n",
       "      <td>25.0</td>\n",
       "      <td>3325.0</td>\n",
       "      <td>0.0</td>\n",
       "      <td>0.0</td>\n",
       "      <td>0.0</td>\n",
       "      <td>0.0</td>\n",
       "      <td>agriculture</td>\n",
       "    </tr>\n",
       "  </tbody>\n",
       "</table>\n",
       "<p>569 rows × 15 columns</p>\n",
       "</div>"
      ],
      "text/plain": [
       "      order  type document_number parcel_number sub_district_no location_id  \\\n",
       "6         7  โฉนด            1758          1389          1438.0      01A005   \n",
       "44       45  โฉนด          146920          1777          6581.0  01A027/001   \n",
       "71       73  โฉนด           72196            13          4403.0  01A044/002   \n",
       "96       98  โฉนด          112915            26          5057.0  01B010/002   \n",
       "121     123  โฉนด            2313           292          1397.0      01B033   \n",
       "...     ...   ...             ...           ...             ...         ...   \n",
       "6465   6572  โฉนด           27110           112           727.0      06K076   \n",
       "6466   6573  โฉนด           27599           113           791.0      06K077   \n",
       "6467   6574  โฉนด           27109           114           726.0      06K078   \n",
       "6474   6581  โฉนด          121202           352          8415.0      06K085   \n",
       "6477   6584  โฉนด               -             -               -      06L016   \n",
       "\n",
       "      rai ngan tarang_wa usage_agriculture usage_living usage_other  \\\n",
       "6     2.0  1.0       8.7             908.7          0.0         0.0   \n",
       "44    0.0  0.0      35.9              35.9          0.0         0.0   \n",
       "71    0.0  0.0      84.1              84.1          0.0         0.0   \n",
       "96    0.0  0.0       6.1               6.1          0.0         0.0   \n",
       "121   0.0  0.0      67.1              67.1          0.0         0.0   \n",
       "...   ...  ...       ...               ...          ...         ...   \n",
       "6465  0.0  1.0       0.7             100.7          0.0         0.0   \n",
       "6466  0.0  0.0      50.4              50.4          0.0         0.0   \n",
       "6467  0.0  0.0      50.3              50.3          0.0         0.0   \n",
       "6474  0.0  0.0      65.8              65.8          0.0         0.0   \n",
       "6477  8.0  1.0      25.0            3325.0          0.0         0.0   \n",
       "\n",
       "     usage_none usage_misc type_of_usage  \n",
       "6           0.0        0.0   agriculture  \n",
       "44          0.0        0.0   agriculture  \n",
       "71          0.0        0.0   agriculture  \n",
       "96          0.0        0.0   agriculture  \n",
       "121         0.0        0.0   agriculture  \n",
       "...         ...        ...           ...  \n",
       "6465        0.0        0.0   agriculture  \n",
       "6466        0.0        0.0   agriculture  \n",
       "6467        0.0        0.0   agriculture  \n",
       "6474        0.0        0.0   agriculture  \n",
       "6477        0.0        0.0   agriculture  \n",
       "\n",
       "[569 rows x 15 columns]"
      ]
     },
     "execution_count": 16,
     "metadata": {},
     "output_type": "execute_result"
    }
   ],
   "source": [
    "df_66[\"type\"] = df_66[\"type\"].replace(\"-\", \"ไม่ระบุ\")\n",
    "agricultrue_land = df_66[df_66[\"type_of_usage\"] == \"agriculture\"]\n",
    "agricultrue_land"
   ]
  },
  {
   "cell_type": "markdown",
   "id": "fcde592a",
   "metadata": {},
   "source": [
    "#### จำนวนที่ดินที่ประกอบเกษตรกรรม"
   ]
  },
  {
   "cell_type": "code",
   "execution_count": 17,
   "id": "4caa22b9",
   "metadata": {},
   "outputs": [
    {
     "data": {
      "text/plain": [
       "569"
      ]
     },
     "execution_count": 17,
     "metadata": {},
     "output_type": "execute_result"
    }
   ],
   "source": [
    "len(agricultrue_land) # 569 ที่"
   ]
  },
  {
   "cell_type": "markdown",
   "id": "c29a2011",
   "metadata": {},
   "source": [
    "#### ดูข้อมูลทั้งหมดจำแนกแยกด้วยประเภท"
   ]
  },
  {
   "cell_type": "code",
   "execution_count": 18,
   "id": "95acaab6",
   "metadata": {},
   "outputs": [
    {
     "data": {
      "text/plain": [
       "type\n",
       "ที่ราชพัสดุ      13\n",
       "น.ส.3            13\n",
       "น.ส.ล.            4\n",
       "โฉนด           6381\n",
       "ไม่ระบุ          79\n",
       "dtype: int64"
      ]
     },
     "execution_count": 18,
     "metadata": {},
     "output_type": "execute_result"
    }
   ],
   "source": [
    "df_66.groupby('type').size()"
   ]
  },
  {
   "cell_type": "code",
   "execution_count": 19,
   "id": "8210eaf0",
   "metadata": {},
   "outputs": [
    {
     "data": {
      "text/plain": [
       "type\n",
       "น.ส.ล.      2\n",
       "โฉนด      567\n",
       "dtype: int64"
      ]
     },
     "execution_count": 19,
     "metadata": {},
     "output_type": "execute_result"
    }
   ],
   "source": [
    "agricultrue_land.groupby('type').size()\n",
    "\n",
    "# น.ส.ล. 2 ที่\n",
    "# โฉนด 567 ที่"
   ]
  },
  {
   "cell_type": "markdown",
   "id": "ae51c63c",
   "metadata": {},
   "source": [
    "#### สามารถดาวน์โหลดไฟล์ csv โดยการนำ '#' ออกและกดรันโปรแกรม"
   ]
  },
  {
   "cell_type": "code",
   "execution_count": 20,
   "id": "fd5f5daa",
   "metadata": {},
   "outputs": [
    {
     "data": {
      "text/html": [
       "<div>\n",
       "<style scoped>\n",
       "    .dataframe tbody tr th:only-of-type {\n",
       "        vertical-align: middle;\n",
       "    }\n",
       "\n",
       "    .dataframe tbody tr th {\n",
       "        vertical-align: top;\n",
       "    }\n",
       "\n",
       "    .dataframe thead th {\n",
       "        text-align: right;\n",
       "    }\n",
       "</style>\n",
       "<table border=\"1\" class=\"dataframe\">\n",
       "  <thead>\n",
       "    <tr style=\"text-align: right;\">\n",
       "      <th></th>\n",
       "      <th>order</th>\n",
       "      <th>type</th>\n",
       "      <th>document_number</th>\n",
       "      <th>parcel_number</th>\n",
       "      <th>sub_district_no</th>\n",
       "      <th>location_id</th>\n",
       "      <th>rai</th>\n",
       "      <th>ngan</th>\n",
       "      <th>tarang_wa</th>\n",
       "      <th>usage_agriculture</th>\n",
       "      <th>usage_living</th>\n",
       "      <th>usage_other</th>\n",
       "      <th>usage_none</th>\n",
       "      <th>usage_misc</th>\n",
       "      <th>type_of_usage</th>\n",
       "    </tr>\n",
       "  </thead>\n",
       "  <tbody>\n",
       "    <tr>\n",
       "      <th>0</th>\n",
       "      <td>1</td>\n",
       "      <td>โฉนด</td>\n",
       "      <td>1457</td>\n",
       "      <td>1309</td>\n",
       "      <td>1442.0</td>\n",
       "      <td>01A001</td>\n",
       "      <td>2.0</td>\n",
       "      <td>3.0</td>\n",
       "      <td>22.7</td>\n",
       "      <td>0.0</td>\n",
       "      <td>1122.7</td>\n",
       "      <td>0.0</td>\n",
       "      <td>0.0</td>\n",
       "      <td>1.0</td>\n",
       "      <td>living</td>\n",
       "    </tr>\n",
       "    <tr>\n",
       "      <th>1</th>\n",
       "      <td>2</td>\n",
       "      <td>โฉนด</td>\n",
       "      <td>1181</td>\n",
       "      <td>1384</td>\n",
       "      <td>1441.0</td>\n",
       "      <td>01A002</td>\n",
       "      <td>1.0</td>\n",
       "      <td>0.0</td>\n",
       "      <td>38.7</td>\n",
       "      <td>0.0</td>\n",
       "      <td>438.7</td>\n",
       "      <td>0.0</td>\n",
       "      <td>0.0</td>\n",
       "      <td>0.0</td>\n",
       "      <td>living</td>\n",
       "    </tr>\n",
       "    <tr>\n",
       "      <th>2</th>\n",
       "      <td>3</td>\n",
       "      <td>โฉนด</td>\n",
       "      <td>1755</td>\n",
       "      <td>1386</td>\n",
       "      <td>1439.0</td>\n",
       "      <td>01A003</td>\n",
       "      <td>0.0</td>\n",
       "      <td>0.0</td>\n",
       "      <td>75.5</td>\n",
       "      <td>0.0</td>\n",
       "      <td>75.5</td>\n",
       "      <td>0.0</td>\n",
       "      <td>0.0</td>\n",
       "      <td>0.0</td>\n",
       "      <td>living</td>\n",
       "    </tr>\n",
       "    <tr>\n",
       "      <th>3</th>\n",
       "      <td>4</td>\n",
       "      <td>โฉนด</td>\n",
       "      <td>85625</td>\n",
       "      <td>37</td>\n",
       "      <td>4752.0</td>\n",
       "      <td>01A003/001</td>\n",
       "      <td>0.0</td>\n",
       "      <td>0.0</td>\n",
       "      <td>75.5</td>\n",
       "      <td>0.0</td>\n",
       "      <td>75.5</td>\n",
       "      <td>0.0</td>\n",
       "      <td>0.0</td>\n",
       "      <td>0.0</td>\n",
       "      <td>living</td>\n",
       "    </tr>\n",
       "    <tr>\n",
       "      <th>4</th>\n",
       "      <td>5</td>\n",
       "      <td>โฉนด</td>\n",
       "      <td>85626</td>\n",
       "      <td>38</td>\n",
       "      <td>4753.0</td>\n",
       "      <td>01A003/002</td>\n",
       "      <td>0.0</td>\n",
       "      <td>0.0</td>\n",
       "      <td>75.5</td>\n",
       "      <td>0.0</td>\n",
       "      <td>75.5</td>\n",
       "      <td>0.0</td>\n",
       "      <td>0.0</td>\n",
       "      <td>0.0</td>\n",
       "      <td>living</td>\n",
       "    </tr>\n",
       "    <tr>\n",
       "      <th>...</th>\n",
       "      <td>...</td>\n",
       "      <td>...</td>\n",
       "      <td>...</td>\n",
       "      <td>...</td>\n",
       "      <td>...</td>\n",
       "      <td>...</td>\n",
       "      <td>...</td>\n",
       "      <td>...</td>\n",
       "      <td>...</td>\n",
       "      <td>...</td>\n",
       "      <td>...</td>\n",
       "      <td>...</td>\n",
       "      <td>...</td>\n",
       "      <td>...</td>\n",
       "      <td>...</td>\n",
       "    </tr>\n",
       "    <tr>\n",
       "      <th>6485</th>\n",
       "      <td>6592</td>\n",
       "      <td>โฉนด</td>\n",
       "      <td>29141</td>\n",
       "      <td>2286</td>\n",
       "      <td>3562.0</td>\n",
       "      <td>06L022</td>\n",
       "      <td>0.0</td>\n",
       "      <td>3.0</td>\n",
       "      <td>77.8</td>\n",
       "      <td>0.0</td>\n",
       "      <td>377.8</td>\n",
       "      <td>0.0</td>\n",
       "      <td>0.0</td>\n",
       "      <td>0.0</td>\n",
       "      <td>living</td>\n",
       "    </tr>\n",
       "    <tr>\n",
       "      <th>6486</th>\n",
       "      <td>6593</td>\n",
       "      <td>โฉนด</td>\n",
       "      <td>29140</td>\n",
       "      <td>2478</td>\n",
       "      <td>3563.0</td>\n",
       "      <td>06L023</td>\n",
       "      <td>0.0</td>\n",
       "      <td>3.0</td>\n",
       "      <td>48.0</td>\n",
       "      <td>0.0</td>\n",
       "      <td>348.0</td>\n",
       "      <td>0.0</td>\n",
       "      <td>0.0</td>\n",
       "      <td>0.0</td>\n",
       "      <td>living</td>\n",
       "    </tr>\n",
       "    <tr>\n",
       "      <th>6487</th>\n",
       "      <td>6594</td>\n",
       "      <td>โฉนด</td>\n",
       "      <td>98537</td>\n",
       "      <td>219</td>\n",
       "      <td>4945.0</td>\n",
       "      <td>06L023/001</td>\n",
       "      <td>0.0</td>\n",
       "      <td>2.0</td>\n",
       "      <td>0.0</td>\n",
       "      <td>0.0</td>\n",
       "      <td>180.0</td>\n",
       "      <td>20.0</td>\n",
       "      <td>0.0</td>\n",
       "      <td>0.0</td>\n",
       "      <td>living</td>\n",
       "    </tr>\n",
       "    <tr>\n",
       "      <th>6488</th>\n",
       "      <td>6595</td>\n",
       "      <td>โฉนด</td>\n",
       "      <td>29139</td>\n",
       "      <td>2476</td>\n",
       "      <td>3574.0</td>\n",
       "      <td>06L024</td>\n",
       "      <td>0.0</td>\n",
       "      <td>3.0</td>\n",
       "      <td>81.4</td>\n",
       "      <td>0.0</td>\n",
       "      <td>0.0</td>\n",
       "      <td>0.0</td>\n",
       "      <td>381.4</td>\n",
       "      <td>0.0</td>\n",
       "      <td>wasteland</td>\n",
       "    </tr>\n",
       "    <tr>\n",
       "      <th>6489</th>\n",
       "      <td>6596</td>\n",
       "      <td>โฉนด</td>\n",
       "      <td>29142</td>\n",
       "      <td>2477</td>\n",
       "      <td>3575.0</td>\n",
       "      <td>06L025</td>\n",
       "      <td>1.0</td>\n",
       "      <td>1.0</td>\n",
       "      <td>70.4</td>\n",
       "      <td>0.0</td>\n",
       "      <td>0.0</td>\n",
       "      <td>0.0</td>\n",
       "      <td>570.4</td>\n",
       "      <td>0.0</td>\n",
       "      <td>wasteland</td>\n",
       "    </tr>\n",
       "  </tbody>\n",
       "</table>\n",
       "<p>6490 rows × 15 columns</p>\n",
       "</div>"
      ],
      "text/plain": [
       "      order  type document_number parcel_number sub_district_no location_id  \\\n",
       "0         1  โฉนด            1457          1309          1442.0      01A001   \n",
       "1         2  โฉนด            1181          1384          1441.0      01A002   \n",
       "2         3  โฉนด            1755          1386          1439.0      01A003   \n",
       "3         4  โฉนด           85625            37          4752.0  01A003/001   \n",
       "4         5  โฉนด           85626            38          4753.0  01A003/002   \n",
       "...     ...   ...             ...           ...             ...         ...   \n",
       "6485   6592  โฉนด           29141          2286          3562.0      06L022   \n",
       "6486   6593  โฉนด           29140          2478          3563.0      06L023   \n",
       "6487   6594  โฉนด           98537           219          4945.0  06L023/001   \n",
       "6488   6595  โฉนด           29139          2476          3574.0      06L024   \n",
       "6489   6596  โฉนด           29142          2477          3575.0      06L025   \n",
       "\n",
       "      rai ngan tarang_wa usage_agriculture usage_living usage_other  \\\n",
       "0     2.0  3.0      22.7               0.0       1122.7         0.0   \n",
       "1     1.0  0.0      38.7               0.0        438.7         0.0   \n",
       "2     0.0  0.0      75.5               0.0         75.5         0.0   \n",
       "3     0.0  0.0      75.5               0.0         75.5         0.0   \n",
       "4     0.0  0.0      75.5               0.0         75.5         0.0   \n",
       "...   ...  ...       ...               ...          ...         ...   \n",
       "6485  0.0  3.0      77.8               0.0        377.8         0.0   \n",
       "6486  0.0  3.0      48.0               0.0        348.0         0.0   \n",
       "6487  0.0  2.0       0.0               0.0        180.0        20.0   \n",
       "6488  0.0  3.0      81.4               0.0          0.0         0.0   \n",
       "6489  1.0  1.0      70.4               0.0          0.0         0.0   \n",
       "\n",
       "     usage_none usage_misc type_of_usage  \n",
       "0           0.0        1.0        living  \n",
       "1           0.0        0.0        living  \n",
       "2           0.0        0.0        living  \n",
       "3           0.0        0.0        living  \n",
       "4           0.0        0.0        living  \n",
       "...         ...        ...           ...  \n",
       "6485        0.0        0.0        living  \n",
       "6486        0.0        0.0        living  \n",
       "6487        0.0        0.0        living  \n",
       "6488      381.4        0.0     wasteland  \n",
       "6489      570.4        0.0     wasteland  \n",
       "\n",
       "[6490 rows x 15 columns]"
      ]
     },
     "execution_count": 20,
     "metadata": {},
     "output_type": "execute_result"
    }
   ],
   "source": [
    "#df_66.to_csv('target/data2566.csv', index=False)\n",
    "df_66"
   ]
  },
  {
   "cell_type": "markdown",
   "id": "b6674951",
   "metadata": {},
   "source": [
    "#### สามารถดาวน์โหลดไฟล์ csv (เฉพาะพื้นที่เกษตรกรรม) โดยการนำ '#' ออกและกดรันโปรแกรม"
   ]
  },
  {
   "cell_type": "code",
   "execution_count": 21,
   "id": "ab897577",
   "metadata": {},
   "outputs": [],
   "source": [
    "df_66.iloc[:, 8:] = df_66.iloc[:, 8:].replace(0,'-')\n",
    "df_66.iloc[:, -1] = df_66.iloc[:, -1].replace(\"agriculture\", \"ประกอบเกษตรกรรม\")\n",
    "df_66.iloc[:, -1] = df_66.iloc[:, -1].replace(\"living\", \"อยู่อาศัย\")\n",
    "df_66.iloc[:, -1] = df_66.iloc[:, -1].replace(\"other\", \"อื่น ๆ\")\n",
    "df_66.iloc[:, -1] = df_66.iloc[:, -1].replace(\"wasteland\", \"ว่างเปล่า/ไม่ทำประโยชน์\")\n",
    "df_66.iloc[:, -1] = df_66.iloc[:, -1].replace(\"misc\", \"ใช้ประโยชน์หลากหลาย\")\n",
    "df_66.iloc[:, -1] = df_66.iloc[:, -1].replace(\"unknown\", \"ไม่ทราบลักษณะการใช้ \")"
   ]
  },
  {
   "cell_type": "code",
   "execution_count": 22,
   "id": "c081ff0a",
   "metadata": {},
   "outputs": [],
   "source": [
    "df_66 = df_66.rename(columns={\n",
    "                    \"order\": \"ที่\", \n",
    "                    \"type\": \"ประเภทที่ดิน\", \n",
    "                    \"document_number\": \"เลขที่เอกสารสิทธิ์\",\n",
    "                    \"parcel_number\": \"เลขที่ดิน\",\n",
    "                    \"sub_district_no\" : \"หน้าสำรวจ\",\n",
    "                    \"location_id\" : \"รหัสแปลงที่ดิน\",\n",
    "                    \"rai\" : \"ไร่\",\n",
    "                    \"ngan\" : \"งาน\",\n",
    "                    \"tarang_wa\" : \"ตร.ว.\",\n",
    "                    \"usage_agriculture\" : \"ประกอบเกษตรกรรม (ตร.ว.)\",\n",
    "                    \"usage_living\" : \"อยู่อาศัย (ตร.ว.)\",\n",
    "                    \"usage_other\" : \"อื่น ๆ (ตร.ว.)\",\n",
    "                    \"usage_none\" : \"ว่างเปล่า/ไม่ทำประโยชน์ (ตร.ว.)\",\n",
    "                    \"usage_misc\" : \"ใช้ประโยชน์หลากหลาย (ตร.ว.)\",\n",
    "                    \"type_of_usage\" : \"ลักษณะการทำประโยชน์\"\n",
    "                    }, errors=\"raise\")"
   ]
  },
  {
   "cell_type": "code",
   "execution_count": 23,
   "id": "989d6632",
   "metadata": {},
   "outputs": [],
   "source": [
    "df_66[df_66[\"ลักษณะการทำประโยชน์\"] == \"ประกอบเกษตรกรรม\"].to_csv('../result/พื้นที่ประกอบเกษตรกรรม/2566/พื้นที่ประกอบเกษตรกรรม2566.csv', index=False)"
   ]
  },
  {
   "cell_type": "markdown",
   "id": "c4a7d8bb",
   "metadata": {},
   "source": [
    "#### สามารถดาวน์โหลดไฟล์ excel โดยการนำ '#' ออกและกดรันโปรแกรม"
   ]
  },
  {
   "cell_type": "code",
   "execution_count": 24,
   "id": "a92c36b1",
   "metadata": {},
   "outputs": [],
   "source": [
    "df_66[df_66[\"ลักษณะการทำประโยชน์\"] == \"ประกอบเกษตรกรรม\"].to_excel('../result/พื้นที่ประกอบเกษตรกรรม/2566/พื้นที่ประกอบเกษตรกรรม2566.xlsx', index=False)"
   ]
  },
  {
   "cell_type": "markdown",
   "id": "78a7e2a0",
   "metadata": {},
   "source": [
    "---------------"
   ]
  },
  {
   "cell_type": "code",
   "execution_count": 25,
   "id": "151736bd",
   "metadata": {},
   "outputs": [
    {
     "data": {
      "image/png": "[encoded data removed]",
      "text/plain": [
       "<Figure size 640x480 with 1 Axes>"
      ]
     },
     "metadata": {},
     "output_type": "display_data"
    }
   ],
   "source": [
    "value_counts = df_66[\"ลักษณะการทำประโยชน์\"].value_counts() \n",
    "value_counts.plot(kind=\"bar\")\n",
    "plt.title(\"การใช้ที่ดิน 2566\")\n",
    "plt.xlabel(\"ลักษณะการทำประโยชน์\")\n",
    "plt.ylabel(\"จำนวนที่ดิน\")\n",
    "plt.show()"
   ]
  }
 ],
 "metadata": {
  "kernelspec": {
   "display_name": "Python 3 (ipykernel)",
   "language": "python",
   "name": "python3"
  },
  "language_info": {
   "codemirror_mode": {
    "name": "ipython",
    "version": 3
   },
   "file_extension": ".py",
   "mimetype": "text/x-python",
   "name": "python",
   "nbconvert_exporter": "python",
   "pygments_lexer": "ipython3",
   "version": "3.9.5"
  }
 },
 "nbformat": 4,
 "nbformat_minor": 5
}
