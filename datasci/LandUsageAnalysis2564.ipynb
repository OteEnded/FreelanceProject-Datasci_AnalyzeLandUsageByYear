{
 "cells": [
  {
   "cell_type": "markdown",
   "id": "a479e1cd",
   "metadata": {},
   "source": [
    "## เตรียมข้อมูลก่อนนำไปวิเคราะห์"
   ]
  },
  {
   "cell_type": "markdown",
   "id": "40512466",
   "metadata": {},
   "source": [
    "### แบบบัญชีรายการที่ดิน เทศบาลเมืองลำพูน อำเภอ เมืองลำพูน จังหวัด ลำพูน"
   ]
  },
  {
   "cell_type": "markdown",
   "id": "3135eca3",
   "metadata": {},
   "source": [
    "#### เปิดไฟล์และทำความสะอาดข้อมูล"
   ]
  },
  {
   "cell_type": "code",
   "execution_count": 31,
   "id": "b279daef",
   "metadata": {},
   "outputs": [],
   "source": [
    "import pandas as pd\n",
    "import numpy as np\n",
    "from matplotlib import pyplot as plt"
   ]
  },
  {
   "cell_type": "code",
   "execution_count": 32,
   "id": "0369b974",
   "metadata": {
    "scrolled": true
   },
   "outputs": [
    {
     "name": "stderr",
     "output_type": "stream",
     "text": [
      "C:\\Users\\NotOte\\AppData\\Local\\Temp\\ipykernel_26488\\3986755587.py:8: FutureWarning: Setting an item of incompatible dtype is deprecated and will raise in a future error of pandas. Value '0       38.7\n",
      "1       75.5\n",
      "2       75.5\n",
      "3       75.5\n",
      "4       20.7\n",
      "        ... \n",
      "6501    35.5\n",
      "6502    48.0\n",
      "6503     0.0\n",
      "6504    81.4\n",
      "6505    70.4\n",
      "Name: tarang_wa, Length: 6506, dtype: object' has dtype incompatible with float64, please explicitly cast to a compatible dtype first.\n",
      "  df_64.iloc[:, 8:] = df_64.iloc[:, 8:].fillna(\"0\")\n"
     ]
    }
   ],
   "source": [
    "# เปิดไฟล์ csv\n",
    "df_64 = pd.read_csv(\"dataset/2564.csv\")\n",
    "\n",
    "# ลบลูกน้ำออก\n",
    "df_64 = df_64.replace(',','', regex=True)\n",
    "\n",
    "# เติมค่าว่างตั้งแต่หลักที่ 8 ให้เป็น 0\n",
    "df_64.iloc[:, 8:] = df_64.iloc[:, 8:].fillna(\"0\")  \n",
    "\n",
    "# เติมค่าว่างให้เป็น -\n",
    "df_64 = df_64.fillna(\"-\")  \n",
    "\n",
    "# แปลงประเภทของข้อมูลให้เป็นตัวเลข\n",
    "df_64.iloc[:, 8:] = df_64.iloc[:, 8:].astype(float) "
   ]
  },
  {
   "cell_type": "code",
   "execution_count": 33,
   "id": "7948f5ce",
   "metadata": {},
   "outputs": [
    {
     "data": {
      "text/html": [
       "<div>\n",
       "<style scoped>\n",
       "    .dataframe tbody tr th:only-of-type {\n",
       "        vertical-align: middle;\n",
       "    }\n",
       "\n",
       "    .dataframe tbody tr th {\n",
       "        vertical-align: top;\n",
       "    }\n",
       "\n",
       "    .dataframe thead th {\n",
       "        text-align: right;\n",
       "    }\n",
       "</style>\n",
       "<table border=\"1\" class=\"dataframe\">\n",
       "  <thead>\n",
       "    <tr style=\"text-align: right;\">\n",
       "      <th></th>\n",
       "      <th>order</th>\n",
       "      <th>type</th>\n",
       "      <th>document_number</th>\n",
       "      <th>pracel_number</th>\n",
       "      <th>sub_district_no</th>\n",
       "      <th>location_id</th>\n",
       "      <th>rai</th>\n",
       "      <th>ngan</th>\n",
       "      <th>tarang_wa</th>\n",
       "      <th>usage_agriculture</th>\n",
       "      <th>usage_living</th>\n",
       "      <th>usage_other</th>\n",
       "      <th>usage_none</th>\n",
       "      <th>usage_misc</th>\n",
       "    </tr>\n",
       "  </thead>\n",
       "  <tbody>\n",
       "    <tr>\n",
       "      <th>0</th>\n",
       "      <td>1</td>\n",
       "      <td>โฉนด</td>\n",
       "      <td>1181</td>\n",
       "      <td>1384</td>\n",
       "      <td>1441.0</td>\n",
       "      <td>01A002</td>\n",
       "      <td>1.0</td>\n",
       "      <td>0.0</td>\n",
       "      <td>38.7</td>\n",
       "      <td>0.0</td>\n",
       "      <td>438.7</td>\n",
       "      <td>0.0</td>\n",
       "      <td>0.0</td>\n",
       "      <td>0.0</td>\n",
       "    </tr>\n",
       "    <tr>\n",
       "      <th>1</th>\n",
       "      <td>2</td>\n",
       "      <td>โฉนด</td>\n",
       "      <td>1755</td>\n",
       "      <td>1386</td>\n",
       "      <td>1439.0</td>\n",
       "      <td>01A003</td>\n",
       "      <td>0.0</td>\n",
       "      <td>0.0</td>\n",
       "      <td>75.5</td>\n",
       "      <td>0.0</td>\n",
       "      <td>75.5</td>\n",
       "      <td>0.0</td>\n",
       "      <td>0.0</td>\n",
       "      <td>0.0</td>\n",
       "    </tr>\n",
       "    <tr>\n",
       "      <th>2</th>\n",
       "      <td>3</td>\n",
       "      <td>โฉนด</td>\n",
       "      <td>85625</td>\n",
       "      <td>37</td>\n",
       "      <td>4752.0</td>\n",
       "      <td>01A003/001</td>\n",
       "      <td>0.0</td>\n",
       "      <td>0.0</td>\n",
       "      <td>75.5</td>\n",
       "      <td>0.0</td>\n",
       "      <td>75.5</td>\n",
       "      <td>0.0</td>\n",
       "      <td>0.0</td>\n",
       "      <td>0.0</td>\n",
       "    </tr>\n",
       "    <tr>\n",
       "      <th>3</th>\n",
       "      <td>4</td>\n",
       "      <td>โฉนด</td>\n",
       "      <td>85626</td>\n",
       "      <td>38</td>\n",
       "      <td>4753.0</td>\n",
       "      <td>01A003/002</td>\n",
       "      <td>0.0</td>\n",
       "      <td>0.0</td>\n",
       "      <td>75.5</td>\n",
       "      <td>0.0</td>\n",
       "      <td>75.5</td>\n",
       "      <td>0.0</td>\n",
       "      <td>0.0</td>\n",
       "      <td>0.0</td>\n",
       "    </tr>\n",
       "    <tr>\n",
       "      <th>4</th>\n",
       "      <td>5</td>\n",
       "      <td>โฉนด</td>\n",
       "      <td>1402</td>\n",
       "      <td>1385</td>\n",
       "      <td>1440.0</td>\n",
       "      <td>01A004</td>\n",
       "      <td>0.0</td>\n",
       "      <td>1.0</td>\n",
       "      <td>20.7</td>\n",
       "      <td>0.0</td>\n",
       "      <td>0.0</td>\n",
       "      <td>0.0</td>\n",
       "      <td>0.0</td>\n",
       "      <td>120.7</td>\n",
       "    </tr>\n",
       "    <tr>\n",
       "      <th>...</th>\n",
       "      <td>...</td>\n",
       "      <td>...</td>\n",
       "      <td>...</td>\n",
       "      <td>...</td>\n",
       "      <td>...</td>\n",
       "      <td>...</td>\n",
       "      <td>...</td>\n",
       "      <td>...</td>\n",
       "      <td>...</td>\n",
       "      <td>...</td>\n",
       "      <td>...</td>\n",
       "      <td>...</td>\n",
       "      <td>...</td>\n",
       "      <td>...</td>\n",
       "    </tr>\n",
       "    <tr>\n",
       "      <th>6501</th>\n",
       "      <td>6585</td>\n",
       "      <td>โฉนด</td>\n",
       "      <td>29141</td>\n",
       "      <td>2286</td>\n",
       "      <td>3562.0</td>\n",
       "      <td>06L022</td>\n",
       "      <td>0.0</td>\n",
       "      <td>3.0</td>\n",
       "      <td>35.5</td>\n",
       "      <td>0.0</td>\n",
       "      <td>335.5</td>\n",
       "      <td>0.0</td>\n",
       "      <td>0.0</td>\n",
       "      <td>0.0</td>\n",
       "    </tr>\n",
       "    <tr>\n",
       "      <th>6502</th>\n",
       "      <td>6586</td>\n",
       "      <td>โฉนด</td>\n",
       "      <td>29140</td>\n",
       "      <td>2478</td>\n",
       "      <td>3563.0</td>\n",
       "      <td>06L023</td>\n",
       "      <td>0.0</td>\n",
       "      <td>3.0</td>\n",
       "      <td>48.0</td>\n",
       "      <td>0.0</td>\n",
       "      <td>348.0</td>\n",
       "      <td>0.0</td>\n",
       "      <td>0.0</td>\n",
       "      <td>0.0</td>\n",
       "    </tr>\n",
       "    <tr>\n",
       "      <th>6503</th>\n",
       "      <td>6587</td>\n",
       "      <td>โฉนด</td>\n",
       "      <td>98537</td>\n",
       "      <td>219</td>\n",
       "      <td>4945.0</td>\n",
       "      <td>06L023/001</td>\n",
       "      <td>0.0</td>\n",
       "      <td>2.0</td>\n",
       "      <td>0.0</td>\n",
       "      <td>0.0</td>\n",
       "      <td>0.0</td>\n",
       "      <td>0.0</td>\n",
       "      <td>0.0</td>\n",
       "      <td>200.0</td>\n",
       "    </tr>\n",
       "    <tr>\n",
       "      <th>6504</th>\n",
       "      <td>6588</td>\n",
       "      <td>โฉนด</td>\n",
       "      <td>29139</td>\n",
       "      <td>2476</td>\n",
       "      <td>3574.0</td>\n",
       "      <td>06L024</td>\n",
       "      <td>0.0</td>\n",
       "      <td>3.0</td>\n",
       "      <td>81.4</td>\n",
       "      <td>0.0</td>\n",
       "      <td>0.0</td>\n",
       "      <td>0.0</td>\n",
       "      <td>381.4</td>\n",
       "      <td>0.0</td>\n",
       "    </tr>\n",
       "    <tr>\n",
       "      <th>6505</th>\n",
       "      <td>6589</td>\n",
       "      <td>โฉนด</td>\n",
       "      <td>29142</td>\n",
       "      <td>2477</td>\n",
       "      <td>3575.0</td>\n",
       "      <td>06L025</td>\n",
       "      <td>1.0</td>\n",
       "      <td>1.0</td>\n",
       "      <td>70.4</td>\n",
       "      <td>0.0</td>\n",
       "      <td>0.0</td>\n",
       "      <td>0.0</td>\n",
       "      <td>570.4</td>\n",
       "      <td>0.0</td>\n",
       "    </tr>\n",
       "  </tbody>\n",
       "</table>\n",
       "<p>6506 rows × 14 columns</p>\n",
       "</div>"
      ],
      "text/plain": [
       "      order  type document_number pracel_number sub_district_no location_id  \\\n",
       "0         1  โฉนด            1181          1384          1441.0      01A002   \n",
       "1         2  โฉนด            1755          1386          1439.0      01A003   \n",
       "2         3  โฉนด           85625            37          4752.0  01A003/001   \n",
       "3         4  โฉนด           85626            38          4753.0  01A003/002   \n",
       "4         5  โฉนด            1402          1385          1440.0      01A004   \n",
       "...     ...   ...             ...           ...             ...         ...   \n",
       "6501   6585  โฉนด           29141          2286          3562.0      06L022   \n",
       "6502   6586  โฉนด           29140          2478          3563.0      06L023   \n",
       "6503   6587  โฉนด           98537           219          4945.0  06L023/001   \n",
       "6504   6588  โฉนด           29139          2476          3574.0      06L024   \n",
       "6505   6589  โฉนด           29142          2477          3575.0      06L025   \n",
       "\n",
       "      rai ngan tarang_wa usage_agriculture usage_living usage_other  \\\n",
       "0     1.0  0.0      38.7               0.0        438.7         0.0   \n",
       "1     0.0  0.0      75.5               0.0         75.5         0.0   \n",
       "2     0.0  0.0      75.5               0.0         75.5         0.0   \n",
       "3     0.0  0.0      75.5               0.0         75.5         0.0   \n",
       "4     0.0  1.0      20.7               0.0          0.0         0.0   \n",
       "...   ...  ...       ...               ...          ...         ...   \n",
       "6501  0.0  3.0      35.5               0.0        335.5         0.0   \n",
       "6502  0.0  3.0      48.0               0.0        348.0         0.0   \n",
       "6503  0.0  2.0       0.0               0.0          0.0         0.0   \n",
       "6504  0.0  3.0      81.4               0.0          0.0         0.0   \n",
       "6505  1.0  1.0      70.4               0.0          0.0         0.0   \n",
       "\n",
       "     usage_none usage_misc  \n",
       "0           0.0        0.0  \n",
       "1           0.0        0.0  \n",
       "2           0.0        0.0  \n",
       "3           0.0        0.0  \n",
       "4           0.0      120.7  \n",
       "...         ...        ...  \n",
       "6501        0.0        0.0  \n",
       "6502        0.0        0.0  \n",
       "6503        0.0      200.0  \n",
       "6504      381.4        0.0  \n",
       "6505      570.4        0.0  \n",
       "\n",
       "[6506 rows x 14 columns]"
      ]
     },
     "execution_count": 33,
     "metadata": {},
     "output_type": "execute_result"
    }
   ],
   "source": [
    "# แสดงข้อมูล\n",
    "df_64"
   ]
  },
  {
   "cell_type": "markdown",
   "id": "2edad7da",
   "metadata": {},
   "source": [
    "#### จำแนกลักษณะการทำประโยชน์"
   ]
  },
  {
   "cell_type": "code",
   "execution_count": 34,
   "id": "fd6ea584",
   "metadata": {},
   "outputs": [],
   "source": [
    "# สร้างคอลัมม์ใหม่\n",
    "df_64[\"type_of_usage\"] = pd.Series([float('NaN')] * len(df_64))"
   ]
  },
  {
   "cell_type": "code",
   "execution_count": 35,
   "id": "3c792cab",
   "metadata": {},
   "outputs": [
    {
     "name": "stderr",
     "output_type": "stream",
     "text": [
      "C:\\Users\\NotOte\\AppData\\Local\\Temp\\ipykernel_26488\\614487288.py:2: FutureWarning: Downcasting object dtype arrays on .fillna, .ffill, .bfill is deprecated and will change in a future version. Call result.infer_objects(copy=False) instead. To opt-in to the future behavior, set `pd.set_option('future.no_silent_downcasting', True)`\n",
      "  df_64[df_64[\"usage_agriculture\"] > 0] = df_64[df_64[\"usage_agriculture\"] > 0].fillna(\"agriculture\")\n",
      "C:\\Users\\NotOte\\AppData\\Local\\Temp\\ipykernel_26488\\614487288.py:2: FutureWarning: Setting an item of incompatible dtype is deprecated and will raise an error in a future version of pandas. Value '['agriculture' 'agriculture' 'agriculture' 'agriculture' 'agriculture'\n",
      " 'agriculture' 'agriculture' 'agriculture' 'agriculture' 'agriculture'\n",
      " 'agriculture' 'agriculture' 'agriculture' 'agriculture' 'agriculture'\n",
      " 'agriculture' 'agriculture' 'agriculture' 'agriculture' 'agriculture'\n",
      " 'agriculture' 'agriculture' 'agriculture' 'agriculture' 'agriculture'\n",
      " 'agriculture' 'agriculture' 'agriculture' 'agriculture' 'agriculture'\n",
      " 'agriculture' 'agriculture' 'agriculture' 'agriculture' 'agriculture'\n",
      " 'agriculture' 'agriculture' 'agriculture' 'agriculture' 'agriculture'\n",
      " 'agriculture' 'agriculture' 'agriculture' 'agriculture' 'agriculture'\n",
      " 'agriculture' 'agriculture' 'agriculture' 'agriculture' 'agriculture'\n",
      " 'agriculture' 'agriculture' 'agriculture' 'agriculture' 'agriculture'\n",
      " 'agriculture' 'agriculture' 'agriculture' 'agriculture' 'agriculture'\n",
      " 'agriculture' 'agriculture' 'agriculture' 'agriculture' 'agriculture'\n",
      " 'agriculture' 'agriculture' 'agriculture' 'agriculture' 'agriculture'\n",
      " 'agriculture' 'agriculture' 'agriculture' 'agriculture' 'agriculture'\n",
      " 'agriculture' 'agriculture' 'agriculture' 'agriculture' 'agriculture'\n",
      " 'agriculture' 'agriculture' 'agriculture' 'agriculture' 'agriculture'\n",
      " 'agriculture' 'agriculture' 'agriculture' 'agriculture' 'agriculture'\n",
      " 'agriculture' 'agriculture' 'agriculture' 'agriculture' 'agriculture'\n",
      " 'agriculture' 'agriculture' 'agriculture' 'agriculture' 'agriculture'\n",
      " 'agriculture' 'agriculture' 'agriculture' 'agriculture' 'agriculture'\n",
      " 'agriculture' 'agriculture' 'agriculture' 'agriculture' 'agriculture'\n",
      " 'agriculture' 'agriculture' 'agriculture' 'agriculture' 'agriculture'\n",
      " 'agriculture' 'agriculture' 'agriculture' 'agriculture' 'agriculture'\n",
      " 'agriculture' 'agriculture' 'agriculture' 'agriculture' 'agriculture'\n",
      " 'agriculture' 'agriculture' 'agriculture' 'agriculture' 'agriculture'\n",
      " 'agriculture' 'agriculture' 'agriculture' 'agriculture' 'agriculture'\n",
      " 'agriculture' 'agriculture' 'agriculture' 'agriculture' 'agriculture'\n",
      " 'agriculture' 'agriculture' 'agriculture' 'agriculture' 'agriculture'\n",
      " 'agriculture' 'agriculture' 'agriculture' 'agriculture' 'agriculture'\n",
      " 'agriculture' 'agriculture' 'agriculture' 'agriculture' 'agriculture'\n",
      " 'agriculture' 'agriculture' 'agriculture' 'agriculture' 'agriculture'\n",
      " 'agriculture' 'agriculture' 'agriculture' 'agriculture' 'agriculture'\n",
      " 'agriculture' 'agriculture' 'agriculture' 'agriculture' 'agriculture'\n",
      " 'agriculture' 'agriculture' 'agriculture' 'agriculture' 'agriculture'\n",
      " 'agriculture' 'agriculture' 'agriculture' 'agriculture' 'agriculture'\n",
      " 'agriculture' 'agriculture' 'agriculture' 'agriculture' 'agriculture'\n",
      " 'agriculture' 'agriculture' 'agriculture' 'agriculture' 'agriculture'\n",
      " 'agriculture' 'agriculture' 'agriculture' 'agriculture' 'agriculture'\n",
      " 'agriculture' 'agriculture' 'agriculture' 'agriculture' 'agriculture'\n",
      " 'agriculture' 'agriculture' 'agriculture' 'agriculture' 'agriculture'\n",
      " 'agriculture' 'agriculture' 'agriculture' 'agriculture' 'agriculture'\n",
      " 'agriculture' 'agriculture' 'agriculture' 'agriculture' 'agriculture'\n",
      " 'agriculture' 'agriculture' 'agriculture' 'agriculture' 'agriculture'\n",
      " 'agriculture' 'agriculture' 'agriculture' 'agriculture' 'agriculture'\n",
      " 'agriculture' 'agriculture' 'agriculture' 'agriculture' 'agriculture'\n",
      " 'agriculture' 'agriculture' 'agriculture' 'agriculture' 'agriculture'\n",
      " 'agriculture' 'agriculture' 'agriculture' 'agriculture' 'agriculture'\n",
      " 'agriculture' 'agriculture' 'agriculture' 'agriculture' 'agriculture'\n",
      " 'agriculture' 'agriculture' 'agriculture' 'agriculture' 'agriculture'\n",
      " 'agriculture' 'agriculture' 'agriculture' 'agriculture' 'agriculture'\n",
      " 'agriculture' 'agriculture' 'agriculture' 'agriculture' 'agriculture'\n",
      " 'agriculture' 'agriculture' 'agriculture' 'agriculture' 'agriculture'\n",
      " 'agriculture' 'agriculture' 'agriculture' 'agriculture' 'agriculture'\n",
      " 'agriculture' 'agriculture' 'agriculture' 'agriculture' 'agriculture'\n",
      " 'agriculture' 'agriculture' 'agriculture' 'agriculture' 'agriculture'\n",
      " 'agriculture' 'agriculture' 'agriculture' 'agriculture' 'agriculture'\n",
      " 'agriculture' 'agriculture' 'agriculture' 'agriculture' 'agriculture'\n",
      " 'agriculture' 'agriculture' 'agriculture' 'agriculture' 'agriculture'\n",
      " 'agriculture' 'agriculture' 'agriculture' 'agriculture' 'agriculture'\n",
      " 'agriculture' 'agriculture' 'agriculture' 'agriculture' 'agriculture'\n",
      " 'agriculture' 'agriculture' 'agriculture' 'agriculture' 'agriculture'\n",
      " 'agriculture' 'agriculture' 'agriculture' 'agriculture' 'agriculture'\n",
      " 'agriculture' 'agriculture' 'agriculture' 'agriculture' 'agriculture'\n",
      " 'agriculture' 'agriculture' 'agriculture' 'agriculture' 'agriculture'\n",
      " 'agriculture' 'agriculture' 'agriculture' 'agriculture' 'agriculture'\n",
      " 'agriculture' 'agriculture' 'agriculture' 'agriculture' 'agriculture'\n",
      " 'agriculture' 'agriculture' 'agriculture' 'agriculture' 'agriculture'\n",
      " 'agriculture' 'agriculture' 'agriculture' 'agriculture' 'agriculture'\n",
      " 'agriculture' 'agriculture' 'agriculture' 'agriculture' 'agriculture'\n",
      " 'agriculture' 'agriculture' 'agriculture' 'agriculture' 'agriculture'\n",
      " 'agriculture' 'agriculture' 'agriculture' 'agriculture' 'agriculture'\n",
      " 'agriculture' 'agriculture' 'agriculture' 'agriculture' 'agriculture'\n",
      " 'agriculture' 'agriculture' 'agriculture' 'agriculture' 'agriculture'\n",
      " 'agriculture' 'agriculture' 'agriculture' 'agriculture' 'agriculture'\n",
      " 'agriculture' 'agriculture' 'agriculture' 'agriculture' 'agriculture'\n",
      " 'agriculture' 'agriculture' 'agriculture' 'agriculture' 'agriculture'\n",
      " 'agriculture' 'agriculture' 'agriculture' 'agriculture' 'agriculture'\n",
      " 'agriculture' 'agriculture']' has dtype incompatible with float64, please explicitly cast to a compatible dtype first.\n",
      "  df_64[df_64[\"usage_agriculture\"] > 0] = df_64[df_64[\"usage_agriculture\"] > 0].fillna(\"agriculture\")\n",
      "C:\\Users\\NotOte\\AppData\\Local\\Temp\\ipykernel_26488\\614487288.py:3: FutureWarning: Downcasting object dtype arrays on .fillna, .ffill, .bfill is deprecated and will change in a future version. Call result.infer_objects(copy=False) instead. To opt-in to the future behavior, set `pd.set_option('future.no_silent_downcasting', True)`\n",
      "  df_64[df_64[\"usage_living\"] > 0] = df_64[df_64[\"usage_living\"] > 0].fillna(\"living\")\n",
      "C:\\Users\\NotOte\\AppData\\Local\\Temp\\ipykernel_26488\\614487288.py:4: FutureWarning: Downcasting object dtype arrays on .fillna, .ffill, .bfill is deprecated and will change in a future version. Call result.infer_objects(copy=False) instead. To opt-in to the future behavior, set `pd.set_option('future.no_silent_downcasting', True)`\n",
      "  df_64[df_64[\"usage_other\"] > 0] = df_64[df_64[\"usage_other\"] > 0].fillna(\"other\")\n",
      "C:\\Users\\NotOte\\AppData\\Local\\Temp\\ipykernel_26488\\614487288.py:5: FutureWarning: Downcasting object dtype arrays on .fillna, .ffill, .bfill is deprecated and will change in a future version. Call result.infer_objects(copy=False) instead. To opt-in to the future behavior, set `pd.set_option('future.no_silent_downcasting', True)`\n",
      "  df_64[df_64[\"usage_none\"] > 0] = df_64[df_64[\"usage_none\"] > 0].fillna(\"wasteland\")\n",
      "C:\\Users\\NotOte\\AppData\\Local\\Temp\\ipykernel_26488\\614487288.py:6: FutureWarning: Downcasting object dtype arrays on .fillna, .ffill, .bfill is deprecated and will change in a future version. Call result.infer_objects(copy=False) instead. To opt-in to the future behavior, set `pd.set_option('future.no_silent_downcasting', True)`\n",
      "  df_64[df_64[\"usage_misc\"] > 0] = df_64[df_64[\"usage_misc\"] > 0].fillna(\"misc\")\n"
     ]
    }
   ],
   "source": [
    "# จำแนกลักษณ์การทำประโยชน์จากพื้นที่ใช้งาน ('พื้นที่ประกอบเกษตรกรรม', 'พื้นที่อยู่อาศัย', 'พื้นที่อื่น ๆ', 'พื้นที่ว่างเปล่า', 'พื้นที่ใช้ประโยชน์หลายประเภท' และ 'ไม่ทราบลักษณะการใช้')\n",
    "df_64[df_64[\"usage_agriculture\"] > 0] = df_64[df_64[\"usage_agriculture\"] > 0].fillna(\"agriculture\")\n",
    "df_64[df_64[\"usage_living\"] > 0] = df_64[df_64[\"usage_living\"] > 0].fillna(\"living\")\n",
    "df_64[df_64[\"usage_other\"] > 0] = df_64[df_64[\"usage_other\"] > 0].fillna(\"other\")\n",
    "df_64[df_64[\"usage_none\"] > 0] = df_64[df_64[\"usage_none\"] > 0].fillna(\"wasteland\")\n",
    "df_64[df_64[\"usage_misc\"] > 0] = df_64[df_64[\"usage_misc\"] > 0].fillna(\"misc\")        \n",
    "df_64[\"type_of_usage\"] = df_64[\"type_of_usage\"].fillna(\"unknown\")"
   ]
  },
  {
   "cell_type": "code",
   "execution_count": 36,
   "id": "8c96086a",
   "metadata": {},
   "outputs": [
    {
     "data": {
      "text/html": [
       "<div>\n",
       "<style scoped>\n",
       "    .dataframe tbody tr th:only-of-type {\n",
       "        vertical-align: middle;\n",
       "    }\n",
       "\n",
       "    .dataframe tbody tr th {\n",
       "        vertical-align: top;\n",
       "    }\n",
       "\n",
       "    .dataframe thead th {\n",
       "        text-align: right;\n",
       "    }\n",
       "</style>\n",
       "<table border=\"1\" class=\"dataframe\">\n",
       "  <thead>\n",
       "    <tr style=\"text-align: right;\">\n",
       "      <th></th>\n",
       "      <th>location_id</th>\n",
       "      <th>type_of_usage</th>\n",
       "    </tr>\n",
       "  </thead>\n",
       "  <tbody>\n",
       "    <tr>\n",
       "      <th>0</th>\n",
       "      <td>01A002</td>\n",
       "      <td>living</td>\n",
       "    </tr>\n",
       "    <tr>\n",
       "      <th>1</th>\n",
       "      <td>01A003</td>\n",
       "      <td>living</td>\n",
       "    </tr>\n",
       "    <tr>\n",
       "      <th>2</th>\n",
       "      <td>01A003/001</td>\n",
       "      <td>living</td>\n",
       "    </tr>\n",
       "    <tr>\n",
       "      <th>3</th>\n",
       "      <td>01A003/002</td>\n",
       "      <td>living</td>\n",
       "    </tr>\n",
       "    <tr>\n",
       "      <th>4</th>\n",
       "      <td>01A004</td>\n",
       "      <td>misc</td>\n",
       "    </tr>\n",
       "    <tr>\n",
       "      <th>...</th>\n",
       "      <td>...</td>\n",
       "      <td>...</td>\n",
       "    </tr>\n",
       "    <tr>\n",
       "      <th>6501</th>\n",
       "      <td>06L022</td>\n",
       "      <td>living</td>\n",
       "    </tr>\n",
       "    <tr>\n",
       "      <th>6502</th>\n",
       "      <td>06L023</td>\n",
       "      <td>living</td>\n",
       "    </tr>\n",
       "    <tr>\n",
       "      <th>6503</th>\n",
       "      <td>06L023/001</td>\n",
       "      <td>misc</td>\n",
       "    </tr>\n",
       "    <tr>\n",
       "      <th>6504</th>\n",
       "      <td>06L024</td>\n",
       "      <td>wasteland</td>\n",
       "    </tr>\n",
       "    <tr>\n",
       "      <th>6505</th>\n",
       "      <td>06L025</td>\n",
       "      <td>wasteland</td>\n",
       "    </tr>\n",
       "  </tbody>\n",
       "</table>\n",
       "<p>6506 rows × 2 columns</p>\n",
       "</div>"
      ],
      "text/plain": [
       "     location_id type_of_usage\n",
       "0         01A002        living\n",
       "1         01A003        living\n",
       "2     01A003/001        living\n",
       "3     01A003/002        living\n",
       "4         01A004          misc\n",
       "...          ...           ...\n",
       "6501      06L022        living\n",
       "6502      06L023        living\n",
       "6503  06L023/001          misc\n",
       "6504      06L024     wasteland\n",
       "6505      06L025     wasteland\n",
       "\n",
       "[6506 rows x 2 columns]"
      ]
     },
     "execution_count": 36,
     "metadata": {},
     "output_type": "execute_result"
    }
   ],
   "source": [
    "# แสดงข้อมูลโดยจำแนกออกมาแค่ รหัสแปลงที่ดิน และ ลักษณะการใช้ประโยชน์\n",
    "# พื้นที่ประกอบเกษตรกรรม : agriculture, พื้นที่อยู่อาศัย : living, พื้นที่อื่น ๆ : other, \n",
    "# พื้นที่ว่างเปล่า : wasteland, พื้นที่ใช้ประโยชน์หลายประเภท : misc และ ไม่ทราบลักษณะการใช้ : unknown\n",
    "\n",
    "df_64[ ['location_id', 'type_of_usage'] ]"
   ]
  },
  {
   "cell_type": "markdown",
   "id": "b8c77423",
   "metadata": {},
   "source": [
    "## วิเคราะห์ข้อมูลและรายงานผล"
   ]
  },
  {
   "cell_type": "markdown",
   "id": "2a58966f",
   "metadata": {},
   "source": [
    "#### จากแบบบัญชีรายการที่ดิน เทศบาลเมืองลำพูน อำเภอเมือง จังหวัดลำพูน ในปี 2564 มีที่ดิน 6506 ที่"
   ]
  },
  {
   "cell_type": "code",
   "execution_count": 37,
   "id": "17771c6e",
   "metadata": {
    "scrolled": true
   },
   "outputs": [
    {
     "data": {
      "text/plain": [
       "6506"
      ]
     },
     "execution_count": 37,
     "metadata": {},
     "output_type": "execute_result"
    }
   ],
   "source": [
    "land = len(df_64) \n",
    "land"
   ]
  },
  {
   "cell_type": "markdown",
   "id": "f340e4ee",
   "metadata": {},
   "source": [
    "### ที่ดินสามารถจำแนกจากลักษณะการทำประโยชน์ 6 รายการ ได้แก่ ประกอบการเกษตร, ใช้เพื่ออยู่อาศัย, อื่น ๆ , ไม่ใช้ประโยชน์, ใช้ประโยชน์หลายประเภท และ ไม่ทราบลักษณะการใช้"
   ]
  },
  {
   "cell_type": "markdown",
   "id": "c966fa28",
   "metadata": {},
   "source": [
    "#### มีพื้นที่ประกอบเกษตรกรรม 392 พื้นที่ คิดเป็น 6.0252 เปอร์เซ็นของพื้นที่ทั้งหมดในอำเภอเมือง จังหวัดลำพูน"
   ]
  },
  {
   "cell_type": "code",
   "execution_count": 38,
   "id": "9b48cd36",
   "metadata": {
    "scrolled": true
   },
   "outputs": [
    {
     "data": {
      "text/plain": [
       "392"
      ]
     },
     "execution_count": 38,
     "metadata": {},
     "output_type": "execute_result"
    }
   ],
   "source": [
    "len(df_64[df_64[\"type_of_usage\"] == \"agriculture\"])"
   ]
  },
  {
   "cell_type": "code",
   "execution_count": 39,
   "id": "73552108",
   "metadata": {},
   "outputs": [
    {
     "data": {
      "text/plain": [
       "6.025207500768522"
      ]
     },
     "execution_count": 39,
     "metadata": {},
     "output_type": "execute_result"
    }
   ],
   "source": [
    "(len(df_64[df_64[\"type_of_usage\"] == \"agriculture\"]) / land) * 100  "
   ]
  },
  {
   "cell_type": "markdown",
   "id": "9db6c2dc",
   "metadata": {},
   "source": [
    "#### มีพื้นที่อยู่อาศัย 3596 พื้นที่ คิดเป็น 55.2720 เปอร์เซ็นของพื้นที่ทั้งหมดในอำเภอเมือง จังหวัดลำพูน "
   ]
  },
  {
   "cell_type": "code",
   "execution_count": 40,
   "id": "5a1be44a",
   "metadata": {},
   "outputs": [
    {
     "data": {
      "text/plain": [
       "3596"
      ]
     },
     "execution_count": 40,
     "metadata": {},
     "output_type": "execute_result"
    }
   ],
   "source": [
    "len(df_64[df_64[\"type_of_usage\"] == \"living\"]) "
   ]
  },
  {
   "cell_type": "code",
   "execution_count": 41,
   "id": "015d648a",
   "metadata": {
    "scrolled": false
   },
   "outputs": [
    {
     "data": {
      "text/plain": [
       "55.272056563172455"
      ]
     },
     "execution_count": 41,
     "metadata": {},
     "output_type": "execute_result"
    }
   ],
   "source": [
    "len(df_64[df_64[\"type_of_usage\"] == \"living\"]) / land * 100"
   ]
  },
  {
   "cell_type": "markdown",
   "id": "830a351d",
   "metadata": {},
   "source": [
    "#### มีพื้นที่อื่น ๆ 1176 พื้นที่ คิดเป็น 18.0756 เปอร์เซ็นของพื้นที่ทั้งหมดในอำเภอเมือง จังหวัดลำพูน"
   ]
  },
  {
   "cell_type": "code",
   "execution_count": 42,
   "id": "946d9056",
   "metadata": {},
   "outputs": [
    {
     "data": {
      "text/plain": [
       "1176"
      ]
     },
     "execution_count": 42,
     "metadata": {},
     "output_type": "execute_result"
    }
   ],
   "source": [
    "len(df_64[df_64[\"type_of_usage\"] == \"other\"])"
   ]
  },
  {
   "cell_type": "code",
   "execution_count": 43,
   "id": "2356fcdd",
   "metadata": {},
   "outputs": [
    {
     "data": {
      "text/plain": [
       "18.075622502305563"
      ]
     },
     "execution_count": 43,
     "metadata": {},
     "output_type": "execute_result"
    }
   ],
   "source": [
    "len(df_64[df_64[\"type_of_usage\"] == \"other\"]) / land * 100"
   ]
  },
  {
   "cell_type": "markdown",
   "id": "90e203a4",
   "metadata": {},
   "source": [
    "#### มีพื้นที่ว่างเปล่า/ไม่ทำประโยชน์ 706 พื้นที่ คิดเป็น 10.8515 เปอร์เซ็นของพื้นที่ทั้งหมดในอำเภอเมือง จังหวัดลำพูน"
   ]
  },
  {
   "cell_type": "code",
   "execution_count": 44,
   "id": "cd3bd9a8",
   "metadata": {},
   "outputs": [
    {
     "data": {
      "text/plain": [
       "706"
      ]
     },
     "execution_count": 44,
     "metadata": {},
     "output_type": "execute_result"
    }
   ],
   "source": [
    "len(df_64[df_64[\"type_of_usage\"] == \"wasteland\"])"
   ]
  },
  {
   "cell_type": "code",
   "execution_count": 45,
   "id": "6fca2306",
   "metadata": {},
   "outputs": [
    {
     "data": {
      "text/plain": [
       "10.851521672302491"
      ]
     },
     "execution_count": 45,
     "metadata": {},
     "output_type": "execute_result"
    }
   ],
   "source": [
    "len(df_64[df_64[\"type_of_usage\"] == \"wasteland\"]) / land * 100"
   ]
  },
  {
   "cell_type": "markdown",
   "id": "445e06a2",
   "metadata": {},
   "source": [
    "#### และมีพื้นที่ใช้ประโยชน์หลายประเภท 492 พื้นที่ คิดเป็น 7.5623 เปอร์เซ็นของพื้นที่ทั้งหมดในอำเภอเมือง จังหวัดลำพูน"
   ]
  },
  {
   "cell_type": "code",
   "execution_count": 46,
   "id": "78231bbf",
   "metadata": {},
   "outputs": [
    {
     "data": {
      "text/plain": [
       "492"
      ]
     },
     "execution_count": 46,
     "metadata": {},
     "output_type": "execute_result"
    }
   ],
   "source": [
    "len(df_64[df_64[\"type_of_usage\"] == \"misc\"])"
   ]
  },
  {
   "cell_type": "code",
   "execution_count": 47,
   "id": "565ea756",
   "metadata": {
    "scrolled": false
   },
   "outputs": [
    {
     "data": {
      "text/plain": [
       "7.562250230556409"
      ]
     },
     "execution_count": 47,
     "metadata": {},
     "output_type": "execute_result"
    }
   ],
   "source": [
    "len(df_64[df_64[\"type_of_usage\"] == \"misc\"]) / land * 100"
   ]
  },
  {
   "cell_type": "markdown",
   "id": "30a87b5c",
   "metadata": {},
   "source": [
    "#### และมีพื้นที่ไม่ทราบลักษณะการใช้ 144 พื้นที่ คิดเป็น 2.2133 เปอร์เซ็นของพื้นที่ทั้งหมดในอำเภอเมือง จังหวัดลำพูน"
   ]
  },
  {
   "cell_type": "code",
   "execution_count": 48,
   "id": "24f76194",
   "metadata": {},
   "outputs": [
    {
     "data": {
      "text/plain": [
       "144"
      ]
     },
     "execution_count": 48,
     "metadata": {},
     "output_type": "execute_result"
    }
   ],
   "source": [
    "len(df_64[df_64[\"type_of_usage\"] == \"unknown\"])"
   ]
  },
  {
   "cell_type": "code",
   "execution_count": 49,
   "id": "e10249bd",
   "metadata": {},
   "outputs": [
    {
     "data": {
      "text/plain": [
       "2.2133415308945588"
      ]
     },
     "execution_count": 49,
     "metadata": {},
     "output_type": "execute_result"
    }
   ],
   "source": [
    "len(df_64[df_64[\"type_of_usage\"] == \"unknown\"]) / land * 100"
   ]
  },
  {
   "cell_type": "markdown",
   "id": "ce3527d5",
   "metadata": {},
   "source": [
    "#### จากข้อมูลข้างต้น สามารถนำมาแสดงเป็นแผนภาพได้ดังนี้"
   ]
  },
  {
   "cell_type": "code",
   "execution_count": 50,
   "id": "756bd0d3",
   "metadata": {
    "scrolled": true
   },
   "outputs": [
    {
     "data": {
      "image/png": "[encoded data removed]",
      "text/plain": [
       "<Figure size 640x480 with 1 Axes>"
      ]
     },
     "metadata": {},
     "output_type": "display_data"
    }
   ],
   "source": [
    "from matplotlib import pyplot as plt\n",
    "from matplotlib.font_manager import FontProperties\n",
    "\n",
    "plt.rcParams[\"font.family\"] = \"Cordia New\"\n",
    "plt.rcParams[\"font.serif\"] = \"Cordia New\"\n",
    "\n",
    "# สร้างกราฟ\n",
    "data = [ len(df_64[df_64[\"type_of_usage\"] == \"agriculture\"]),\n",
    "         len(df_64[df_64[\"type_of_usage\"] == \"living\"]), \n",
    "         len(df_64[df_64[\"type_of_usage\"] == \"other\"]), \n",
    "         len(df_64[df_64[\"type_of_usage\"] == \"wasteland\"]), \n",
    "         len(df_64[df_64[\"type_of_usage\"] == \"misc\"]),\n",
    "         len(df_64[df_64[\"type_of_usage\"] == \"unknown\"])\n",
    "       ]\n",
    "labels = ['ประกอบเกษตรกรรม','อยู่อาศัย ','อื่น ๆ','ว่างเปล่า/ไม่ทำประโยชน์','ใช้ประโยชน์หลากหลาย', 'ไม่ทราบลักษณะการใช้'] \n",
    "\n",
    "plt.pie(data, labels=labels, autopct='%1.1f%%')\n",
    "plt.show()"
   ]
  },
  {
   "cell_type": "markdown",
   "id": "3029d508",
   "metadata": {},
   "source": [
    "##  ข้อมูลเฉพาะลักษณะการใช้ประโยชน์แบบประกอบเกษตรกรรม"
   ]
  },
  {
   "cell_type": "markdown",
   "id": "1e191367",
   "metadata": {},
   "source": [
    "#### ดูข้อมูลทั้งหมด"
   ]
  },
  {
   "cell_type": "code",
   "execution_count": 51,
   "id": "1181abad",
   "metadata": {
    "scrolled": true
   },
   "outputs": [
    {
     "data": {
      "text/html": [
       "<div>\n",
       "<style scoped>\n",
       "    .dataframe tbody tr th:only-of-type {\n",
       "        vertical-align: middle;\n",
       "    }\n",
       "\n",
       "    .dataframe tbody tr th {\n",
       "        vertical-align: top;\n",
       "    }\n",
       "\n",
       "    .dataframe thead th {\n",
       "        text-align: right;\n",
       "    }\n",
       "</style>\n",
       "<table border=\"1\" class=\"dataframe\">\n",
       "  <thead>\n",
       "    <tr style=\"text-align: right;\">\n",
       "      <th></th>\n",
       "      <th>order</th>\n",
       "      <th>type</th>\n",
       "      <th>document_number</th>\n",
       "      <th>pracel_number</th>\n",
       "      <th>sub_district_no</th>\n",
       "      <th>location_id</th>\n",
       "      <th>rai</th>\n",
       "      <th>ngan</th>\n",
       "      <th>tarang_wa</th>\n",
       "      <th>usage_agriculture</th>\n",
       "      <th>usage_living</th>\n",
       "      <th>usage_other</th>\n",
       "      <th>usage_none</th>\n",
       "      <th>usage_misc</th>\n",
       "      <th>type_of_usage</th>\n",
       "    </tr>\n",
       "  </thead>\n",
       "  <tbody>\n",
       "    <tr>\n",
       "      <th>5</th>\n",
       "      <td>6</td>\n",
       "      <td>โฉนด</td>\n",
       "      <td>1758</td>\n",
       "      <td>1389</td>\n",
       "      <td>1438.0</td>\n",
       "      <td>01A005</td>\n",
       "      <td>2.0</td>\n",
       "      <td>1.0</td>\n",
       "      <td>8.7</td>\n",
       "      <td>908.7</td>\n",
       "      <td>0.0</td>\n",
       "      <td>0.0</td>\n",
       "      <td>0.0</td>\n",
       "      <td>0.0</td>\n",
       "      <td>agriculture</td>\n",
       "    </tr>\n",
       "    <tr>\n",
       "      <th>49</th>\n",
       "      <td>50</td>\n",
       "      <td>โฉนด</td>\n",
       "      <td>1372</td>\n",
       "      <td>1433</td>\n",
       "      <td>5392.0</td>\n",
       "      <td>01A033</td>\n",
       "      <td>0.0</td>\n",
       "      <td>0.0</td>\n",
       "      <td>84.8</td>\n",
       "      <td>84.8</td>\n",
       "      <td>0.0</td>\n",
       "      <td>0.0</td>\n",
       "      <td>0.0</td>\n",
       "      <td>0.0</td>\n",
       "      <td>agriculture</td>\n",
       "    </tr>\n",
       "    <tr>\n",
       "      <th>70</th>\n",
       "      <td>71</td>\n",
       "      <td>โฉนด</td>\n",
       "      <td>72196</td>\n",
       "      <td>1411</td>\n",
       "      <td>-</td>\n",
       "      <td>01A044/002</td>\n",
       "      <td>0.0</td>\n",
       "      <td>0.0</td>\n",
       "      <td>84.1</td>\n",
       "      <td>84.1</td>\n",
       "      <td>0.0</td>\n",
       "      <td>0.0</td>\n",
       "      <td>0.0</td>\n",
       "      <td>0.0</td>\n",
       "      <td>agriculture</td>\n",
       "    </tr>\n",
       "    <tr>\n",
       "      <th>95</th>\n",
       "      <td>96</td>\n",
       "      <td>โฉนด</td>\n",
       "      <td>112915</td>\n",
       "      <td>26</td>\n",
       "      <td>5057.0</td>\n",
       "      <td>01B010/002</td>\n",
       "      <td>0.0</td>\n",
       "      <td>0.0</td>\n",
       "      <td>6.1</td>\n",
       "      <td>6.1</td>\n",
       "      <td>0.0</td>\n",
       "      <td>0.0</td>\n",
       "      <td>0.0</td>\n",
       "      <td>0.0</td>\n",
       "      <td>agriculture</td>\n",
       "    </tr>\n",
       "    <tr>\n",
       "      <th>121</th>\n",
       "      <td>122</td>\n",
       "      <td>โฉนด</td>\n",
       "      <td>2313</td>\n",
       "      <td>292</td>\n",
       "      <td>1397.0</td>\n",
       "      <td>01B033</td>\n",
       "      <td>0.0</td>\n",
       "      <td>0.0</td>\n",
       "      <td>67.1</td>\n",
       "      <td>67.1</td>\n",
       "      <td>0.0</td>\n",
       "      <td>0.0</td>\n",
       "      <td>0.0</td>\n",
       "      <td>0.0</td>\n",
       "      <td>agriculture</td>\n",
       "    </tr>\n",
       "    <tr>\n",
       "      <th>...</th>\n",
       "      <td>...</td>\n",
       "      <td>...</td>\n",
       "      <td>...</td>\n",
       "      <td>...</td>\n",
       "      <td>...</td>\n",
       "      <td>...</td>\n",
       "      <td>...</td>\n",
       "      <td>...</td>\n",
       "      <td>...</td>\n",
       "      <td>...</td>\n",
       "      <td>...</td>\n",
       "      <td>...</td>\n",
       "      <td>...</td>\n",
       "      <td>...</td>\n",
       "      <td>...</td>\n",
       "    </tr>\n",
       "    <tr>\n",
       "      <th>6398</th>\n",
       "      <td>6482</td>\n",
       "      <td>โฉนด</td>\n",
       "      <td>130392</td>\n",
       "      <td>2762</td>\n",
       "      <td>5490.0</td>\n",
       "      <td>06K001/014</td>\n",
       "      <td>0.0</td>\n",
       "      <td>1.0</td>\n",
       "      <td>43.5</td>\n",
       "      <td>143.5</td>\n",
       "      <td>0.0</td>\n",
       "      <td>0.0</td>\n",
       "      <td>0.0</td>\n",
       "      <td>0.0</td>\n",
       "      <td>agriculture</td>\n",
       "    </tr>\n",
       "    <tr>\n",
       "      <th>6436</th>\n",
       "      <td>6520</td>\n",
       "      <td>โฉนด</td>\n",
       "      <td>134218</td>\n",
       "      <td>2117</td>\n",
       "      <td>5969.0</td>\n",
       "      <td>06K011/001</td>\n",
       "      <td>0.0</td>\n",
       "      <td>0.0</td>\n",
       "      <td>81.0</td>\n",
       "      <td>81.0</td>\n",
       "      <td>0.0</td>\n",
       "      <td>0.0</td>\n",
       "      <td>0.0</td>\n",
       "      <td>0.0</td>\n",
       "      <td>agriculture</td>\n",
       "    </tr>\n",
       "    <tr>\n",
       "      <th>6462</th>\n",
       "      <td>6546</td>\n",
       "      <td>โฉนด</td>\n",
       "      <td>24540</td>\n",
       "      <td>2281</td>\n",
       "      <td>3282.0</td>\n",
       "      <td>06K017</td>\n",
       "      <td>0.0</td>\n",
       "      <td>1.0</td>\n",
       "      <td>96.5</td>\n",
       "      <td>196.5</td>\n",
       "      <td>0.0</td>\n",
       "      <td>0.0</td>\n",
       "      <td>0.0</td>\n",
       "      <td>0.0</td>\n",
       "      <td>agriculture</td>\n",
       "    </tr>\n",
       "    <tr>\n",
       "      <th>6463</th>\n",
       "      <td>6547</td>\n",
       "      <td>โฉนด</td>\n",
       "      <td>24539</td>\n",
       "      <td>2280</td>\n",
       "      <td>3281.0</td>\n",
       "      <td>06K018</td>\n",
       "      <td>0.0</td>\n",
       "      <td>3.0</td>\n",
       "      <td>93.1</td>\n",
       "      <td>393.1</td>\n",
       "      <td>0.0</td>\n",
       "      <td>0.0</td>\n",
       "      <td>0.0</td>\n",
       "      <td>0.0</td>\n",
       "      <td>agriculture</td>\n",
       "    </tr>\n",
       "    <tr>\n",
       "      <th>6498</th>\n",
       "      <td>6582</td>\n",
       "      <td>โฉนด</td>\n",
       "      <td>29084</td>\n",
       "      <td>2287</td>\n",
       "      <td>3564.0</td>\n",
       "      <td>06L020</td>\n",
       "      <td>1.0</td>\n",
       "      <td>0.0</td>\n",
       "      <td>36.1</td>\n",
       "      <td>436.1</td>\n",
       "      <td>0.0</td>\n",
       "      <td>0.0</td>\n",
       "      <td>0.0</td>\n",
       "      <td>0.0</td>\n",
       "      <td>agriculture</td>\n",
       "    </tr>\n",
       "  </tbody>\n",
       "</table>\n",
       "<p>392 rows × 15 columns</p>\n",
       "</div>"
      ],
      "text/plain": [
       "      order  type document_number pracel_number sub_district_no location_id  \\\n",
       "5         6  โฉนด            1758          1389          1438.0      01A005   \n",
       "49       50  โฉนด            1372          1433          5392.0      01A033   \n",
       "70       71  โฉนด           72196          1411               -  01A044/002   \n",
       "95       96  โฉนด          112915            26          5057.0  01B010/002   \n",
       "121     122  โฉนด            2313           292          1397.0      01B033   \n",
       "...     ...   ...             ...           ...             ...         ...   \n",
       "6398   6482  โฉนด          130392          2762          5490.0  06K001/014   \n",
       "6436   6520  โฉนด          134218          2117          5969.0  06K011/001   \n",
       "6462   6546  โฉนด           24540          2281          3282.0      06K017   \n",
       "6463   6547  โฉนด           24539          2280          3281.0      06K018   \n",
       "6498   6582  โฉนด           29084          2287          3564.0      06L020   \n",
       "\n",
       "      rai ngan tarang_wa usage_agriculture usage_living usage_other  \\\n",
       "5     2.0  1.0       8.7             908.7          0.0         0.0   \n",
       "49    0.0  0.0      84.8              84.8          0.0         0.0   \n",
       "70    0.0  0.0      84.1              84.1          0.0         0.0   \n",
       "95    0.0  0.0       6.1               6.1          0.0         0.0   \n",
       "121   0.0  0.0      67.1              67.1          0.0         0.0   \n",
       "...   ...  ...       ...               ...          ...         ...   \n",
       "6398  0.0  1.0      43.5             143.5          0.0         0.0   \n",
       "6436  0.0  0.0      81.0              81.0          0.0         0.0   \n",
       "6462  0.0  1.0      96.5             196.5          0.0         0.0   \n",
       "6463  0.0  3.0      93.1             393.1          0.0         0.0   \n",
       "6498  1.0  0.0      36.1             436.1          0.0         0.0   \n",
       "\n",
       "     usage_none usage_misc type_of_usage  \n",
       "5           0.0        0.0   agriculture  \n",
       "49          0.0        0.0   agriculture  \n",
       "70          0.0        0.0   agriculture  \n",
       "95          0.0        0.0   agriculture  \n",
       "121         0.0        0.0   agriculture  \n",
       "...         ...        ...           ...  \n",
       "6398        0.0        0.0   agriculture  \n",
       "6436        0.0        0.0   agriculture  \n",
       "6462        0.0        0.0   agriculture  \n",
       "6463        0.0        0.0   agriculture  \n",
       "6498        0.0        0.0   agriculture  \n",
       "\n",
       "[392 rows x 15 columns]"
      ]
     },
     "execution_count": 51,
     "metadata": {},
     "output_type": "execute_result"
    }
   ],
   "source": [
    "df_64[\"type\"] = df_64[\"type\"].replace(\"-\", \"ไม่ระบุ\")\n",
    "agricultrue_land = df_64[df_64[\"type_of_usage\"] == \"agriculture\"]\n",
    "agricultrue_land"
   ]
  },
  {
   "cell_type": "markdown",
   "id": "fcde592a",
   "metadata": {},
   "source": [
    "#### จำนวนที่ดินที่ประกอบเกษตรกรรม"
   ]
  },
  {
   "cell_type": "code",
   "execution_count": 52,
   "id": "4caa22b9",
   "metadata": {},
   "outputs": [
    {
     "data": {
      "text/plain": [
       "392"
      ]
     },
     "execution_count": 52,
     "metadata": {},
     "output_type": "execute_result"
    }
   ],
   "source": [
    "len(agricultrue_land) # 389 ที่"
   ]
  },
  {
   "cell_type": "markdown",
   "id": "c29a2011",
   "metadata": {},
   "source": [
    "#### ดูข้อมูลทั้งหมดจำแนกแยกด้วยประเภท"
   ]
  },
  {
   "cell_type": "code",
   "execution_count": 53,
   "id": "3b30c5c2",
   "metadata": {},
   "outputs": [
    {
     "data": {
      "text/plain": [
       "type\n",
       "ที่ราชพัสดุ      13\n",
       "น.ส.3            13\n",
       "น.ส.ล.            6\n",
       "โฉนด           6382\n",
       "ไม่ระบุ          92\n",
       "dtype: int64"
      ]
     },
     "execution_count": 53,
     "metadata": {},
     "output_type": "execute_result"
    }
   ],
   "source": [
    "df_64.groupby('type').size()"
   ]
  },
  {
   "cell_type": "code",
   "execution_count": 54,
   "id": "8210eaf0",
   "metadata": {},
   "outputs": [
    {
     "data": {
      "text/plain": [
       "type\n",
       "โฉนด    392\n",
       "dtype: int64"
      ]
     },
     "execution_count": 54,
     "metadata": {},
     "output_type": "execute_result"
    }
   ],
   "source": [
    "agricultrue_land.groupby('type').size()\n",
    "\n",
    "# โฉนด 392 ที่"
   ]
  },
  {
   "cell_type": "markdown",
   "id": "ae51c63c",
   "metadata": {},
   "source": [
    "#### สามารถดาวน์โหลดไฟล์ csv โดยการนำ '#' ออกและกดรันโปรแกรม"
   ]
  },
  {
   "cell_type": "code",
   "execution_count": 55,
   "id": "fd5f5daa",
   "metadata": {},
   "outputs": [],
   "source": [
    "# df_64.to_csv('target/data2564.csv', index=False)"
   ]
  },
  {
   "cell_type": "code",
   "execution_count": 56,
   "id": "da87872c",
   "metadata": {},
   "outputs": [],
   "source": [
    "df_64.iloc[:, 8:] = df_64.iloc[:, 8:].replace(0,'-')\n",
    "df_64.iloc[:, -1] = df_64.iloc[:, -1].replace(\"agriculture\", \"ประกอบเกษตรกรรม\")\n",
    "df_64.iloc[:, -1] = df_64.iloc[:, -1].replace(\"living\", \"อยู่อาศัย\")\n",
    "df_64.iloc[:, -1] = df_64.iloc[:, -1].replace(\"other\", \"อื่น ๆ\")\n",
    "df_64.iloc[:, -1] = df_64.iloc[:, -1].replace(\"wasteland\", \"ว่างเปล่า/ไม่ทำประโยชน์\")\n",
    "df_64.iloc[:, -1] = df_64.iloc[:, -1].replace(\"misc\", \"ใช้ประโยชน์หลากหลาย\")\n",
    "df_64.iloc[:, -1] = df_64.iloc[:, -1].replace(\"unknown\", \"ไม่ทราบลักษณะการใช้ \")"
   ]
  },
  {
   "cell_type": "code",
   "execution_count": 57,
   "id": "25f394f8",
   "metadata": {},
   "outputs": [],
   "source": [
    "df_64 = df_64.rename(columns={\n",
    "                    \"order\": \"ที่\", \n",
    "                    \"type\": \"ประเภทที่ดิน\", \n",
    "                    \"document_number\": \"เลขที่เอกสารสิทธิ์\",\n",
    "                    \"pracel_number\": \"เลขที่ดิน\",\n",
    "                    \"sub_district_no\" : \"หน้าสำรวจ\",\n",
    "                    \"location_id\" : \"รหัสแปลงที่ดิน\",\n",
    "                    \"rai\" : \"ไร่\",\n",
    "                    \"ngan\" : \"งาน\",\n",
    "                    \"tarang_wa\" : \"ตร.ว.\",\n",
    "                    \"usage_agriculture\" : \"ประกอบเกษตรกรรม (ตร.ว.)\",\n",
    "                    \"usage_living\" : \"อยู่อาศัย (ตร.ว.)\",\n",
    "                    \"usage_other\" : \"อื่น ๆ (ตร.ว.)\",\n",
    "                    \"usage_none\" : \"ว่างเปล่า/ไม่ทำประโยชน์ (ตร.ว.)\",\n",
    "                    \"usage_misc\" : \"ใช้ประโยชน์หลากหลาย (ตร.ว.)\",\n",
    "                    \"type_of_usage\" : \"ลักษณะการทำประโยชน์\"\n",
    "                    }, errors=\"raise\")"
   ]
  },
  {
   "cell_type": "markdown",
   "id": "b6674951",
   "metadata": {},
   "source": [
    "#### สามารถดาวน์โหลดไฟล์ csv (เฉพาะพื้นที่เกษตรกรรม) โดยการนำ '#' ออกและกดรันโปรแกรม"
   ]
  },
  {
   "cell_type": "code",
   "execution_count": 58,
   "id": "c081ff0a",
   "metadata": {},
   "outputs": [],
   "source": [
    "df_64[df_64[\"ลักษณะการทำประโยชน์\"] == \"ประกอบเกษตรกรรม\"].to_csv('../result/พื้นที่ประกอบเกษตรกรรม/2564/พื้นที่ประกอบเกษตรกรรม2564.csv', index=False)"
   ]
  },
  {
   "cell_type": "markdown",
   "id": "c4a7d8bb",
   "metadata": {},
   "source": [
    "#### สามารถดาวน์โหลดไฟล์ excel โดยการนำ '#' ออกและกดรันโปรแกรม"
   ]
  },
  {
   "cell_type": "code",
   "execution_count": 59,
   "id": "a92c36b1",
   "metadata": {},
   "outputs": [],
   "source": [
    "df_64[df_64[\"ลักษณะการทำประโยชน์\"] == \"ประกอบเกษตรกรรม\"].to_excel('../result/พื้นที่ประกอบเกษตรกรรม/2564/พื้นที่ประกอบเกษตรกรรม2564.xlsx', index=False)"
   ]
  },
  {
   "cell_type": "markdown",
   "id": "d2ee2e20",
   "metadata": {},
   "source": [
    "#### สามารถดาวน์โหลดไฟล์ csv (เฉพาะพื้นที่รกร้าง) โดยการนำ '#' ออกและกดรันโปรแกรม"
   ]
  },
  {
   "cell_type": "code",
   "execution_count": 60,
   "id": "4ddadcd6",
   "metadata": {},
   "outputs": [],
   "source": [
    "df_64[df_64[\"ลักษณะการทำประโยชน์\"] == \"ว่างเปล่า/ไม่ทำประโยชน์\"].to_csv('../result/พื้นที่ประกอบเกษตรกรรม/2564/พื้นที่รกร้าง2564.csv', index=False)"
   ]
  },
  {
   "cell_type": "markdown",
   "id": "54f6e67a",
   "metadata": {},
   "source": [
    "#### สามารถดาวน์โหลดไฟล์ excel (เฉพาะพื้นที่รกร้าง) โดยการนำ '#' ออกและกดรันโปรแกรม"
   ]
  },
  {
   "cell_type": "code",
   "execution_count": 61,
   "id": "321d951b",
   "metadata": {},
   "outputs": [],
   "source": [
    "df_64[df_64[\"ลักษณะการทำประโยชน์\"] == \"ว่างเปล่า/ไม่ทำประโยชน์\"].to_excel('../result/พื้นที่ประกอบเกษตรกรรม/2564/พื้นที่รกร้าง2564.xlsx', index=False)"
   ]
  },
  {
   "cell_type": "markdown",
   "id": "a8fa1137",
   "metadata": {},
   "source": [
    "---"
   ]
  },
  {
   "cell_type": "code",
   "execution_count": 62,
   "id": "f6db8ac7",
   "metadata": {},
   "outputs": [
    {
     "data": {
      "image/png": "[encoded data removed]",
      "text/plain": [
       "<Figure size 640x480 with 1 Axes>"
      ]
     },
     "metadata": {},
     "output_type": "display_data"
    }
   ],
   "source": [
    "value_counts = df_64[\"ลักษณะการทำประโยชน์\"].value_counts() \n",
    "value_counts.plot(kind=\"bar\")\n",
    "plt.title(\"การใช้ที่ดิน 2564\")\n",
    "plt.xlabel(\"ลักษณะการทำประโยชน์\")\n",
    "plt.ylabel(\"จำนวนที่ดิน\")\n",
    "plt.show()"
   ]
  }
 ],
 "metadata": {
  "kernelspec": {
   "display_name": "Python 3 (ipykernel)",
   "language": "python",
   "name": "python3"
  },
  "language_info": {
   "codemirror_mode": {
    "name": "ipython",
    "version": 3
   },
   "file_extension": ".py",
   "mimetype": "text/x-python",
   "name": "python",
   "nbconvert_exporter": "python",
   "pygments_lexer": "ipython3",
   "version": "3.9.5"
  }
 },
 "nbformat": 4,
 "nbformat_minor": 5
}
