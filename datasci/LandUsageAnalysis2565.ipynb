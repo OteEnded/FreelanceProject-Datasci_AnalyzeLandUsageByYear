{
 "cells": [
  {
   "cell_type": "markdown",
   "id": "a479e1cd",
   "metadata": {},
   "source": [
    "## เตรียมข้อมูลก่อนนำไปวิเคราะห์"
   ]
  },
  {
   "cell_type": "markdown",
   "id": "40512466",
   "metadata": {},
   "source": [
    "### แบบบัญชีรายการที่ดิน เทศบาลเมืองลำพูน อำเภอ เมืองลำพูน จังหวัด ลำพูน"
   ]
  },
  {
   "cell_type": "markdown",
   "id": "3135eca3",
   "metadata": {},
   "source": [
    "#### เปิดไฟล์และทำความสะอาดข้อมูล"
   ]
  },
  {
   "cell_type": "code",
   "execution_count": 31,
   "id": "b279daef",
   "metadata": {},
   "outputs": [],
   "source": [
    "import pandas as pd\n",
    "import numpy as np\n",
    "from matplotlib import pyplot as plt"
   ]
  },
  {
   "cell_type": "code",
   "execution_count": 32,
   "id": "0369b974",
   "metadata": {
    "scrolled": true
   },
   "outputs": [
    {
     "name": "stderr",
     "output_type": "stream",
     "text": [
      "C:\\Users\\NotOte\\AppData\\Local\\Temp\\ipykernel_11776\\2153379953.py:6: FutureWarning: Setting an item of incompatible dtype is deprecated and will raise in a future error of pandas. Value '0       0\n",
      "1       0\n",
      "2       0\n",
      "3       0\n",
      "4       0\n",
      "       ..\n",
      "5813    0\n",
      "5814    0\n",
      "5815    0\n",
      "5816    0\n",
      "5817    0\n",
      "Name: usage_agriculture, Length: 5818, dtype: object' has dtype incompatible with float64, please explicitly cast to a compatible dtype first.\n",
      "  df_65.iloc[:, 8:] = df_65.iloc[:, 8:].fillna(\"0\")\n",
      "C:\\Users\\NotOte\\AppData\\Local\\Temp\\ipykernel_11776\\2153379953.py:6: FutureWarning: Setting an item of incompatible dtype is deprecated and will raise in a future error of pandas. Value '0       45.0\n",
      "1          0\n",
      "2          0\n",
      "3          0\n",
      "4          0\n",
      "        ... \n",
      "5813    17.0\n",
      "5814       0\n",
      "5815       0\n",
      "5816    17.0\n",
      "5817       0\n",
      "Name: usage_living, Length: 5818, dtype: object' has dtype incompatible with float64, please explicitly cast to a compatible dtype first.\n",
      "  df_65.iloc[:, 8:] = df_65.iloc[:, 8:].fillna(\"0\")\n",
      "C:\\Users\\NotOte\\AppData\\Local\\Temp\\ipykernel_11776\\2153379953.py:6: FutureWarning: Setting an item of incompatible dtype is deprecated and will raise in a future error of pandas. Value '0       0\n",
      "1       0\n",
      "2       0\n",
      "3       0\n",
      "4       0\n",
      "       ..\n",
      "5813    0\n",
      "5814    0\n",
      "5815    0\n",
      "5816    0\n",
      "5817    0\n",
      "Name: usage_other, Length: 5818, dtype: object' has dtype incompatible with float64, please explicitly cast to a compatible dtype first.\n",
      "  df_65.iloc[:, 8:] = df_65.iloc[:, 8:].fillna(\"0\")\n",
      "C:\\Users\\NotOte\\AppData\\Local\\Temp\\ipykernel_11776\\2153379953.py:6: FutureWarning: Setting an item of incompatible dtype is deprecated and will raise in a future error of pandas. Value '0       0\n",
      "1       0\n",
      "2       0\n",
      "3       0\n",
      "4       0\n",
      "       ..\n",
      "5813    0\n",
      "5814    0\n",
      "5815    0\n",
      "5816    0\n",
      "5817    0\n",
      "Name: usage_none, Length: 5818, dtype: object' has dtype incompatible with float64, please explicitly cast to a compatible dtype first.\n",
      "  df_65.iloc[:, 8:] = df_65.iloc[:, 8:].fillna(\"0\")\n",
      "C:\\Users\\NotOte\\AppData\\Local\\Temp\\ipykernel_11776\\2153379953.py:6: FutureWarning: Setting an item of incompatible dtype is deprecated and will raise in a future error of pandas. Value '0          0\n",
      "1          0\n",
      "2          0\n",
      "3          0\n",
      "4          0\n",
      "        ... \n",
      "5813       0\n",
      "5814    17.0\n",
      "5815    17.0\n",
      "5816       0\n",
      "5817    17.0\n",
      "Name: usage_misc, Length: 5818, dtype: object' has dtype incompatible with float64, please explicitly cast to a compatible dtype first.\n",
      "  df_65.iloc[:, 8:] = df_65.iloc[:, 8:].fillna(\"0\")\n"
     ]
    }
   ],
   "source": [
    "# เปิดไฟล์ csv\n",
    "df_65 = pd.read_csv(\"dataset/2565.csv\")\n",
    "\n",
    "\n",
    "# เติมค่าว่างตั้งแต่หลักที่ 8 ให้เป็น 0\n",
    "df_65.iloc[:, 8:] = df_65.iloc[:, 8:].fillna(\"0\")  \n",
    "\n",
    "# เติมค่าว่างให้เป็น -\n",
    "df_65 = df_65.fillna(\"-\")  \n",
    "\n",
    "# แปลงประเภทของข้อมูลให้เป็นตัวเลข\n",
    "df_65.iloc[:, 8:] = df_65.iloc[:, 8:].astype(float) "
   ]
  },
  {
   "cell_type": "code",
   "execution_count": 33,
   "id": "7948f5ce",
   "metadata": {},
   "outputs": [
    {
     "data": {
      "text/html": [
       "<div>\n",
       "<style scoped>\n",
       "    .dataframe tbody tr th:only-of-type {\n",
       "        vertical-align: middle;\n",
       "    }\n",
       "\n",
       "    .dataframe tbody tr th {\n",
       "        vertical-align: top;\n",
       "    }\n",
       "\n",
       "    .dataframe thead th {\n",
       "        text-align: right;\n",
       "    }\n",
       "</style>\n",
       "<table border=\"1\" class=\"dataframe\">\n",
       "  <thead>\n",
       "    <tr style=\"text-align: right;\">\n",
       "      <th></th>\n",
       "      <th>order</th>\n",
       "      <th>type</th>\n",
       "      <th>document_number</th>\n",
       "      <th>parcel_number</th>\n",
       "      <th>sub_district_no</th>\n",
       "      <th>location_id</th>\n",
       "      <th>rai</th>\n",
       "      <th>ngan</th>\n",
       "      <th>tarang_wa</th>\n",
       "      <th>usage_agriculture</th>\n",
       "      <th>usage_living</th>\n",
       "      <th>usage_other</th>\n",
       "      <th>usage_none</th>\n",
       "      <th>usage_misc</th>\n",
       "    </tr>\n",
       "  </thead>\n",
       "  <tbody>\n",
       "    <tr>\n",
       "      <th>0</th>\n",
       "      <td>1</td>\n",
       "      <td>โฉนด</td>\n",
       "      <td>-</td>\n",
       "      <td>-</td>\n",
       "      <td>1548</td>\n",
       "      <td>03E003</td>\n",
       "      <td>0</td>\n",
       "      <td>0</td>\n",
       "      <td>45.0</td>\n",
       "      <td>0.0</td>\n",
       "      <td>45.0</td>\n",
       "      <td>0.0</td>\n",
       "      <td>0.0</td>\n",
       "      <td>0.0</td>\n",
       "    </tr>\n",
       "    <tr>\n",
       "      <th>1</th>\n",
       "      <td>2</td>\n",
       "      <td>อื่น ๆ</td>\n",
       "      <td>-</td>\n",
       "      <td>-</td>\n",
       "      <td>-</td>\n",
       "      <td>05K001</td>\n",
       "      <td>9</td>\n",
       "      <td>3</td>\n",
       "      <td>26.4</td>\n",
       "      <td>0.0</td>\n",
       "      <td>0.0</td>\n",
       "      <td>0.0</td>\n",
       "      <td>0.0</td>\n",
       "      <td>0.0</td>\n",
       "    </tr>\n",
       "    <tr>\n",
       "      <th>2</th>\n",
       "      <td>3</td>\n",
       "      <td>-</td>\n",
       "      <td>-</td>\n",
       "      <td>24</td>\n",
       "      <td>1691</td>\n",
       "      <td>05K002</td>\n",
       "      <td>0</td>\n",
       "      <td>0</td>\n",
       "      <td>0.0</td>\n",
       "      <td>0.0</td>\n",
       "      <td>0.0</td>\n",
       "      <td>0.0</td>\n",
       "      <td>0.0</td>\n",
       "      <td>0.0</td>\n",
       "    </tr>\n",
       "    <tr>\n",
       "      <th>3</th>\n",
       "      <td>4</td>\n",
       "      <td>อื่น ๆ</td>\n",
       "      <td>-</td>\n",
       "      <td>-</td>\n",
       "      <td>-</td>\n",
       "      <td>05K003</td>\n",
       "      <td>3</td>\n",
       "      <td>0</td>\n",
       "      <td>93.5</td>\n",
       "      <td>0.0</td>\n",
       "      <td>0.0</td>\n",
       "      <td>0.0</td>\n",
       "      <td>0.0</td>\n",
       "      <td>0.0</td>\n",
       "    </tr>\n",
       "    <tr>\n",
       "      <th>4</th>\n",
       "      <td>5</td>\n",
       "      <td>-</td>\n",
       "      <td>-</td>\n",
       "      <td>-</td>\n",
       "      <td>-</td>\n",
       "      <td>04A103</td>\n",
       "      <td>0</td>\n",
       "      <td>0</td>\n",
       "      <td>0.0</td>\n",
       "      <td>0.0</td>\n",
       "      <td>0.0</td>\n",
       "      <td>0.0</td>\n",
       "      <td>0.0</td>\n",
       "      <td>0.0</td>\n",
       "    </tr>\n",
       "    <tr>\n",
       "      <th>...</th>\n",
       "      <td>...</td>\n",
       "      <td>...</td>\n",
       "      <td>...</td>\n",
       "      <td>...</td>\n",
       "      <td>...</td>\n",
       "      <td>...</td>\n",
       "      <td>...</td>\n",
       "      <td>...</td>\n",
       "      <td>...</td>\n",
       "      <td>...</td>\n",
       "      <td>...</td>\n",
       "      <td>...</td>\n",
       "      <td>...</td>\n",
       "      <td>...</td>\n",
       "    </tr>\n",
       "    <tr>\n",
       "      <th>5813</th>\n",
       "      <td>5814</td>\n",
       "      <td>โฉนด</td>\n",
       "      <td>132258.0</td>\n",
       "      <td>2834</td>\n",
       "      <td>5774</td>\n",
       "      <td>06E038/030</td>\n",
       "      <td>0</td>\n",
       "      <td>0</td>\n",
       "      <td>17.0</td>\n",
       "      <td>0.0</td>\n",
       "      <td>17.0</td>\n",
       "      <td>0.0</td>\n",
       "      <td>0.0</td>\n",
       "      <td>0.0</td>\n",
       "    </tr>\n",
       "    <tr>\n",
       "      <th>5814</th>\n",
       "      <td>5815</td>\n",
       "      <td>โฉนด</td>\n",
       "      <td>132259.0</td>\n",
       "      <td>2835</td>\n",
       "      <td>5775</td>\n",
       "      <td>06E038/031</td>\n",
       "      <td>0</td>\n",
       "      <td>0</td>\n",
       "      <td>17.0</td>\n",
       "      <td>0.0</td>\n",
       "      <td>0.0</td>\n",
       "      <td>0.0</td>\n",
       "      <td>0.0</td>\n",
       "      <td>17.0</td>\n",
       "    </tr>\n",
       "    <tr>\n",
       "      <th>5815</th>\n",
       "      <td>5816</td>\n",
       "      <td>โฉนด</td>\n",
       "      <td>132260.0</td>\n",
       "      <td>2836</td>\n",
       "      <td>5776</td>\n",
       "      <td>06E038/032</td>\n",
       "      <td>0</td>\n",
       "      <td>0</td>\n",
       "      <td>17.0</td>\n",
       "      <td>0.0</td>\n",
       "      <td>0.0</td>\n",
       "      <td>0.0</td>\n",
       "      <td>0.0</td>\n",
       "      <td>17.0</td>\n",
       "    </tr>\n",
       "    <tr>\n",
       "      <th>5816</th>\n",
       "      <td>5817</td>\n",
       "      <td>โฉนด</td>\n",
       "      <td>132261.0</td>\n",
       "      <td>2837</td>\n",
       "      <td>5777</td>\n",
       "      <td>06E038/033</td>\n",
       "      <td>0</td>\n",
       "      <td>0</td>\n",
       "      <td>17.0</td>\n",
       "      <td>0.0</td>\n",
       "      <td>17.0</td>\n",
       "      <td>0.0</td>\n",
       "      <td>0.0</td>\n",
       "      <td>0.0</td>\n",
       "    </tr>\n",
       "    <tr>\n",
       "      <th>5817</th>\n",
       "      <td>5818</td>\n",
       "      <td>โฉนด</td>\n",
       "      <td>132262.0</td>\n",
       "      <td>2838</td>\n",
       "      <td>5778</td>\n",
       "      <td>06E038/034</td>\n",
       "      <td>0</td>\n",
       "      <td>0</td>\n",
       "      <td>17.0</td>\n",
       "      <td>0.0</td>\n",
       "      <td>0.0</td>\n",
       "      <td>0.0</td>\n",
       "      <td>0.0</td>\n",
       "      <td>17.0</td>\n",
       "    </tr>\n",
       "  </tbody>\n",
       "</table>\n",
       "<p>5818 rows × 14 columns</p>\n",
       "</div>"
      ],
      "text/plain": [
       "      order    type document_number parcel_number sub_district_no location_id  \\\n",
       "0         1    โฉนด               -             -            1548      03E003   \n",
       "1         2  อื่น ๆ               -             -               -      05K001   \n",
       "2         3       -               -            24            1691      05K002   \n",
       "3         4  อื่น ๆ               -             -               -      05K003   \n",
       "4         5       -               -             -               -      04A103   \n",
       "...     ...     ...             ...           ...             ...         ...   \n",
       "5813   5814    โฉนด        132258.0          2834            5774  06E038/030   \n",
       "5814   5815    โฉนด        132259.0          2835            5775  06E038/031   \n",
       "5815   5816    โฉนด        132260.0          2836            5776  06E038/032   \n",
       "5816   5817    โฉนด        132261.0          2837            5777  06E038/033   \n",
       "5817   5818    โฉนด        132262.0          2838            5778  06E038/034   \n",
       "\n",
       "      rai  ngan  tarang_wa usage_agriculture usage_living usage_other  \\\n",
       "0       0     0       45.0               0.0         45.0         0.0   \n",
       "1       9     3       26.4               0.0          0.0         0.0   \n",
       "2       0     0        0.0               0.0          0.0         0.0   \n",
       "3       3     0       93.5               0.0          0.0         0.0   \n",
       "4       0     0        0.0               0.0          0.0         0.0   \n",
       "...   ...   ...        ...               ...          ...         ...   \n",
       "5813    0     0       17.0               0.0         17.0         0.0   \n",
       "5814    0     0       17.0               0.0          0.0         0.0   \n",
       "5815    0     0       17.0               0.0          0.0         0.0   \n",
       "5816    0     0       17.0               0.0         17.0         0.0   \n",
       "5817    0     0       17.0               0.0          0.0         0.0   \n",
       "\n",
       "     usage_none usage_misc  \n",
       "0           0.0        0.0  \n",
       "1           0.0        0.0  \n",
       "2           0.0        0.0  \n",
       "3           0.0        0.0  \n",
       "4           0.0        0.0  \n",
       "...         ...        ...  \n",
       "5813        0.0        0.0  \n",
       "5814        0.0       17.0  \n",
       "5815        0.0       17.0  \n",
       "5816        0.0        0.0  \n",
       "5817        0.0       17.0  \n",
       "\n",
       "[5818 rows x 14 columns]"
      ]
     },
     "execution_count": 33,
     "metadata": {},
     "output_type": "execute_result"
    }
   ],
   "source": [
    "# แสดงข้อมูล\n",
    "df_65"
   ]
  },
  {
   "cell_type": "markdown",
   "id": "2edad7da",
   "metadata": {},
   "source": [
    "#### จำแนกลักษณะการทำประโยชน์"
   ]
  },
  {
   "cell_type": "code",
   "execution_count": 34,
   "id": "fd6ea584",
   "metadata": {},
   "outputs": [],
   "source": [
    "# สร้างคอลัมม์ใหม่\n",
    "df_65[\"type_of_usage\"] = pd.Series([float('NaN')] * len(df_65))"
   ]
  },
  {
   "cell_type": "code",
   "execution_count": 35,
   "id": "3c792cab",
   "metadata": {},
   "outputs": [
    {
     "name": "stderr",
     "output_type": "stream",
     "text": [
      "C:\\Users\\NotOte\\AppData\\Local\\Temp\\ipykernel_11776\\28383053.py:2: FutureWarning: Downcasting object dtype arrays on .fillna, .ffill, .bfill is deprecated and will change in a future version. Call result.infer_objects(copy=False) instead. To opt-in to the future behavior, set `pd.set_option('future.no_silent_downcasting', True)`\n",
      "  df_65[df_65[\"usage_agriculture\"] > 0] = df_65[df_65[\"usage_agriculture\"] > 0].fillna(\"agriculture\")\n",
      "C:\\Users\\NotOte\\AppData\\Local\\Temp\\ipykernel_11776\\28383053.py:2: FutureWarning: Setting an item of incompatible dtype is deprecated and will raise an error in a future version of pandas. Value '['agriculture' 'agriculture' 'agriculture' 'agriculture' 'agriculture'\n",
      " 'agriculture' 'agriculture' 'agriculture' 'agriculture' 'agriculture'\n",
      " 'agriculture' 'agriculture' 'agriculture' 'agriculture' 'agriculture'\n",
      " 'agriculture' 'agriculture' 'agriculture' 'agriculture' 'agriculture'\n",
      " 'agriculture' 'agriculture' 'agriculture' 'agriculture' 'agriculture'\n",
      " 'agriculture' 'agriculture' 'agriculture' 'agriculture' 'agriculture'\n",
      " 'agriculture' 'agriculture' 'agriculture' 'agriculture' 'agriculture'\n",
      " 'agriculture' 'agriculture' 'agriculture' 'agriculture' 'agriculture'\n",
      " 'agriculture' 'agriculture' 'agriculture' 'agriculture' 'agriculture'\n",
      " 'agriculture' 'agriculture' 'agriculture' 'agriculture' 'agriculture'\n",
      " 'agriculture' 'agriculture' 'agriculture' 'agriculture' 'agriculture'\n",
      " 'agriculture' 'agriculture' 'agriculture' 'agriculture' 'agriculture'\n",
      " 'agriculture' 'agriculture' 'agriculture' 'agriculture' 'agriculture'\n",
      " 'agriculture' 'agriculture' 'agriculture' 'agriculture' 'agriculture'\n",
      " 'agriculture' 'agriculture' 'agriculture' 'agriculture' 'agriculture'\n",
      " 'agriculture' 'agriculture' 'agriculture' 'agriculture' 'agriculture'\n",
      " 'agriculture' 'agriculture' 'agriculture' 'agriculture' 'agriculture'\n",
      " 'agriculture' 'agriculture' 'agriculture' 'agriculture' 'agriculture'\n",
      " 'agriculture' 'agriculture' 'agriculture' 'agriculture' 'agriculture'\n",
      " 'agriculture' 'agriculture' 'agriculture' 'agriculture' 'agriculture'\n",
      " 'agriculture' 'agriculture' 'agriculture' 'agriculture' 'agriculture'\n",
      " 'agriculture' 'agriculture' 'agriculture' 'agriculture' 'agriculture'\n",
      " 'agriculture' 'agriculture' 'agriculture' 'agriculture' 'agriculture'\n",
      " 'agriculture' 'agriculture' 'agriculture' 'agriculture' 'agriculture'\n",
      " 'agriculture' 'agriculture' 'agriculture' 'agriculture' 'agriculture'\n",
      " 'agriculture' 'agriculture' 'agriculture' 'agriculture' 'agriculture'\n",
      " 'agriculture' 'agriculture' 'agriculture' 'agriculture' 'agriculture'\n",
      " 'agriculture' 'agriculture' 'agriculture' 'agriculture' 'agriculture'\n",
      " 'agriculture' 'agriculture' 'agriculture' 'agriculture' 'agriculture'\n",
      " 'agriculture' 'agriculture' 'agriculture' 'agriculture' 'agriculture'\n",
      " 'agriculture' 'agriculture' 'agriculture' 'agriculture' 'agriculture'\n",
      " 'agriculture' 'agriculture' 'agriculture' 'agriculture' 'agriculture'\n",
      " 'agriculture' 'agriculture' 'agriculture' 'agriculture' 'agriculture'\n",
      " 'agriculture' 'agriculture' 'agriculture' 'agriculture' 'agriculture'\n",
      " 'agriculture' 'agriculture' 'agriculture' 'agriculture' 'agriculture'\n",
      " 'agriculture' 'agriculture' 'agriculture' 'agriculture' 'agriculture'\n",
      " 'agriculture' 'agriculture' 'agriculture' 'agriculture' 'agriculture'\n",
      " 'agriculture' 'agriculture' 'agriculture' 'agriculture' 'agriculture'\n",
      " 'agriculture' 'agriculture' 'agriculture' 'agriculture' 'agriculture'\n",
      " 'agriculture' 'agriculture' 'agriculture' 'agriculture' 'agriculture'\n",
      " 'agriculture' 'agriculture' 'agriculture' 'agriculture' 'agriculture'\n",
      " 'agriculture' 'agriculture' 'agriculture' 'agriculture' 'agriculture'\n",
      " 'agriculture' 'agriculture' 'agriculture' 'agriculture' 'agriculture'\n",
      " 'agriculture' 'agriculture' 'agriculture' 'agriculture' 'agriculture'\n",
      " 'agriculture' 'agriculture' 'agriculture' 'agriculture' 'agriculture'\n",
      " 'agriculture' 'agriculture' 'agriculture' 'agriculture' 'agriculture'\n",
      " 'agriculture' 'agriculture' 'agriculture' 'agriculture' 'agriculture'\n",
      " 'agriculture' 'agriculture' 'agriculture' 'agriculture' 'agriculture'\n",
      " 'agriculture' 'agriculture' 'agriculture' 'agriculture' 'agriculture'\n",
      " 'agriculture' 'agriculture' 'agriculture' 'agriculture' 'agriculture'\n",
      " 'agriculture' 'agriculture' 'agriculture' 'agriculture' 'agriculture'\n",
      " 'agriculture' 'agriculture' 'agriculture' 'agriculture' 'agriculture'\n",
      " 'agriculture' 'agriculture' 'agriculture' 'agriculture' 'agriculture'\n",
      " 'agriculture' 'agriculture' 'agriculture' 'agriculture' 'agriculture'\n",
      " 'agriculture' 'agriculture' 'agriculture' 'agriculture' 'agriculture'\n",
      " 'agriculture' 'agriculture' 'agriculture' 'agriculture' 'agriculture'\n",
      " 'agriculture' 'agriculture' 'agriculture' 'agriculture' 'agriculture'\n",
      " 'agriculture' 'agriculture' 'agriculture' 'agriculture' 'agriculture'\n",
      " 'agriculture' 'agriculture' 'agriculture' 'agriculture' 'agriculture'\n",
      " 'agriculture' 'agriculture' 'agriculture' 'agriculture' 'agriculture'\n",
      " 'agriculture' 'agriculture' 'agriculture' 'agriculture' 'agriculture'\n",
      " 'agriculture' 'agriculture' 'agriculture' 'agriculture' 'agriculture'\n",
      " 'agriculture' 'agriculture' 'agriculture' 'agriculture' 'agriculture'\n",
      " 'agriculture' 'agriculture' 'agriculture' 'agriculture' 'agriculture'\n",
      " 'agriculture' 'agriculture' 'agriculture' 'agriculture' 'agriculture'\n",
      " 'agriculture' 'agriculture' 'agriculture' 'agriculture' 'agriculture'\n",
      " 'agriculture' 'agriculture' 'agriculture' 'agriculture' 'agriculture'\n",
      " 'agriculture' 'agriculture' 'agriculture' 'agriculture' 'agriculture'\n",
      " 'agriculture' 'agriculture' 'agriculture' 'agriculture' 'agriculture'\n",
      " 'agriculture' 'agriculture' 'agriculture' 'agriculture' 'agriculture'\n",
      " 'agriculture' 'agriculture' 'agriculture' 'agriculture' 'agriculture'\n",
      " 'agriculture' 'agriculture' 'agriculture' 'agriculture' 'agriculture'\n",
      " 'agriculture' 'agriculture' 'agriculture' 'agriculture' 'agriculture'\n",
      " 'agriculture' 'agriculture' 'agriculture' 'agriculture' 'agriculture'\n",
      " 'agriculture' 'agriculture' 'agriculture' 'agriculture' 'agriculture'\n",
      " 'agriculture' 'agriculture' 'agriculture' 'agriculture' 'agriculture'\n",
      " 'agriculture' 'agriculture' 'agriculture' 'agriculture' 'agriculture'\n",
      " 'agriculture' 'agriculture' 'agriculture' 'agriculture']' has dtype incompatible with float64, please explicitly cast to a compatible dtype first.\n",
      "  df_65[df_65[\"usage_agriculture\"] > 0] = df_65[df_65[\"usage_agriculture\"] > 0].fillna(\"agriculture\")\n",
      "C:\\Users\\NotOte\\AppData\\Local\\Temp\\ipykernel_11776\\28383053.py:3: FutureWarning: Downcasting object dtype arrays on .fillna, .ffill, .bfill is deprecated and will change in a future version. Call result.infer_objects(copy=False) instead. To opt-in to the future behavior, set `pd.set_option('future.no_silent_downcasting', True)`\n",
      "  df_65[df_65[\"usage_living\"] > 0] = df_65[df_65[\"usage_living\"] > 0].fillna(\"living\")\n",
      "C:\\Users\\NotOte\\AppData\\Local\\Temp\\ipykernel_11776\\28383053.py:4: FutureWarning: Downcasting object dtype arrays on .fillna, .ffill, .bfill is deprecated and will change in a future version. Call result.infer_objects(copy=False) instead. To opt-in to the future behavior, set `pd.set_option('future.no_silent_downcasting', True)`\n",
      "  df_65[df_65[\"usage_other\"] > 0] = df_65[df_65[\"usage_other\"] > 0].fillna(\"other\")\n",
      "C:\\Users\\NotOte\\AppData\\Local\\Temp\\ipykernel_11776\\28383053.py:5: FutureWarning: Downcasting object dtype arrays on .fillna, .ffill, .bfill is deprecated and will change in a future version. Call result.infer_objects(copy=False) instead. To opt-in to the future behavior, set `pd.set_option('future.no_silent_downcasting', True)`\n",
      "  df_65[df_65[\"usage_none\"] > 0] = df_65[df_65[\"usage_none\"] > 0].fillna(\"wasteland\")\n",
      "C:\\Users\\NotOte\\AppData\\Local\\Temp\\ipykernel_11776\\28383053.py:6: FutureWarning: Downcasting object dtype arrays on .fillna, .ffill, .bfill is deprecated and will change in a future version. Call result.infer_objects(copy=False) instead. To opt-in to the future behavior, set `pd.set_option('future.no_silent_downcasting', True)`\n",
      "  df_65[df_65[\"usage_misc\"] > 0] = df_65[df_65[\"usage_misc\"] > 0].fillna(\"misc\")\n"
     ]
    }
   ],
   "source": [
    "# จำแนกลักษณ์การทำประโยชน์จากพื้นที่ใช้งาน ('พื้นที่ประกอบเกษตรกรรม', 'พื้นที่อยู่อาศัย', 'พื้นที่อื่น ๆ', 'พื้นที่ว่างเปล่า', 'พื้นที่ใช้ประโยชน์หลายประเภท' และ 'ไม่ทราบลักษณะการใช้')\n",
    "df_65[df_65[\"usage_agriculture\"] > 0] = df_65[df_65[\"usage_agriculture\"] > 0].fillna(\"agriculture\")\n",
    "df_65[df_65[\"usage_living\"] > 0] = df_65[df_65[\"usage_living\"] > 0].fillna(\"living\")\n",
    "df_65[df_65[\"usage_other\"] > 0] = df_65[df_65[\"usage_other\"] > 0].fillna(\"other\")\n",
    "df_65[df_65[\"usage_none\"] > 0] = df_65[df_65[\"usage_none\"] > 0].fillna(\"wasteland\")\n",
    "df_65[df_65[\"usage_misc\"] > 0] = df_65[df_65[\"usage_misc\"] > 0].fillna(\"misc\")        \n",
    "df_65[\"type_of_usage\"] = df_65[\"type_of_usage\"].fillna(\"unknown\")"
   ]
  },
  {
   "cell_type": "code",
   "execution_count": 36,
   "id": "8c96086a",
   "metadata": {},
   "outputs": [
    {
     "data": {
      "text/html": [
       "<div>\n",
       "<style scoped>\n",
       "    .dataframe tbody tr th:only-of-type {\n",
       "        vertical-align: middle;\n",
       "    }\n",
       "\n",
       "    .dataframe tbody tr th {\n",
       "        vertical-align: top;\n",
       "    }\n",
       "\n",
       "    .dataframe thead th {\n",
       "        text-align: right;\n",
       "    }\n",
       "</style>\n",
       "<table border=\"1\" class=\"dataframe\">\n",
       "  <thead>\n",
       "    <tr style=\"text-align: right;\">\n",
       "      <th></th>\n",
       "      <th>location_id</th>\n",
       "      <th>type_of_usage</th>\n",
       "    </tr>\n",
       "  </thead>\n",
       "  <tbody>\n",
       "    <tr>\n",
       "      <th>0</th>\n",
       "      <td>03E003</td>\n",
       "      <td>living</td>\n",
       "    </tr>\n",
       "    <tr>\n",
       "      <th>1</th>\n",
       "      <td>05K001</td>\n",
       "      <td>unknown</td>\n",
       "    </tr>\n",
       "    <tr>\n",
       "      <th>2</th>\n",
       "      <td>05K002</td>\n",
       "      <td>unknown</td>\n",
       "    </tr>\n",
       "    <tr>\n",
       "      <th>3</th>\n",
       "      <td>05K003</td>\n",
       "      <td>unknown</td>\n",
       "    </tr>\n",
       "    <tr>\n",
       "      <th>4</th>\n",
       "      <td>04A103</td>\n",
       "      <td>unknown</td>\n",
       "    </tr>\n",
       "    <tr>\n",
       "      <th>...</th>\n",
       "      <td>...</td>\n",
       "      <td>...</td>\n",
       "    </tr>\n",
       "    <tr>\n",
       "      <th>5813</th>\n",
       "      <td>06E038/030</td>\n",
       "      <td>living</td>\n",
       "    </tr>\n",
       "    <tr>\n",
       "      <th>5814</th>\n",
       "      <td>06E038/031</td>\n",
       "      <td>misc</td>\n",
       "    </tr>\n",
       "    <tr>\n",
       "      <th>5815</th>\n",
       "      <td>06E038/032</td>\n",
       "      <td>misc</td>\n",
       "    </tr>\n",
       "    <tr>\n",
       "      <th>5816</th>\n",
       "      <td>06E038/033</td>\n",
       "      <td>living</td>\n",
       "    </tr>\n",
       "    <tr>\n",
       "      <th>5817</th>\n",
       "      <td>06E038/034</td>\n",
       "      <td>misc</td>\n",
       "    </tr>\n",
       "  </tbody>\n",
       "</table>\n",
       "<p>5818 rows × 2 columns</p>\n",
       "</div>"
      ],
      "text/plain": [
       "     location_id type_of_usage\n",
       "0         03E003        living\n",
       "1         05K001       unknown\n",
       "2         05K002       unknown\n",
       "3         05K003       unknown\n",
       "4         04A103       unknown\n",
       "...          ...           ...\n",
       "5813  06E038/030        living\n",
       "5814  06E038/031          misc\n",
       "5815  06E038/032          misc\n",
       "5816  06E038/033        living\n",
       "5817  06E038/034          misc\n",
       "\n",
       "[5818 rows x 2 columns]"
      ]
     },
     "execution_count": 36,
     "metadata": {},
     "output_type": "execute_result"
    }
   ],
   "source": [
    "# แสดงข้อมูลโดยจำแนกออกมาแค่ รหัสแปลงที่ดิน และ ลักษณะการใช้ประโยชน์\n",
    "# พื้นที่ประกอบเกษตรกรรม : agriculture, พื้นที่อยู่อาศัย : living, พื้นที่อื่น ๆ : other, \n",
    "# พื้นที่ว่างเปล่า : wasteland, พื้นที่ใช้ประโยชน์หลายประเภท : misc และ ไม่ทราบลักษณะการใช้ : unknown\n",
    "\n",
    "df_65[ ['location_id', 'type_of_usage'] ]"
   ]
  },
  {
   "cell_type": "markdown",
   "id": "b8c77423",
   "metadata": {},
   "source": [
    "## วิเคราะห์ข้อมูลและรายงานผล"
   ]
  },
  {
   "cell_type": "markdown",
   "id": "2a58966f",
   "metadata": {},
   "source": [
    "#### จากแบบบัญชีรายการที่ดิน เทศบาลเมืองลำพูน อำเภอเมือง จังหวัดลำพูน ในปี 2565 มีที่ดิน 5818 ที่"
   ]
  },
  {
   "cell_type": "code",
   "execution_count": 37,
   "id": "17771c6e",
   "metadata": {
    "scrolled": true
   },
   "outputs": [
    {
     "data": {
      "text/plain": [
       "5818"
      ]
     },
     "execution_count": 37,
     "metadata": {},
     "output_type": "execute_result"
    }
   ],
   "source": [
    "land = len(df_65) \n",
    "land"
   ]
  },
  {
   "cell_type": "markdown",
   "id": "f340e4ee",
   "metadata": {},
   "source": [
    "### ที่ดินสามารถจำแนกจากลักษณะการทำประโยชน์ 6 รายการ ได้แก่ ประกอบการเกษตร, ใช้เพื่ออยู่อาศัย, อื่น ๆ , ไม่ใช้ประโยชน์, ใช้ประโยชน์หลายประเภท และ ไม่ทราบลักษณะการใช้"
   ]
  },
  {
   "cell_type": "markdown",
   "id": "c966fa28",
   "metadata": {},
   "source": [
    "#### มีพื้นที่ประกอบเกษตรกรรม 389 พื้นที่ คิดเป็น 6.6861 เปอร์เซ็นของพื้นที่ทั้งหมดในอำเภอเมือง จังหวัดลำพูน"
   ]
  },
  {
   "cell_type": "code",
   "execution_count": 38,
   "id": "dc9532c7",
   "metadata": {},
   "outputs": [
    {
     "data": {
      "text/plain": [
       "389"
      ]
     },
     "execution_count": 38,
     "metadata": {},
     "output_type": "execute_result"
    }
   ],
   "source": [
    "len(df_65[df_65[\"type_of_usage\"] == \"agriculture\"])"
   ]
  },
  {
   "cell_type": "code",
   "execution_count": 39,
   "id": "73552108",
   "metadata": {},
   "outputs": [
    {
     "data": {
      "text/plain": [
       "6.686146442076314"
      ]
     },
     "execution_count": 39,
     "metadata": {},
     "output_type": "execute_result"
    }
   ],
   "source": [
    "(len(df_65[df_65[\"type_of_usage\"] == \"agriculture\"]) / land) * 100  "
   ]
  },
  {
   "cell_type": "markdown",
   "id": "9db6c2dc",
   "metadata": {},
   "source": [
    "#### มีพื้นที่อยู่อาศัย 3598 พื้นที่ คิดเป็น 61.8426 เปอร์เซ็นของพื้นที่ทั้งหมดในอำเภอเมือง จังหวัดลำพูน "
   ]
  },
  {
   "cell_type": "code",
   "execution_count": 40,
   "id": "23ae990e",
   "metadata": {},
   "outputs": [
    {
     "data": {
      "text/plain": [
       "3598"
      ]
     },
     "execution_count": 40,
     "metadata": {},
     "output_type": "execute_result"
    }
   ],
   "source": [
    "len(df_65[df_65[\"type_of_usage\"] == \"living\"]) "
   ]
  },
  {
   "cell_type": "code",
   "execution_count": 41,
   "id": "015d648a",
   "metadata": {
    "scrolled": false
   },
   "outputs": [
    {
     "data": {
      "text/plain": [
       "61.842557579924375"
      ]
     },
     "execution_count": 41,
     "metadata": {},
     "output_type": "execute_result"
    }
   ],
   "source": [
    "len(df_65[df_65[\"type_of_usage\"] == \"living\"]) / land * 100"
   ]
  },
  {
   "cell_type": "markdown",
   "id": "830a351d",
   "metadata": {},
   "source": [
    "#### มีพื้นที่อื่น ๆ 627 พื้นที่ คิดเป็น 10.7769 เปอร์เซ็นของพื้นที่ทั้งหมดในอำเภอเมือง จังหวัดลำพูน"
   ]
  },
  {
   "cell_type": "code",
   "execution_count": 42,
   "id": "7887a51c",
   "metadata": {},
   "outputs": [
    {
     "data": {
      "text/plain": [
       "627"
      ]
     },
     "execution_count": 42,
     "metadata": {},
     "output_type": "execute_result"
    }
   ],
   "source": [
    "len(df_65[df_65[\"type_of_usage\"] == \"other\"])"
   ]
  },
  {
   "cell_type": "code",
   "execution_count": 43,
   "id": "2356fcdd",
   "metadata": {},
   "outputs": [
    {
     "data": {
      "text/plain": [
       "10.77689927810244"
      ]
     },
     "execution_count": 43,
     "metadata": {},
     "output_type": "execute_result"
    }
   ],
   "source": [
    "len(df_65[df_65[\"type_of_usage\"] == \"other\"]) / land * 100"
   ]
  },
  {
   "cell_type": "markdown",
   "id": "90e203a4",
   "metadata": {},
   "source": [
    "#### มีพื้นที่ว่างเปล่า/ไม่ทำประโยชน์ 596 พื้นที่ คิดเป็น 10.2441 เปอร์เซ็นของพื้นที่ทั้งหมดในอำเภอเมือง จังหวัดลำพูน"
   ]
  },
  {
   "cell_type": "code",
   "execution_count": 44,
   "id": "26f3ce67",
   "metadata": {},
   "outputs": [
    {
     "data": {
      "text/plain": [
       "596"
      ]
     },
     "execution_count": 44,
     "metadata": {},
     "output_type": "execute_result"
    }
   ],
   "source": [
    "len(df_65[df_65[\"type_of_usage\"] == \"wasteland\"])"
   ]
  },
  {
   "cell_type": "code",
   "execution_count": 45,
   "id": "6fca2306",
   "metadata": {},
   "outputs": [
    {
     "data": {
      "text/plain": [
       "10.244070127191476"
      ]
     },
     "execution_count": 45,
     "metadata": {},
     "output_type": "execute_result"
    }
   ],
   "source": [
    "len(df_65[df_65[\"type_of_usage\"] == \"wasteland\"]) / land * 100"
   ]
  },
  {
   "cell_type": "markdown",
   "id": "445e06a2",
   "metadata": {},
   "source": [
    "#### และมีพื้นที่ใช้ประโยชน์หลายประเภท 548 พื้นที่ คิดเป็น 9.4191 เปอร์เซ็นของพื้นที่ทั้งหมดในอำเภอเมือง จังหวัดลำพูน"
   ]
  },
  {
   "cell_type": "code",
   "execution_count": 46,
   "id": "29fbd8e4",
   "metadata": {},
   "outputs": [
    {
     "data": {
      "text/plain": [
       "548"
      ]
     },
     "execution_count": 46,
     "metadata": {},
     "output_type": "execute_result"
    }
   ],
   "source": [
    "len(df_65[df_65[\"type_of_usage\"] == \"misc\"])"
   ]
  },
  {
   "cell_type": "code",
   "execution_count": 47,
   "id": "565ea756",
   "metadata": {
    "scrolled": false
   },
   "outputs": [
    {
     "data": {
      "text/plain": [
       "9.419044345135784"
      ]
     },
     "execution_count": 47,
     "metadata": {},
     "output_type": "execute_result"
    }
   ],
   "source": [
    "len(df_65[df_65[\"type_of_usage\"] == \"misc\"]) / land * 100"
   ]
  },
  {
   "cell_type": "markdown",
   "id": "30a87b5c",
   "metadata": {},
   "source": [
    "#### และมีพื้นที่ไม่ทราบลักษณะการใช้ 60 พื้นที่ คิดเป็น 1.0313 เปอร์เซ็นของพื้นที่ทั้งหมดในอำเภอเมือง จังหวัดลำพูน"
   ]
  },
  {
   "cell_type": "code",
   "execution_count": 48,
   "id": "a16e8462",
   "metadata": {},
   "outputs": [
    {
     "data": {
      "text/plain": [
       "60"
      ]
     },
     "execution_count": 48,
     "metadata": {},
     "output_type": "execute_result"
    }
   ],
   "source": [
    "len(df_65[df_65[\"type_of_usage\"] == \"unknown\"])"
   ]
  },
  {
   "cell_type": "code",
   "execution_count": 49,
   "id": "e10249bd",
   "metadata": {},
   "outputs": [
    {
     "data": {
      "text/plain": [
       "1.0312822275696116"
      ]
     },
     "execution_count": 49,
     "metadata": {},
     "output_type": "execute_result"
    }
   ],
   "source": [
    "len(df_65[df_65[\"type_of_usage\"] == \"unknown\"]) / land * 100"
   ]
  },
  {
   "cell_type": "markdown",
   "id": "ce3527d5",
   "metadata": {},
   "source": [
    "#### จากข้อมูลข้างต้น สามารถนำมาแสดงเป็นแผนภาพได้ดังนี้"
   ]
  },
  {
   "cell_type": "code",
   "execution_count": 50,
   "id": "756bd0d3",
   "metadata": {
    "scrolled": true
   },
   "outputs": [
    {
     "data": {
      "image/png": "[encoded data removed]",
      "text/plain": [
       "<Figure size 640x480 with 1 Axes>"
      ]
     },
     "metadata": {},
     "output_type": "display_data"
    }
   ],
   "source": [
    "from matplotlib import pyplot as plt\n",
    "from matplotlib.font_manager import FontProperties\n",
    "\n",
    "plt.rcParams[\"font.family\"] = \"Cordia New\"\n",
    "plt.rcParams[\"font.serif\"] = \"Cordia New\"\n",
    "\n",
    "# สร้างกราฟ\n",
    "data = [ len(df_65[df_65[\"type_of_usage\"] == \"agriculture\"]),\n",
    "         len(df_65[df_65[\"type_of_usage\"] == \"living\"]), \n",
    "         len(df_65[df_65[\"type_of_usage\"] == \"other\"]), \n",
    "         len(df_65[df_65[\"type_of_usage\"] == \"wasteland\"]), \n",
    "         len(df_65[df_65[\"type_of_usage\"] == \"misc\"]),\n",
    "         len(df_65[df_65[\"type_of_usage\"] == \"unknown\"])\n",
    "       ]\n",
    "labels = ['ประกอบเกษตรกรรม','อยู่อาศัย ','อื่น ๆ','ว่างเปล่า/ไม่ทำประโยชน์','ใช้ประโยชน์หลากหลาย', 'ไม่ทราบลักษณะการใช้'] \n",
    "\n",
    "plt.pie(data, labels=labels, autopct='%1.1f%%')\n",
    "plt.show()"
   ]
  },
  {
   "cell_type": "markdown",
   "id": "3029d508",
   "metadata": {},
   "source": [
    "##  ข้อมูลเฉพาะลักษณะการใช้ประโยชน์แบบประกอบเกษตรกรรม"
   ]
  },
  {
   "cell_type": "markdown",
   "id": "1e191367",
   "metadata": {},
   "source": [
    "#### ดูข้อมูลทั้งหมด"
   ]
  },
  {
   "cell_type": "code",
   "execution_count": 51,
   "id": "1181abad",
   "metadata": {
    "scrolled": true
   },
   "outputs": [
    {
     "data": {
      "text/html": [
       "<div>\n",
       "<style scoped>\n",
       "    .dataframe tbody tr th:only-of-type {\n",
       "        vertical-align: middle;\n",
       "    }\n",
       "\n",
       "    .dataframe tbody tr th {\n",
       "        vertical-align: top;\n",
       "    }\n",
       "\n",
       "    .dataframe thead th {\n",
       "        text-align: right;\n",
       "    }\n",
       "</style>\n",
       "<table border=\"1\" class=\"dataframe\">\n",
       "  <thead>\n",
       "    <tr style=\"text-align: right;\">\n",
       "      <th></th>\n",
       "      <th>order</th>\n",
       "      <th>type</th>\n",
       "      <th>document_number</th>\n",
       "      <th>parcel_number</th>\n",
       "      <th>sub_district_no</th>\n",
       "      <th>location_id</th>\n",
       "      <th>rai</th>\n",
       "      <th>ngan</th>\n",
       "      <th>tarang_wa</th>\n",
       "      <th>usage_agriculture</th>\n",
       "      <th>usage_living</th>\n",
       "      <th>usage_other</th>\n",
       "      <th>usage_none</th>\n",
       "      <th>usage_misc</th>\n",
       "      <th>type_of_usage</th>\n",
       "    </tr>\n",
       "  </thead>\n",
       "  <tbody>\n",
       "    <tr>\n",
       "      <th>43</th>\n",
       "      <td>44</td>\n",
       "      <td>โฉนด</td>\n",
       "      <td>24.0</td>\n",
       "      <td>2097</td>\n",
       "      <td>34</td>\n",
       "      <td>04A102</td>\n",
       "      <td>0</td>\n",
       "      <td>2</td>\n",
       "      <td>2.8</td>\n",
       "      <td>202.8</td>\n",
       "      <td>0.0</td>\n",
       "      <td>0.0</td>\n",
       "      <td>0.0</td>\n",
       "      <td>0.0</td>\n",
       "      <td>agriculture</td>\n",
       "    </tr>\n",
       "    <tr>\n",
       "      <th>56</th>\n",
       "      <td>57</td>\n",
       "      <td>โฉนด</td>\n",
       "      <td>37.0</td>\n",
       "      <td>549</td>\n",
       "      <td>68</td>\n",
       "      <td>04B032</td>\n",
       "      <td>0</td>\n",
       "      <td>1</td>\n",
       "      <td>12.0</td>\n",
       "      <td>112.0</td>\n",
       "      <td>0.0</td>\n",
       "      <td>0.0</td>\n",
       "      <td>0.0</td>\n",
       "      <td>0.0</td>\n",
       "      <td>agriculture</td>\n",
       "    </tr>\n",
       "    <tr>\n",
       "      <th>147</th>\n",
       "      <td>148</td>\n",
       "      <td>โฉนด</td>\n",
       "      <td>131.0</td>\n",
       "      <td>2232</td>\n",
       "      <td>364</td>\n",
       "      <td>02L067</td>\n",
       "      <td>0</td>\n",
       "      <td>1</td>\n",
       "      <td>70.0</td>\n",
       "      <td>170.0</td>\n",
       "      <td>0.0</td>\n",
       "      <td>0.0</td>\n",
       "      <td>0.0</td>\n",
       "      <td>0.0</td>\n",
       "      <td>agriculture</td>\n",
       "    </tr>\n",
       "    <tr>\n",
       "      <th>212</th>\n",
       "      <td>213</td>\n",
       "      <td>โฉนด</td>\n",
       "      <td>197.0</td>\n",
       "      <td>2243</td>\n",
       "      <td>372</td>\n",
       "      <td>02L053</td>\n",
       "      <td>0</td>\n",
       "      <td>0</td>\n",
       "      <td>76.3</td>\n",
       "      <td>76.3</td>\n",
       "      <td>0.0</td>\n",
       "      <td>0.0</td>\n",
       "      <td>0.0</td>\n",
       "      <td>0.0</td>\n",
       "      <td>agriculture</td>\n",
       "    </tr>\n",
       "    <tr>\n",
       "      <th>224</th>\n",
       "      <td>225</td>\n",
       "      <td>โฉนด</td>\n",
       "      <td>209.0</td>\n",
       "      <td>2192</td>\n",
       "      <td>384</td>\n",
       "      <td>02L032</td>\n",
       "      <td>0</td>\n",
       "      <td>0</td>\n",
       "      <td>61.4</td>\n",
       "      <td>61.4</td>\n",
       "      <td>0.0</td>\n",
       "      <td>0.0</td>\n",
       "      <td>0.0</td>\n",
       "      <td>0.0</td>\n",
       "      <td>agriculture</td>\n",
       "    </tr>\n",
       "    <tr>\n",
       "      <th>...</th>\n",
       "      <td>...</td>\n",
       "      <td>...</td>\n",
       "      <td>...</td>\n",
       "      <td>...</td>\n",
       "      <td>...</td>\n",
       "      <td>...</td>\n",
       "      <td>...</td>\n",
       "      <td>...</td>\n",
       "      <td>...</td>\n",
       "      <td>...</td>\n",
       "      <td>...</td>\n",
       "      <td>...</td>\n",
       "      <td>...</td>\n",
       "      <td>...</td>\n",
       "      <td>...</td>\n",
       "    </tr>\n",
       "    <tr>\n",
       "      <th>5729</th>\n",
       "      <td>5730</td>\n",
       "      <td>โฉนด</td>\n",
       "      <td>130393.0</td>\n",
       "      <td>2097</td>\n",
       "      <td>5491</td>\n",
       "      <td>06K001/016</td>\n",
       "      <td>2</td>\n",
       "      <td>3</td>\n",
       "      <td>35.9</td>\n",
       "      <td>1135.9</td>\n",
       "      <td>0.0</td>\n",
       "      <td>0.0</td>\n",
       "      <td>0.0</td>\n",
       "      <td>0.0</td>\n",
       "      <td>agriculture</td>\n",
       "    </tr>\n",
       "    <tr>\n",
       "      <th>5750</th>\n",
       "      <td>5751</td>\n",
       "      <td>โฉนด</td>\n",
       "      <td>130954.0</td>\n",
       "      <td>2806</td>\n",
       "      <td>5511</td>\n",
       "      <td>06A062/003</td>\n",
       "      <td>0</td>\n",
       "      <td>0</td>\n",
       "      <td>38.4</td>\n",
       "      <td>38.4</td>\n",
       "      <td>0.0</td>\n",
       "      <td>0.0</td>\n",
       "      <td>0.0</td>\n",
       "      <td>0.0</td>\n",
       "      <td>agriculture</td>\n",
       "    </tr>\n",
       "    <tr>\n",
       "      <th>5751</th>\n",
       "      <td>5752</td>\n",
       "      <td>โฉนด</td>\n",
       "      <td>131184.0</td>\n",
       "      <td>1044</td>\n",
       "      <td>5514</td>\n",
       "      <td>02F010/001</td>\n",
       "      <td>0</td>\n",
       "      <td>0</td>\n",
       "      <td>81.9</td>\n",
       "      <td>81.9</td>\n",
       "      <td>0.0</td>\n",
       "      <td>0.0</td>\n",
       "      <td>0.0</td>\n",
       "      <td>0.0</td>\n",
       "      <td>agriculture</td>\n",
       "    </tr>\n",
       "    <tr>\n",
       "      <th>5754</th>\n",
       "      <td>5755</td>\n",
       "      <td>โฉนด</td>\n",
       "      <td>131244.0</td>\n",
       "      <td>2164</td>\n",
       "      <td>13521</td>\n",
       "      <td>05C051/016</td>\n",
       "      <td>0</td>\n",
       "      <td>0</td>\n",
       "      <td>83.1</td>\n",
       "      <td>83.1</td>\n",
       "      <td>0.0</td>\n",
       "      <td>0.0</td>\n",
       "      <td>0.0</td>\n",
       "      <td>0.0</td>\n",
       "      <td>agriculture</td>\n",
       "    </tr>\n",
       "    <tr>\n",
       "      <th>5764</th>\n",
       "      <td>5765</td>\n",
       "      <td>โฉนด</td>\n",
       "      <td>131804.0</td>\n",
       "      <td>286</td>\n",
       "      <td>5527</td>\n",
       "      <td>06B012/006</td>\n",
       "      <td>0</td>\n",
       "      <td>0</td>\n",
       "      <td>28.2</td>\n",
       "      <td>28.2</td>\n",
       "      <td>0.0</td>\n",
       "      <td>0.0</td>\n",
       "      <td>0.0</td>\n",
       "      <td>0.0</td>\n",
       "      <td>agriculture</td>\n",
       "    </tr>\n",
       "  </tbody>\n",
       "</table>\n",
       "<p>389 rows × 15 columns</p>\n",
       "</div>"
      ],
      "text/plain": [
       "      order  type document_number parcel_number sub_district_no location_id  \\\n",
       "43       44  โฉนด            24.0          2097              34      04A102   \n",
       "56       57  โฉนด            37.0           549              68      04B032   \n",
       "147     148  โฉนด           131.0          2232             364      02L067   \n",
       "212     213  โฉนด           197.0          2243             372      02L053   \n",
       "224     225  โฉนด           209.0          2192             384      02L032   \n",
       "...     ...   ...             ...           ...             ...         ...   \n",
       "5729   5730  โฉนด        130393.0          2097            5491  06K001/016   \n",
       "5750   5751  โฉนด        130954.0          2806            5511  06A062/003   \n",
       "5751   5752  โฉนด        131184.0          1044            5514  02F010/001   \n",
       "5754   5755  โฉนด        131244.0          2164           13521  05C051/016   \n",
       "5764   5765  โฉนด        131804.0           286            5527  06B012/006   \n",
       "\n",
       "      rai  ngan  tarang_wa usage_agriculture usage_living usage_other  \\\n",
       "43      0     2        2.8             202.8          0.0         0.0   \n",
       "56      0     1       12.0             112.0          0.0         0.0   \n",
       "147     0     1       70.0             170.0          0.0         0.0   \n",
       "212     0     0       76.3              76.3          0.0         0.0   \n",
       "224     0     0       61.4              61.4          0.0         0.0   \n",
       "...   ...   ...        ...               ...          ...         ...   \n",
       "5729    2     3       35.9            1135.9          0.0         0.0   \n",
       "5750    0     0       38.4              38.4          0.0         0.0   \n",
       "5751    0     0       81.9              81.9          0.0         0.0   \n",
       "5754    0     0       83.1              83.1          0.0         0.0   \n",
       "5764    0     0       28.2              28.2          0.0         0.0   \n",
       "\n",
       "     usage_none usage_misc type_of_usage  \n",
       "43          0.0        0.0   agriculture  \n",
       "56          0.0        0.0   agriculture  \n",
       "147         0.0        0.0   agriculture  \n",
       "212         0.0        0.0   agriculture  \n",
       "224         0.0        0.0   agriculture  \n",
       "...         ...        ...           ...  \n",
       "5729        0.0        0.0   agriculture  \n",
       "5750        0.0        0.0   agriculture  \n",
       "5751        0.0        0.0   agriculture  \n",
       "5754        0.0        0.0   agriculture  \n",
       "5764        0.0        0.0   agriculture  \n",
       "\n",
       "[389 rows x 15 columns]"
      ]
     },
     "execution_count": 51,
     "metadata": {},
     "output_type": "execute_result"
    }
   ],
   "source": [
    "df_65[\"type\"] = df_65[\"type\"].replace(\"-\", \"ไม่ระบุ\")\n",
    "agricultrue_land = df_65[df_65[\"type_of_usage\"] == \"agriculture\"]\n",
    "agricultrue_land"
   ]
  },
  {
   "cell_type": "markdown",
   "id": "fcde592a",
   "metadata": {},
   "source": [
    "#### จำนวนที่ดินที่ประกอบเกษตรกรรม"
   ]
  },
  {
   "cell_type": "code",
   "execution_count": 52,
   "id": "4caa22b9",
   "metadata": {},
   "outputs": [
    {
     "data": {
      "text/plain": [
       "389"
      ]
     },
     "execution_count": 52,
     "metadata": {},
     "output_type": "execute_result"
    }
   ],
   "source": [
    "len(agricultrue_land) # 389 ที่"
   ]
  },
  {
   "cell_type": "markdown",
   "id": "c29a2011",
   "metadata": {},
   "source": [
    "#### ดูข้อมูลทั้งหมดจำแนกแยกด้วยประเภท"
   ]
  },
  {
   "cell_type": "code",
   "execution_count": 53,
   "id": "c878a581",
   "metadata": {},
   "outputs": [
    {
     "data": {
      "text/plain": [
       "type\n",
       "ที่ราชพัสดุ       9\n",
       "น.ส.3            15\n",
       "น.ส.ล.            2\n",
       "อื่น ๆ            2\n",
       "โฉนด           5779\n",
       "ไม่ระบุ          11\n",
       "dtype: int64"
      ]
     },
     "execution_count": 53,
     "metadata": {},
     "output_type": "execute_result"
    }
   ],
   "source": [
    "df_65.groupby('type').size()"
   ]
  },
  {
   "cell_type": "code",
   "execution_count": 54,
   "id": "8210eaf0",
   "metadata": {},
   "outputs": [
    {
     "data": {
      "text/plain": [
       "type\n",
       "โฉนด    389\n",
       "dtype: int64"
      ]
     },
     "execution_count": 54,
     "metadata": {},
     "output_type": "execute_result"
    }
   ],
   "source": [
    "agricultrue_land.groupby('type').size()\n",
    "\n",
    "# โฉนด 389 ที่"
   ]
  },
  {
   "cell_type": "markdown",
   "id": "ae51c63c",
   "metadata": {},
   "source": [
    "#### สามารถดาวน์โหลดไฟล์ csv โดยการนำ '#' ออกและกดรันโปรแกรม"
   ]
  },
  {
   "cell_type": "code",
   "execution_count": 55,
   "id": "fd5f5daa",
   "metadata": {},
   "outputs": [],
   "source": [
    "# df_65.to_csv('target/data2565.csv', index=False)"
   ]
  },
  {
   "cell_type": "code",
   "execution_count": 56,
   "id": "eec8fac5",
   "metadata": {},
   "outputs": [
    {
     "name": "stderr",
     "output_type": "stream",
     "text": [
      "C:\\Users\\NotOte\\AppData\\Local\\Temp\\ipykernel_11776\\1798198512.py:1: FutureWarning: Setting an item of incompatible dtype is deprecated and will raise in a future error of pandas. Value '0       45.0\n",
      "1       26.4\n",
      "2          -\n",
      "3       93.5\n",
      "4          -\n",
      "        ... \n",
      "5813    17.0\n",
      "5814    17.0\n",
      "5815    17.0\n",
      "5816    17.0\n",
      "5817    17.0\n",
      "Name: tarang_wa, Length: 5818, dtype: object' has dtype incompatible with float64, please explicitly cast to a compatible dtype first.\n",
      "  df_65.iloc[:, 8:] = df_65.iloc[:, 8:].replace(0,'-')\n"
     ]
    }
   ],
   "source": [
    "df_65.iloc[:, 8:] = df_65.iloc[:, 8:].replace(0,'-')\n",
    "df_65.iloc[:, -1] = df_65.iloc[:, -1].replace(\"agriculture\", \"ประกอบเกษตรกรรม\")\n",
    "df_65.iloc[:, -1] = df_65.iloc[:, -1].replace(\"living\", \"อยู่อาศัย\")\n",
    "df_65.iloc[:, -1] = df_65.iloc[:, -1].replace(\"other\", \"อื่น ๆ\")\n",
    "df_65.iloc[:, -1] = df_65.iloc[:, -1].replace(\"wasteland\", \"ว่างเปล่า/ไม่ทำประโยชน์\")\n",
    "df_65.iloc[:, -1] = df_65.iloc[:, -1].replace(\"misc\", \"ใช้ประโยชน์หลากหลาย\")\n",
    "df_65.iloc[:, -1] = df_65.iloc[:, -1].replace(\"unknown\", \"ไม่ทราบลักษณะการใช้ \")"
   ]
  },
  {
   "cell_type": "code",
   "execution_count": 57,
   "id": "22b0450a",
   "metadata": {},
   "outputs": [],
   "source": [
    "df_65 = df_65.rename(columns={\n",
    "                    \"order\": \"ที่\", \n",
    "                    \"type\": \"ประเภทที่ดิน\", \n",
    "                    \"document_number\": \"เลขที่เอกสารสิทธิ์\",\n",
    "                    \"parcel_number\": \"เลขที่ดิน\",\n",
    "                    \"sub_district_no\" : \"หน้าสำรวจ\",\n",
    "                    \"location_id\" : \"รหัสแปลงที่ดิน\",\n",
    "                    \"rai\" : \"ไร่\",\n",
    "                    \"ngan\" : \"งาน\",\n",
    "                    \"tarang_wa\" : \"ตร.ว.\",\n",
    "                    \"usage_agriculture\" : \"ประกอบเกษตรกรรม (ตร.ว.)\",\n",
    "                    \"usage_living\" : \"อยู่อาศัย (ตร.ว.)\",\n",
    "                    \"usage_other\" : \"อื่น ๆ (ตร.ว.)\",\n",
    "                    \"usage_none\" : \"ว่างเปล่า/ไม่ทำประโยชน์ (ตร.ว.)\",\n",
    "                    \"usage_misc\" : \"ใช้ประโยชน์หลากหลาย (ตร.ว.)\",\n",
    "                    \"type_of_usage\" : \"ลักษณะการทำประโยชน์\"\n",
    "                    }, errors=\"raise\")"
   ]
  },
  {
   "cell_type": "markdown",
   "id": "b6674951",
   "metadata": {},
   "source": [
    "#### สามารถดาวน์โหลดไฟล์ csv (เฉพาะพื้นที่เกษตรกรรม) โดยการนำ '#' ออกและกดรันโปรแกรม"
   ]
  },
  {
   "cell_type": "code",
   "execution_count": 58,
   "id": "c081ff0a",
   "metadata": {},
   "outputs": [],
   "source": [
    "df_65[df_65[\"ลักษณะการทำประโยชน์\"] == \"ประกอบเกษตรกรรม\"].to_csv('../result/พื้นที่ประกอบเกษตรกรรม/2565/พื้นที่ประกอบเกษตรกรรม2565.csv', index=False)"
   ]
  },
  {
   "cell_type": "markdown",
   "id": "c4a7d8bb",
   "metadata": {},
   "source": [
    "#### สามารถดาวน์โหลดไฟล์ excel โดยการนำ '#' ออกและกดรันโปรแกรม"
   ]
  },
  {
   "cell_type": "code",
   "execution_count": 59,
   "id": "a92c36b1",
   "metadata": {},
   "outputs": [],
   "source": [
    "df_65[df_65[\"ลักษณะการทำประโยชน์\"] == \"ประกอบเกษตรกรรม\"].to_excel('../result/พื้นที่ประกอบเกษตรกรรม/2565/พื้นที่ประกอบเกษตรกรรม2565.xlsx', index=False)"
   ]
  },
  {
   "cell_type": "markdown",
   "id": "165716ac",
   "metadata": {},
   "source": [
    "#### สามารถดาวน์โหลดไฟล์ csv (เฉพาะพื้นที่รกร้าง) โดยการนำ '#' ออกและกดรันโปรแกรม"
   ]
  },
  {
   "cell_type": "code",
   "execution_count": 60,
   "id": "7829f5a8",
   "metadata": {},
   "outputs": [],
   "source": [
    "df_65[df_65[\"ลักษณะการทำประโยชน์\"] == \"ว่างเปล่า/ไม่ทำประโยชน์\"].to_csv('../result/พื้นที่ประกอบเกษตรกรรม/2565/พื้นที่รกร้าง2565.csv', index=False)"
   ]
  },
  {
   "cell_type": "markdown",
   "id": "8bc6204c",
   "metadata": {},
   "source": [
    "#### สามารถดาวน์โหลดไฟล์ excel (เฉพาะพื้นที่รกร้าง) โดยการนำ '#' ออกและกดรันโปรแกรม"
   ]
  },
  {
   "cell_type": "code",
   "execution_count": 61,
   "id": "3c6e8d8f",
   "metadata": {},
   "outputs": [],
   "source": [
    "df_65[df_65[\"ลักษณะการทำประโยชน์\"] == \"ว่างเปล่า/ไม่ทำประโยชน์\"].to_excel('../result/พื้นที่ประกอบเกษตรกรรม/2565/พื้นที่รกร้าง2565.xlsx', index=False)"
   ]
  },
  {
   "cell_type": "markdown",
   "id": "53660c92",
   "metadata": {},
   "source": [
    "----"
   ]
  },
  {
   "cell_type": "code",
   "execution_count": 62,
   "id": "9452ed4c",
   "metadata": {},
   "outputs": [
    {
     "data": {
      "image/png": "[encoded data removed]",
      "text/plain": [
       "<Figure size 640x480 with 1 Axes>"
      ]
     },
     "metadata": {},
     "output_type": "display_data"
    }
   ],
   "source": [
    "value_counts = df_65[\"ลักษณะการทำประโยชน์\"].value_counts() \n",
    "value_counts.plot(kind=\"bar\")\n",
    "plt.title(\"การใช้ที่ดิน 2565\")\n",
    "plt.xlabel(\"ลักษณะการทำประโยชน์\")\n",
    "plt.ylabel(\"จำนวนที่ดิน\")\n",
    "plt.show()"
   ]
  }
 ],
 "metadata": {
  "kernelspec": {
   "display_name": "Python 3 (ipykernel)",
   "language": "python",
   "name": "python3"
  },
  "language_info": {
   "codemirror_mode": {
    "name": "ipython",
    "version": 3
   },
   "file_extension": ".py",
   "mimetype": "text/x-python",
   "name": "python",
   "nbconvert_exporter": "python",
   "pygments_lexer": "ipython3",
   "version": "3.9.5"
  }
 },
 "nbformat": 4,
 "nbformat_minor": 5
}
